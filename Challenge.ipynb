{
  "nbformat": 4,
  "nbformat_minor": 0,
  "metadata": {
    "colab": {
      "name": "Challenge.ipynb",
      "provenance": [],
      "collapsed_sections": [
        "B0eOuEaqv6t-",
        "WLysUG6meK5h",
        "sBrwNDFNwGwo",
        "22Ub91fBwLnF",
        "fm6vccg_yEb1",
        "BJINufnfw93j",
        "ZtZsf3Fx5lJw",
        "aV27VygexYYi",
        "YFSxfuj23887",
        "NzFQdWffvHng",
        "7H_pJCZKxk0d"
      ],
      "toc_visible": true
    },
    "kernelspec": {
      "display_name": "Python 3",
      "name": "python3"
    },
    "accelerator": "GPU",
    "widgets": {
      "application/vnd.jupyter.widget-state+json": {
        "f12fc3719a604ed1a9eac84107e6fbb4": {
          "model_module": "@jupyter-widgets/controls",
          "model_name": "HBoxModel",
          "state": {
            "_view_name": "HBoxView",
            "_dom_classes": [],
            "_model_name": "HBoxModel",
            "_view_module": "@jupyter-widgets/controls",
            "_model_module_version": "1.5.0",
            "_view_count": null,
            "_view_module_version": "1.5.0",
            "box_style": "",
            "layout": "IPY_MODEL_652be47209b440ca9bb815ea59aade4b",
            "_model_module": "@jupyter-widgets/controls",
            "children": [
              "IPY_MODEL_415bc17dc07041d2ba635ea1bb20a9e2",
              "IPY_MODEL_465960da3e214e259163cfbdef0bcd2f"
            ]
          }
        },
        "652be47209b440ca9bb815ea59aade4b": {
          "model_module": "@jupyter-widgets/base",
          "model_name": "LayoutModel",
          "state": {
            "_view_name": "LayoutView",
            "grid_template_rows": null,
            "right": null,
            "justify_content": null,
            "_view_module": "@jupyter-widgets/base",
            "overflow": null,
            "_model_module_version": "1.2.0",
            "_view_count": null,
            "flex_flow": null,
            "width": null,
            "min_width": null,
            "border": null,
            "align_items": null,
            "bottom": null,
            "_model_module": "@jupyter-widgets/base",
            "top": null,
            "grid_column": null,
            "overflow_y": null,
            "overflow_x": null,
            "grid_auto_flow": null,
            "grid_area": null,
            "grid_template_columns": null,
            "flex": null,
            "_model_name": "LayoutModel",
            "justify_items": null,
            "grid_row": null,
            "max_height": null,
            "align_content": null,
            "visibility": null,
            "align_self": null,
            "height": null,
            "min_height": null,
            "padding": null,
            "grid_auto_rows": null,
            "grid_gap": null,
            "max_width": null,
            "order": null,
            "_view_module_version": "1.2.0",
            "grid_template_areas": null,
            "object_position": null,
            "object_fit": null,
            "grid_auto_columns": null,
            "margin": null,
            "display": null,
            "left": null
          }
        },
        "415bc17dc07041d2ba635ea1bb20a9e2": {
          "model_module": "@jupyter-widgets/controls",
          "model_name": "FloatProgressModel",
          "state": {
            "_view_name": "ProgressView",
            "style": "IPY_MODEL_7e964858fe294abb811b3a61f291d1b1",
            "_dom_classes": [],
            "description": "Epoch 1: 100%",
            "_model_name": "FloatProgressModel",
            "bar_style": "",
            "max": 551,
            "_view_module": "@jupyter-widgets/controls",
            "_model_module_version": "1.5.0",
            "value": 551,
            "_view_count": null,
            "_view_module_version": "1.5.0",
            "orientation": "horizontal",
            "min": 0,
            "description_tooltip": null,
            "_model_module": "@jupyter-widgets/controls",
            "layout": "IPY_MODEL_60e8041bbaa74aabac032a16fe0b1808"
          }
        },
        "465960da3e214e259163cfbdef0bcd2f": {
          "model_module": "@jupyter-widgets/controls",
          "model_name": "HTMLModel",
          "state": {
            "_view_name": "HTMLView",
            "style": "IPY_MODEL_3d657fdabf9c4112a8bc7c434687c605",
            "_dom_classes": [],
            "description": "",
            "_model_name": "HTMLModel",
            "placeholder": "​",
            "_view_module": "@jupyter-widgets/controls",
            "_model_module_version": "1.5.0",
            "value": " 551/551 [11:59&lt;00:00,  1.04it/s]",
            "_view_count": null,
            "_view_module_version": "1.5.0",
            "description_tooltip": null,
            "_model_module": "@jupyter-widgets/controls",
            "layout": "IPY_MODEL_926cf365884d432f89f23db5739e3599"
          }
        },
        "7e964858fe294abb811b3a61f291d1b1": {
          "model_module": "@jupyter-widgets/controls",
          "model_name": "ProgressStyleModel",
          "state": {
            "_view_name": "StyleView",
            "_model_name": "ProgressStyleModel",
            "description_width": "initial",
            "_view_module": "@jupyter-widgets/base",
            "_model_module_version": "1.5.0",
            "_view_count": null,
            "_view_module_version": "1.2.0",
            "bar_color": null,
            "_model_module": "@jupyter-widgets/controls"
          }
        },
        "60e8041bbaa74aabac032a16fe0b1808": {
          "model_module": "@jupyter-widgets/base",
          "model_name": "LayoutModel",
          "state": {
            "_view_name": "LayoutView",
            "grid_template_rows": null,
            "right": null,
            "justify_content": null,
            "_view_module": "@jupyter-widgets/base",
            "overflow": null,
            "_model_module_version": "1.2.0",
            "_view_count": null,
            "flex_flow": null,
            "width": null,
            "min_width": null,
            "border": null,
            "align_items": null,
            "bottom": null,
            "_model_module": "@jupyter-widgets/base",
            "top": null,
            "grid_column": null,
            "overflow_y": null,
            "overflow_x": null,
            "grid_auto_flow": null,
            "grid_area": null,
            "grid_template_columns": null,
            "flex": null,
            "_model_name": "LayoutModel",
            "justify_items": null,
            "grid_row": null,
            "max_height": null,
            "align_content": null,
            "visibility": null,
            "align_self": null,
            "height": null,
            "min_height": null,
            "padding": null,
            "grid_auto_rows": null,
            "grid_gap": null,
            "max_width": null,
            "order": null,
            "_view_module_version": "1.2.0",
            "grid_template_areas": null,
            "object_position": null,
            "object_fit": null,
            "grid_auto_columns": null,
            "margin": null,
            "display": null,
            "left": null
          }
        },
        "3d657fdabf9c4112a8bc7c434687c605": {
          "model_module": "@jupyter-widgets/controls",
          "model_name": "DescriptionStyleModel",
          "state": {
            "_view_name": "StyleView",
            "_model_name": "DescriptionStyleModel",
            "description_width": "",
            "_view_module": "@jupyter-widgets/base",
            "_model_module_version": "1.5.0",
            "_view_count": null,
            "_view_module_version": "1.2.0",
            "_model_module": "@jupyter-widgets/controls"
          }
        },
        "926cf365884d432f89f23db5739e3599": {
          "model_module": "@jupyter-widgets/base",
          "model_name": "LayoutModel",
          "state": {
            "_view_name": "LayoutView",
            "grid_template_rows": null,
            "right": null,
            "justify_content": null,
            "_view_module": "@jupyter-widgets/base",
            "overflow": null,
            "_model_module_version": "1.2.0",
            "_view_count": null,
            "flex_flow": null,
            "width": null,
            "min_width": null,
            "border": null,
            "align_items": null,
            "bottom": null,
            "_model_module": "@jupyter-widgets/base",
            "top": null,
            "grid_column": null,
            "overflow_y": null,
            "overflow_x": null,
            "grid_auto_flow": null,
            "grid_area": null,
            "grid_template_columns": null,
            "flex": null,
            "_model_name": "LayoutModel",
            "justify_items": null,
            "grid_row": null,
            "max_height": null,
            "align_content": null,
            "visibility": null,
            "align_self": null,
            "height": null,
            "min_height": null,
            "padding": null,
            "grid_auto_rows": null,
            "grid_gap": null,
            "max_width": null,
            "order": null,
            "_view_module_version": "1.2.0",
            "grid_template_areas": null,
            "object_position": null,
            "object_fit": null,
            "grid_auto_columns": null,
            "margin": null,
            "display": null,
            "left": null
          }
        },
        "58419696658047e3919efad79e5395a7": {
          "model_module": "@jupyter-widgets/controls",
          "model_name": "HBoxModel",
          "state": {
            "_view_name": "HBoxView",
            "_dom_classes": [],
            "_model_name": "HBoxModel",
            "_view_module": "@jupyter-widgets/controls",
            "_model_module_version": "1.5.0",
            "_view_count": null,
            "_view_module_version": "1.5.0",
            "box_style": "",
            "layout": "IPY_MODEL_e1e220cfaddb460c9d7fd6dcad306232",
            "_model_module": "@jupyter-widgets/controls",
            "children": [
              "IPY_MODEL_add0c24baacf413ca68bc47c03d6b201",
              "IPY_MODEL_2356e8589c2f46328aae48c08988c35c"
            ]
          }
        },
        "e1e220cfaddb460c9d7fd6dcad306232": {
          "model_module": "@jupyter-widgets/base",
          "model_name": "LayoutModel",
          "state": {
            "_view_name": "LayoutView",
            "grid_template_rows": null,
            "right": null,
            "justify_content": null,
            "_view_module": "@jupyter-widgets/base",
            "overflow": null,
            "_model_module_version": "1.2.0",
            "_view_count": null,
            "flex_flow": null,
            "width": null,
            "min_width": null,
            "border": null,
            "align_items": null,
            "bottom": null,
            "_model_module": "@jupyter-widgets/base",
            "top": null,
            "grid_column": null,
            "overflow_y": null,
            "overflow_x": null,
            "grid_auto_flow": null,
            "grid_area": null,
            "grid_template_columns": null,
            "flex": null,
            "_model_name": "LayoutModel",
            "justify_items": null,
            "grid_row": null,
            "max_height": null,
            "align_content": null,
            "visibility": null,
            "align_self": null,
            "height": null,
            "min_height": null,
            "padding": null,
            "grid_auto_rows": null,
            "grid_gap": null,
            "max_width": null,
            "order": null,
            "_view_module_version": "1.2.0",
            "grid_template_areas": null,
            "object_position": null,
            "object_fit": null,
            "grid_auto_columns": null,
            "margin": null,
            "display": null,
            "left": null
          }
        },
        "add0c24baacf413ca68bc47c03d6b201": {
          "model_module": "@jupyter-widgets/controls",
          "model_name": "FloatProgressModel",
          "state": {
            "_view_name": "ProgressView",
            "style": "IPY_MODEL_62da17e6ca77412c92962fd0a51c0b84",
            "_dom_classes": [],
            "description": "Epoch 1: 100%",
            "_model_name": "FloatProgressModel",
            "bar_style": "",
            "max": 10,
            "_view_module": "@jupyter-widgets/controls",
            "_model_module_version": "1.5.0",
            "value": 10,
            "_view_count": null,
            "_view_module_version": "1.5.0",
            "orientation": "horizontal",
            "min": 0,
            "description_tooltip": null,
            "_model_module": "@jupyter-widgets/controls",
            "layout": "IPY_MODEL_894d305d18fe42f386fc8c3b197e14cf"
          }
        },
        "2356e8589c2f46328aae48c08988c35c": {
          "model_module": "@jupyter-widgets/controls",
          "model_name": "HTMLModel",
          "state": {
            "_view_name": "HTMLView",
            "style": "IPY_MODEL_d49c637f5dbc475b92751091ee678982",
            "_dom_classes": [],
            "description": "",
            "_model_name": "HTMLModel",
            "placeholder": "​",
            "_view_module": "@jupyter-widgets/controls",
            "_model_module_version": "1.5.0",
            "value": " 10/10 [00:13&lt;00:00,  1.34s/it]",
            "_view_count": null,
            "_view_module_version": "1.5.0",
            "description_tooltip": null,
            "_model_module": "@jupyter-widgets/controls",
            "layout": "IPY_MODEL_7f57bfa0daa3462ba581f7515fdd2c2e"
          }
        },
        "62da17e6ca77412c92962fd0a51c0b84": {
          "model_module": "@jupyter-widgets/controls",
          "model_name": "ProgressStyleModel",
          "state": {
            "_view_name": "StyleView",
            "_model_name": "ProgressStyleModel",
            "description_width": "initial",
            "_view_module": "@jupyter-widgets/base",
            "_model_module_version": "1.5.0",
            "_view_count": null,
            "_view_module_version": "1.2.0",
            "bar_color": null,
            "_model_module": "@jupyter-widgets/controls"
          }
        },
        "894d305d18fe42f386fc8c3b197e14cf": {
          "model_module": "@jupyter-widgets/base",
          "model_name": "LayoutModel",
          "state": {
            "_view_name": "LayoutView",
            "grid_template_rows": null,
            "right": null,
            "justify_content": null,
            "_view_module": "@jupyter-widgets/base",
            "overflow": null,
            "_model_module_version": "1.2.0",
            "_view_count": null,
            "flex_flow": null,
            "width": null,
            "min_width": null,
            "border": null,
            "align_items": null,
            "bottom": null,
            "_model_module": "@jupyter-widgets/base",
            "top": null,
            "grid_column": null,
            "overflow_y": null,
            "overflow_x": null,
            "grid_auto_flow": null,
            "grid_area": null,
            "grid_template_columns": null,
            "flex": null,
            "_model_name": "LayoutModel",
            "justify_items": null,
            "grid_row": null,
            "max_height": null,
            "align_content": null,
            "visibility": null,
            "align_self": null,
            "height": null,
            "min_height": null,
            "padding": null,
            "grid_auto_rows": null,
            "grid_gap": null,
            "max_width": null,
            "order": null,
            "_view_module_version": "1.2.0",
            "grid_template_areas": null,
            "object_position": null,
            "object_fit": null,
            "grid_auto_columns": null,
            "margin": null,
            "display": null,
            "left": null
          }
        },
        "d49c637f5dbc475b92751091ee678982": {
          "model_module": "@jupyter-widgets/controls",
          "model_name": "DescriptionStyleModel",
          "state": {
            "_view_name": "StyleView",
            "_model_name": "DescriptionStyleModel",
            "description_width": "",
            "_view_module": "@jupyter-widgets/base",
            "_model_module_version": "1.5.0",
            "_view_count": null,
            "_view_module_version": "1.2.0",
            "_model_module": "@jupyter-widgets/controls"
          }
        },
        "7f57bfa0daa3462ba581f7515fdd2c2e": {
          "model_module": "@jupyter-widgets/base",
          "model_name": "LayoutModel",
          "state": {
            "_view_name": "LayoutView",
            "grid_template_rows": null,
            "right": null,
            "justify_content": null,
            "_view_module": "@jupyter-widgets/base",
            "overflow": null,
            "_model_module_version": "1.2.0",
            "_view_count": null,
            "flex_flow": null,
            "width": null,
            "min_width": null,
            "border": null,
            "align_items": null,
            "bottom": null,
            "_model_module": "@jupyter-widgets/base",
            "top": null,
            "grid_column": null,
            "overflow_y": null,
            "overflow_x": null,
            "grid_auto_flow": null,
            "grid_area": null,
            "grid_template_columns": null,
            "flex": null,
            "_model_name": "LayoutModel",
            "justify_items": null,
            "grid_row": null,
            "max_height": null,
            "align_content": null,
            "visibility": null,
            "align_self": null,
            "height": null,
            "min_height": null,
            "padding": null,
            "grid_auto_rows": null,
            "grid_gap": null,
            "max_width": null,
            "order": null,
            "_view_module_version": "1.2.0",
            "grid_template_areas": null,
            "object_position": null,
            "object_fit": null,
            "grid_auto_columns": null,
            "margin": null,
            "display": null,
            "left": null
          }
        },
        "a2b5631a18f746388ae489f43cca55d7": {
          "model_module": "@jupyter-widgets/controls",
          "model_name": "HBoxModel",
          "state": {
            "_view_name": "HBoxView",
            "_dom_classes": [],
            "_model_name": "HBoxModel",
            "_view_module": "@jupyter-widgets/controls",
            "_model_module_version": "1.5.0",
            "_view_count": null,
            "_view_module_version": "1.5.0",
            "box_style": "",
            "layout": "IPY_MODEL_e6f0710cf9d94bec8674c4425ce666e1",
            "_model_module": "@jupyter-widgets/controls",
            "children": [
              "IPY_MODEL_90ef021207694c8d84cfa7b0e86dddb1",
              "IPY_MODEL_e518fa40e7d54bc6ae8124a729601699"
            ]
          }
        },
        "e6f0710cf9d94bec8674c4425ce666e1": {
          "model_module": "@jupyter-widgets/base",
          "model_name": "LayoutModel",
          "state": {
            "_view_name": "LayoutView",
            "grid_template_rows": null,
            "right": null,
            "justify_content": null,
            "_view_module": "@jupyter-widgets/base",
            "overflow": null,
            "_model_module_version": "1.2.0",
            "_view_count": null,
            "flex_flow": null,
            "width": null,
            "min_width": null,
            "border": null,
            "align_items": null,
            "bottom": null,
            "_model_module": "@jupyter-widgets/base",
            "top": null,
            "grid_column": null,
            "overflow_y": null,
            "overflow_x": null,
            "grid_auto_flow": null,
            "grid_area": null,
            "grid_template_columns": null,
            "flex": null,
            "_model_name": "LayoutModel",
            "justify_items": null,
            "grid_row": null,
            "max_height": null,
            "align_content": null,
            "visibility": null,
            "align_self": null,
            "height": null,
            "min_height": null,
            "padding": null,
            "grid_auto_rows": null,
            "grid_gap": null,
            "max_width": null,
            "order": null,
            "_view_module_version": "1.2.0",
            "grid_template_areas": null,
            "object_position": null,
            "object_fit": null,
            "grid_auto_columns": null,
            "margin": null,
            "display": null,
            "left": null
          }
        },
        "90ef021207694c8d84cfa7b0e86dddb1": {
          "model_module": "@jupyter-widgets/controls",
          "model_name": "FloatProgressModel",
          "state": {
            "_view_name": "ProgressView",
            "style": "IPY_MODEL_4b3a7589a3d8454794b9ff463c67bd2c",
            "_dom_classes": [],
            "description": "Epoch 2: 100%",
            "_model_name": "FloatProgressModel",
            "bar_style": "",
            "max": 551,
            "_view_module": "@jupyter-widgets/controls",
            "_model_module_version": "1.5.0",
            "value": 551,
            "_view_count": null,
            "_view_module_version": "1.5.0",
            "orientation": "horizontal",
            "min": 0,
            "description_tooltip": null,
            "_model_module": "@jupyter-widgets/controls",
            "layout": "IPY_MODEL_ad2ad4260bc84fbd985594c36b1e84f8"
          }
        },
        "e518fa40e7d54bc6ae8124a729601699": {
          "model_module": "@jupyter-widgets/controls",
          "model_name": "HTMLModel",
          "state": {
            "_view_name": "HTMLView",
            "style": "IPY_MODEL_983e2b71d1cd46b4af5b1e759754cce3",
            "_dom_classes": [],
            "description": "",
            "_model_name": "HTMLModel",
            "placeholder": "​",
            "_view_module": "@jupyter-widgets/controls",
            "_model_module_version": "1.5.0",
            "value": " 551/551 [11:57&lt;00:00,  1.03it/s]",
            "_view_count": null,
            "_view_module_version": "1.5.0",
            "description_tooltip": null,
            "_model_module": "@jupyter-widgets/controls",
            "layout": "IPY_MODEL_0fe1963fd58a4ac897905762ac8fa9da"
          }
        },
        "4b3a7589a3d8454794b9ff463c67bd2c": {
          "model_module": "@jupyter-widgets/controls",
          "model_name": "ProgressStyleModel",
          "state": {
            "_view_name": "StyleView",
            "_model_name": "ProgressStyleModel",
            "description_width": "initial",
            "_view_module": "@jupyter-widgets/base",
            "_model_module_version": "1.5.0",
            "_view_count": null,
            "_view_module_version": "1.2.0",
            "bar_color": null,
            "_model_module": "@jupyter-widgets/controls"
          }
        },
        "ad2ad4260bc84fbd985594c36b1e84f8": {
          "model_module": "@jupyter-widgets/base",
          "model_name": "LayoutModel",
          "state": {
            "_view_name": "LayoutView",
            "grid_template_rows": null,
            "right": null,
            "justify_content": null,
            "_view_module": "@jupyter-widgets/base",
            "overflow": null,
            "_model_module_version": "1.2.0",
            "_view_count": null,
            "flex_flow": null,
            "width": null,
            "min_width": null,
            "border": null,
            "align_items": null,
            "bottom": null,
            "_model_module": "@jupyter-widgets/base",
            "top": null,
            "grid_column": null,
            "overflow_y": null,
            "overflow_x": null,
            "grid_auto_flow": null,
            "grid_area": null,
            "grid_template_columns": null,
            "flex": null,
            "_model_name": "LayoutModel",
            "justify_items": null,
            "grid_row": null,
            "max_height": null,
            "align_content": null,
            "visibility": null,
            "align_self": null,
            "height": null,
            "min_height": null,
            "padding": null,
            "grid_auto_rows": null,
            "grid_gap": null,
            "max_width": null,
            "order": null,
            "_view_module_version": "1.2.0",
            "grid_template_areas": null,
            "object_position": null,
            "object_fit": null,
            "grid_auto_columns": null,
            "margin": null,
            "display": null,
            "left": null
          }
        },
        "983e2b71d1cd46b4af5b1e759754cce3": {
          "model_module": "@jupyter-widgets/controls",
          "model_name": "DescriptionStyleModel",
          "state": {
            "_view_name": "StyleView",
            "_model_name": "DescriptionStyleModel",
            "description_width": "",
            "_view_module": "@jupyter-widgets/base",
            "_model_module_version": "1.5.0",
            "_view_count": null,
            "_view_module_version": "1.2.0",
            "_model_module": "@jupyter-widgets/controls"
          }
        },
        "0fe1963fd58a4ac897905762ac8fa9da": {
          "model_module": "@jupyter-widgets/base",
          "model_name": "LayoutModel",
          "state": {
            "_view_name": "LayoutView",
            "grid_template_rows": null,
            "right": null,
            "justify_content": null,
            "_view_module": "@jupyter-widgets/base",
            "overflow": null,
            "_model_module_version": "1.2.0",
            "_view_count": null,
            "flex_flow": null,
            "width": null,
            "min_width": null,
            "border": null,
            "align_items": null,
            "bottom": null,
            "_model_module": "@jupyter-widgets/base",
            "top": null,
            "grid_column": null,
            "overflow_y": null,
            "overflow_x": null,
            "grid_auto_flow": null,
            "grid_area": null,
            "grid_template_columns": null,
            "flex": null,
            "_model_name": "LayoutModel",
            "justify_items": null,
            "grid_row": null,
            "max_height": null,
            "align_content": null,
            "visibility": null,
            "align_self": null,
            "height": null,
            "min_height": null,
            "padding": null,
            "grid_auto_rows": null,
            "grid_gap": null,
            "max_width": null,
            "order": null,
            "_view_module_version": "1.2.0",
            "grid_template_areas": null,
            "object_position": null,
            "object_fit": null,
            "grid_auto_columns": null,
            "margin": null,
            "display": null,
            "left": null
          }
        },
        "4f5a757810d74763a9dbd47d8c8304d8": {
          "model_module": "@jupyter-widgets/controls",
          "model_name": "HBoxModel",
          "state": {
            "_view_name": "HBoxView",
            "_dom_classes": [],
            "_model_name": "HBoxModel",
            "_view_module": "@jupyter-widgets/controls",
            "_model_module_version": "1.5.0",
            "_view_count": null,
            "_view_module_version": "1.5.0",
            "box_style": "",
            "layout": "IPY_MODEL_a2513c00d7c54154a40837b3923f47c3",
            "_model_module": "@jupyter-widgets/controls",
            "children": [
              "IPY_MODEL_bad9a8dfcf514e299c3d66c8e57c3669",
              "IPY_MODEL_b99c20e212674cfdb85916d87f08c7e0"
            ]
          }
        },
        "a2513c00d7c54154a40837b3923f47c3": {
          "model_module": "@jupyter-widgets/base",
          "model_name": "LayoutModel",
          "state": {
            "_view_name": "LayoutView",
            "grid_template_rows": null,
            "right": null,
            "justify_content": null,
            "_view_module": "@jupyter-widgets/base",
            "overflow": null,
            "_model_module_version": "1.2.0",
            "_view_count": null,
            "flex_flow": null,
            "width": null,
            "min_width": null,
            "border": null,
            "align_items": null,
            "bottom": null,
            "_model_module": "@jupyter-widgets/base",
            "top": null,
            "grid_column": null,
            "overflow_y": null,
            "overflow_x": null,
            "grid_auto_flow": null,
            "grid_area": null,
            "grid_template_columns": null,
            "flex": null,
            "_model_name": "LayoutModel",
            "justify_items": null,
            "grid_row": null,
            "max_height": null,
            "align_content": null,
            "visibility": null,
            "align_self": null,
            "height": null,
            "min_height": null,
            "padding": null,
            "grid_auto_rows": null,
            "grid_gap": null,
            "max_width": null,
            "order": null,
            "_view_module_version": "1.2.0",
            "grid_template_areas": null,
            "object_position": null,
            "object_fit": null,
            "grid_auto_columns": null,
            "margin": null,
            "display": null,
            "left": null
          }
        },
        "bad9a8dfcf514e299c3d66c8e57c3669": {
          "model_module": "@jupyter-widgets/controls",
          "model_name": "FloatProgressModel",
          "state": {
            "_view_name": "ProgressView",
            "style": "IPY_MODEL_5b84ecee0f2b4a3bbc0f30e2d8ab9a2a",
            "_dom_classes": [],
            "description": "Epoch 2: 100%",
            "_model_name": "FloatProgressModel",
            "bar_style": "",
            "max": 10,
            "_view_module": "@jupyter-widgets/controls",
            "_model_module_version": "1.5.0",
            "value": 10,
            "_view_count": null,
            "_view_module_version": "1.5.0",
            "orientation": "horizontal",
            "min": 0,
            "description_tooltip": null,
            "_model_module": "@jupyter-widgets/controls",
            "layout": "IPY_MODEL_d29930c24ebb41039b2ca431290249a7"
          }
        },
        "b99c20e212674cfdb85916d87f08c7e0": {
          "model_module": "@jupyter-widgets/controls",
          "model_name": "HTMLModel",
          "state": {
            "_view_name": "HTMLView",
            "style": "IPY_MODEL_5c14c299dc1e493bbd6d694edbcdd317",
            "_dom_classes": [],
            "description": "",
            "_model_name": "HTMLModel",
            "placeholder": "​",
            "_view_module": "@jupyter-widgets/controls",
            "_model_module_version": "1.5.0",
            "value": " 10/10 [00:13&lt;00:00,  1.34s/it]",
            "_view_count": null,
            "_view_module_version": "1.5.0",
            "description_tooltip": null,
            "_model_module": "@jupyter-widgets/controls",
            "layout": "IPY_MODEL_bf15677f6de749938c70c3d9ae31f81b"
          }
        },
        "5b84ecee0f2b4a3bbc0f30e2d8ab9a2a": {
          "model_module": "@jupyter-widgets/controls",
          "model_name": "ProgressStyleModel",
          "state": {
            "_view_name": "StyleView",
            "_model_name": "ProgressStyleModel",
            "description_width": "initial",
            "_view_module": "@jupyter-widgets/base",
            "_model_module_version": "1.5.0",
            "_view_count": null,
            "_view_module_version": "1.2.0",
            "bar_color": null,
            "_model_module": "@jupyter-widgets/controls"
          }
        },
        "d29930c24ebb41039b2ca431290249a7": {
          "model_module": "@jupyter-widgets/base",
          "model_name": "LayoutModel",
          "state": {
            "_view_name": "LayoutView",
            "grid_template_rows": null,
            "right": null,
            "justify_content": null,
            "_view_module": "@jupyter-widgets/base",
            "overflow": null,
            "_model_module_version": "1.2.0",
            "_view_count": null,
            "flex_flow": null,
            "width": null,
            "min_width": null,
            "border": null,
            "align_items": null,
            "bottom": null,
            "_model_module": "@jupyter-widgets/base",
            "top": null,
            "grid_column": null,
            "overflow_y": null,
            "overflow_x": null,
            "grid_auto_flow": null,
            "grid_area": null,
            "grid_template_columns": null,
            "flex": null,
            "_model_name": "LayoutModel",
            "justify_items": null,
            "grid_row": null,
            "max_height": null,
            "align_content": null,
            "visibility": null,
            "align_self": null,
            "height": null,
            "min_height": null,
            "padding": null,
            "grid_auto_rows": null,
            "grid_gap": null,
            "max_width": null,
            "order": null,
            "_view_module_version": "1.2.0",
            "grid_template_areas": null,
            "object_position": null,
            "object_fit": null,
            "grid_auto_columns": null,
            "margin": null,
            "display": null,
            "left": null
          }
        },
        "5c14c299dc1e493bbd6d694edbcdd317": {
          "model_module": "@jupyter-widgets/controls",
          "model_name": "DescriptionStyleModel",
          "state": {
            "_view_name": "StyleView",
            "_model_name": "DescriptionStyleModel",
            "description_width": "",
            "_view_module": "@jupyter-widgets/base",
            "_model_module_version": "1.5.0",
            "_view_count": null,
            "_view_module_version": "1.2.0",
            "_model_module": "@jupyter-widgets/controls"
          }
        },
        "bf15677f6de749938c70c3d9ae31f81b": {
          "model_module": "@jupyter-widgets/base",
          "model_name": "LayoutModel",
          "state": {
            "_view_name": "LayoutView",
            "grid_template_rows": null,
            "right": null,
            "justify_content": null,
            "_view_module": "@jupyter-widgets/base",
            "overflow": null,
            "_model_module_version": "1.2.0",
            "_view_count": null,
            "flex_flow": null,
            "width": null,
            "min_width": null,
            "border": null,
            "align_items": null,
            "bottom": null,
            "_model_module": "@jupyter-widgets/base",
            "top": null,
            "grid_column": null,
            "overflow_y": null,
            "overflow_x": null,
            "grid_auto_flow": null,
            "grid_area": null,
            "grid_template_columns": null,
            "flex": null,
            "_model_name": "LayoutModel",
            "justify_items": null,
            "grid_row": null,
            "max_height": null,
            "align_content": null,
            "visibility": null,
            "align_self": null,
            "height": null,
            "min_height": null,
            "padding": null,
            "grid_auto_rows": null,
            "grid_gap": null,
            "max_width": null,
            "order": null,
            "_view_module_version": "1.2.0",
            "grid_template_areas": null,
            "object_position": null,
            "object_fit": null,
            "grid_auto_columns": null,
            "margin": null,
            "display": null,
            "left": null
          }
        },
        "898c989b6c474fffaaac1379958a1715": {
          "model_module": "@jupyter-widgets/controls",
          "model_name": "HBoxModel",
          "state": {
            "_view_name": "HBoxView",
            "_dom_classes": [],
            "_model_name": "HBoxModel",
            "_view_module": "@jupyter-widgets/controls",
            "_model_module_version": "1.5.0",
            "_view_count": null,
            "_view_module_version": "1.5.0",
            "box_style": "",
            "layout": "IPY_MODEL_2cb9116d49fd459bbd7290316aa52b4c",
            "_model_module": "@jupyter-widgets/controls",
            "children": [
              "IPY_MODEL_9c602116483546b9840113e7800b324e",
              "IPY_MODEL_642865569de34562be0d016e5e77606d"
            ]
          }
        },
        "2cb9116d49fd459bbd7290316aa52b4c": {
          "model_module": "@jupyter-widgets/base",
          "model_name": "LayoutModel",
          "state": {
            "_view_name": "LayoutView",
            "grid_template_rows": null,
            "right": null,
            "justify_content": null,
            "_view_module": "@jupyter-widgets/base",
            "overflow": null,
            "_model_module_version": "1.2.0",
            "_view_count": null,
            "flex_flow": null,
            "width": null,
            "min_width": null,
            "border": null,
            "align_items": null,
            "bottom": null,
            "_model_module": "@jupyter-widgets/base",
            "top": null,
            "grid_column": null,
            "overflow_y": null,
            "overflow_x": null,
            "grid_auto_flow": null,
            "grid_area": null,
            "grid_template_columns": null,
            "flex": null,
            "_model_name": "LayoutModel",
            "justify_items": null,
            "grid_row": null,
            "max_height": null,
            "align_content": null,
            "visibility": null,
            "align_self": null,
            "height": null,
            "min_height": null,
            "padding": null,
            "grid_auto_rows": null,
            "grid_gap": null,
            "max_width": null,
            "order": null,
            "_view_module_version": "1.2.0",
            "grid_template_areas": null,
            "object_position": null,
            "object_fit": null,
            "grid_auto_columns": null,
            "margin": null,
            "display": null,
            "left": null
          }
        },
        "9c602116483546b9840113e7800b324e": {
          "model_module": "@jupyter-widgets/controls",
          "model_name": "FloatProgressModel",
          "state": {
            "_view_name": "ProgressView",
            "style": "IPY_MODEL_8ab96704de3142c3a4a30a7c98d0e631",
            "_dom_classes": [],
            "description": "Epoch 3: 100%",
            "_model_name": "FloatProgressModel",
            "bar_style": "",
            "max": 551,
            "_view_module": "@jupyter-widgets/controls",
            "_model_module_version": "1.5.0",
            "value": 551,
            "_view_count": null,
            "_view_module_version": "1.5.0",
            "orientation": "horizontal",
            "min": 0,
            "description_tooltip": null,
            "_model_module": "@jupyter-widgets/controls",
            "layout": "IPY_MODEL_279a6e240b32463d9aa18954c07da353"
          }
        },
        "642865569de34562be0d016e5e77606d": {
          "model_module": "@jupyter-widgets/controls",
          "model_name": "HTMLModel",
          "state": {
            "_view_name": "HTMLView",
            "style": "IPY_MODEL_9293db39bbaa40919d1424344d213b03",
            "_dom_classes": [],
            "description": "",
            "_model_name": "HTMLModel",
            "placeholder": "​",
            "_view_module": "@jupyter-widgets/controls",
            "_model_module_version": "1.5.0",
            "value": " 551/551 [11:55&lt;00:00,  1.03it/s]",
            "_view_count": null,
            "_view_module_version": "1.5.0",
            "description_tooltip": null,
            "_model_module": "@jupyter-widgets/controls",
            "layout": "IPY_MODEL_dca6a81188b241b2ac2338036b095645"
          }
        },
        "8ab96704de3142c3a4a30a7c98d0e631": {
          "model_module": "@jupyter-widgets/controls",
          "model_name": "ProgressStyleModel",
          "state": {
            "_view_name": "StyleView",
            "_model_name": "ProgressStyleModel",
            "description_width": "initial",
            "_view_module": "@jupyter-widgets/base",
            "_model_module_version": "1.5.0",
            "_view_count": null,
            "_view_module_version": "1.2.0",
            "bar_color": null,
            "_model_module": "@jupyter-widgets/controls"
          }
        },
        "279a6e240b32463d9aa18954c07da353": {
          "model_module": "@jupyter-widgets/base",
          "model_name": "LayoutModel",
          "state": {
            "_view_name": "LayoutView",
            "grid_template_rows": null,
            "right": null,
            "justify_content": null,
            "_view_module": "@jupyter-widgets/base",
            "overflow": null,
            "_model_module_version": "1.2.0",
            "_view_count": null,
            "flex_flow": null,
            "width": null,
            "min_width": null,
            "border": null,
            "align_items": null,
            "bottom": null,
            "_model_module": "@jupyter-widgets/base",
            "top": null,
            "grid_column": null,
            "overflow_y": null,
            "overflow_x": null,
            "grid_auto_flow": null,
            "grid_area": null,
            "grid_template_columns": null,
            "flex": null,
            "_model_name": "LayoutModel",
            "justify_items": null,
            "grid_row": null,
            "max_height": null,
            "align_content": null,
            "visibility": null,
            "align_self": null,
            "height": null,
            "min_height": null,
            "padding": null,
            "grid_auto_rows": null,
            "grid_gap": null,
            "max_width": null,
            "order": null,
            "_view_module_version": "1.2.0",
            "grid_template_areas": null,
            "object_position": null,
            "object_fit": null,
            "grid_auto_columns": null,
            "margin": null,
            "display": null,
            "left": null
          }
        },
        "9293db39bbaa40919d1424344d213b03": {
          "model_module": "@jupyter-widgets/controls",
          "model_name": "DescriptionStyleModel",
          "state": {
            "_view_name": "StyleView",
            "_model_name": "DescriptionStyleModel",
            "description_width": "",
            "_view_module": "@jupyter-widgets/base",
            "_model_module_version": "1.5.0",
            "_view_count": null,
            "_view_module_version": "1.2.0",
            "_model_module": "@jupyter-widgets/controls"
          }
        },
        "dca6a81188b241b2ac2338036b095645": {
          "model_module": "@jupyter-widgets/base",
          "model_name": "LayoutModel",
          "state": {
            "_view_name": "LayoutView",
            "grid_template_rows": null,
            "right": null,
            "justify_content": null,
            "_view_module": "@jupyter-widgets/base",
            "overflow": null,
            "_model_module_version": "1.2.0",
            "_view_count": null,
            "flex_flow": null,
            "width": null,
            "min_width": null,
            "border": null,
            "align_items": null,
            "bottom": null,
            "_model_module": "@jupyter-widgets/base",
            "top": null,
            "grid_column": null,
            "overflow_y": null,
            "overflow_x": null,
            "grid_auto_flow": null,
            "grid_area": null,
            "grid_template_columns": null,
            "flex": null,
            "_model_name": "LayoutModel",
            "justify_items": null,
            "grid_row": null,
            "max_height": null,
            "align_content": null,
            "visibility": null,
            "align_self": null,
            "height": null,
            "min_height": null,
            "padding": null,
            "grid_auto_rows": null,
            "grid_gap": null,
            "max_width": null,
            "order": null,
            "_view_module_version": "1.2.0",
            "grid_template_areas": null,
            "object_position": null,
            "object_fit": null,
            "grid_auto_columns": null,
            "margin": null,
            "display": null,
            "left": null
          }
        },
        "b6419a8823a54f5f9665d63e70c287a1": {
          "model_module": "@jupyter-widgets/controls",
          "model_name": "HBoxModel",
          "state": {
            "_view_name": "HBoxView",
            "_dom_classes": [],
            "_model_name": "HBoxModel",
            "_view_module": "@jupyter-widgets/controls",
            "_model_module_version": "1.5.0",
            "_view_count": null,
            "_view_module_version": "1.5.0",
            "box_style": "",
            "layout": "IPY_MODEL_91c10a2aad76417988181515b8078d0e",
            "_model_module": "@jupyter-widgets/controls",
            "children": [
              "IPY_MODEL_ec18440e9ff14b869cfee92b1b18a674",
              "IPY_MODEL_7ad78fb922c74203a9f9d0827fa5e218"
            ]
          }
        },
        "91c10a2aad76417988181515b8078d0e": {
          "model_module": "@jupyter-widgets/base",
          "model_name": "LayoutModel",
          "state": {
            "_view_name": "LayoutView",
            "grid_template_rows": null,
            "right": null,
            "justify_content": null,
            "_view_module": "@jupyter-widgets/base",
            "overflow": null,
            "_model_module_version": "1.2.0",
            "_view_count": null,
            "flex_flow": null,
            "width": null,
            "min_width": null,
            "border": null,
            "align_items": null,
            "bottom": null,
            "_model_module": "@jupyter-widgets/base",
            "top": null,
            "grid_column": null,
            "overflow_y": null,
            "overflow_x": null,
            "grid_auto_flow": null,
            "grid_area": null,
            "grid_template_columns": null,
            "flex": null,
            "_model_name": "LayoutModel",
            "justify_items": null,
            "grid_row": null,
            "max_height": null,
            "align_content": null,
            "visibility": null,
            "align_self": null,
            "height": null,
            "min_height": null,
            "padding": null,
            "grid_auto_rows": null,
            "grid_gap": null,
            "max_width": null,
            "order": null,
            "_view_module_version": "1.2.0",
            "grid_template_areas": null,
            "object_position": null,
            "object_fit": null,
            "grid_auto_columns": null,
            "margin": null,
            "display": null,
            "left": null
          }
        },
        "ec18440e9ff14b869cfee92b1b18a674": {
          "model_module": "@jupyter-widgets/controls",
          "model_name": "FloatProgressModel",
          "state": {
            "_view_name": "ProgressView",
            "style": "IPY_MODEL_1e7aad60f2ed4ab0841c552c1fcf2595",
            "_dom_classes": [],
            "description": "Epoch 3: 100%",
            "_model_name": "FloatProgressModel",
            "bar_style": "",
            "max": 10,
            "_view_module": "@jupyter-widgets/controls",
            "_model_module_version": "1.5.0",
            "value": 10,
            "_view_count": null,
            "_view_module_version": "1.5.0",
            "orientation": "horizontal",
            "min": 0,
            "description_tooltip": null,
            "_model_module": "@jupyter-widgets/controls",
            "layout": "IPY_MODEL_ddcc815700f847e9b0b63e57f6089b57"
          }
        },
        "7ad78fb922c74203a9f9d0827fa5e218": {
          "model_module": "@jupyter-widgets/controls",
          "model_name": "HTMLModel",
          "state": {
            "_view_name": "HTMLView",
            "style": "IPY_MODEL_ab58fd0859284efbbe1aca6d78ffb988",
            "_dom_classes": [],
            "description": "",
            "_model_name": "HTMLModel",
            "placeholder": "​",
            "_view_module": "@jupyter-widgets/controls",
            "_model_module_version": "1.5.0",
            "value": " 10/10 [00:13&lt;00:00,  1.34s/it]",
            "_view_count": null,
            "_view_module_version": "1.5.0",
            "description_tooltip": null,
            "_model_module": "@jupyter-widgets/controls",
            "layout": "IPY_MODEL_4b7fd5b5e5ca444fa1cc1da037b46f62"
          }
        },
        "1e7aad60f2ed4ab0841c552c1fcf2595": {
          "model_module": "@jupyter-widgets/controls",
          "model_name": "ProgressStyleModel",
          "state": {
            "_view_name": "StyleView",
            "_model_name": "ProgressStyleModel",
            "description_width": "initial",
            "_view_module": "@jupyter-widgets/base",
            "_model_module_version": "1.5.0",
            "_view_count": null,
            "_view_module_version": "1.2.0",
            "bar_color": null,
            "_model_module": "@jupyter-widgets/controls"
          }
        },
        "ddcc815700f847e9b0b63e57f6089b57": {
          "model_module": "@jupyter-widgets/base",
          "model_name": "LayoutModel",
          "state": {
            "_view_name": "LayoutView",
            "grid_template_rows": null,
            "right": null,
            "justify_content": null,
            "_view_module": "@jupyter-widgets/base",
            "overflow": null,
            "_model_module_version": "1.2.0",
            "_view_count": null,
            "flex_flow": null,
            "width": null,
            "min_width": null,
            "border": null,
            "align_items": null,
            "bottom": null,
            "_model_module": "@jupyter-widgets/base",
            "top": null,
            "grid_column": null,
            "overflow_y": null,
            "overflow_x": null,
            "grid_auto_flow": null,
            "grid_area": null,
            "grid_template_columns": null,
            "flex": null,
            "_model_name": "LayoutModel",
            "justify_items": null,
            "grid_row": null,
            "max_height": null,
            "align_content": null,
            "visibility": null,
            "align_self": null,
            "height": null,
            "min_height": null,
            "padding": null,
            "grid_auto_rows": null,
            "grid_gap": null,
            "max_width": null,
            "order": null,
            "_view_module_version": "1.2.0",
            "grid_template_areas": null,
            "object_position": null,
            "object_fit": null,
            "grid_auto_columns": null,
            "margin": null,
            "display": null,
            "left": null
          }
        },
        "ab58fd0859284efbbe1aca6d78ffb988": {
          "model_module": "@jupyter-widgets/controls",
          "model_name": "DescriptionStyleModel",
          "state": {
            "_view_name": "StyleView",
            "_model_name": "DescriptionStyleModel",
            "description_width": "",
            "_view_module": "@jupyter-widgets/base",
            "_model_module_version": "1.5.0",
            "_view_count": null,
            "_view_module_version": "1.2.0",
            "_model_module": "@jupyter-widgets/controls"
          }
        },
        "4b7fd5b5e5ca444fa1cc1da037b46f62": {
          "model_module": "@jupyter-widgets/base",
          "model_name": "LayoutModel",
          "state": {
            "_view_name": "LayoutView",
            "grid_template_rows": null,
            "right": null,
            "justify_content": null,
            "_view_module": "@jupyter-widgets/base",
            "overflow": null,
            "_model_module_version": "1.2.0",
            "_view_count": null,
            "flex_flow": null,
            "width": null,
            "min_width": null,
            "border": null,
            "align_items": null,
            "bottom": null,
            "_model_module": "@jupyter-widgets/base",
            "top": null,
            "grid_column": null,
            "overflow_y": null,
            "overflow_x": null,
            "grid_auto_flow": null,
            "grid_area": null,
            "grid_template_columns": null,
            "flex": null,
            "_model_name": "LayoutModel",
            "justify_items": null,
            "grid_row": null,
            "max_height": null,
            "align_content": null,
            "visibility": null,
            "align_self": null,
            "height": null,
            "min_height": null,
            "padding": null,
            "grid_auto_rows": null,
            "grid_gap": null,
            "max_width": null,
            "order": null,
            "_view_module_version": "1.2.0",
            "grid_template_areas": null,
            "object_position": null,
            "object_fit": null,
            "grid_auto_columns": null,
            "margin": null,
            "display": null,
            "left": null
          }
        },
        "9cbcaf6150e740d1b716ed2a1400e0d6": {
          "model_module": "@jupyter-widgets/controls",
          "model_name": "HBoxModel",
          "state": {
            "_view_name": "HBoxView",
            "_dom_classes": [],
            "_model_name": "HBoxModel",
            "_view_module": "@jupyter-widgets/controls",
            "_model_module_version": "1.5.0",
            "_view_count": null,
            "_view_module_version": "1.5.0",
            "box_style": "",
            "layout": "IPY_MODEL_e578b0fec60a4d0c8f9c7b3be8d07512",
            "_model_module": "@jupyter-widgets/controls",
            "children": [
              "IPY_MODEL_2e81ed9f59a447d6b4ad01ad962f0f3c",
              "IPY_MODEL_7647bb6b987f40ea8dc98152778777e4"
            ]
          }
        },
        "e578b0fec60a4d0c8f9c7b3be8d07512": {
          "model_module": "@jupyter-widgets/base",
          "model_name": "LayoutModel",
          "state": {
            "_view_name": "LayoutView",
            "grid_template_rows": null,
            "right": null,
            "justify_content": null,
            "_view_module": "@jupyter-widgets/base",
            "overflow": null,
            "_model_module_version": "1.2.0",
            "_view_count": null,
            "flex_flow": null,
            "width": null,
            "min_width": null,
            "border": null,
            "align_items": null,
            "bottom": null,
            "_model_module": "@jupyter-widgets/base",
            "top": null,
            "grid_column": null,
            "overflow_y": null,
            "overflow_x": null,
            "grid_auto_flow": null,
            "grid_area": null,
            "grid_template_columns": null,
            "flex": null,
            "_model_name": "LayoutModel",
            "justify_items": null,
            "grid_row": null,
            "max_height": null,
            "align_content": null,
            "visibility": null,
            "align_self": null,
            "height": null,
            "min_height": null,
            "padding": null,
            "grid_auto_rows": null,
            "grid_gap": null,
            "max_width": null,
            "order": null,
            "_view_module_version": "1.2.0",
            "grid_template_areas": null,
            "object_position": null,
            "object_fit": null,
            "grid_auto_columns": null,
            "margin": null,
            "display": null,
            "left": null
          }
        },
        "2e81ed9f59a447d6b4ad01ad962f0f3c": {
          "model_module": "@jupyter-widgets/controls",
          "model_name": "FloatProgressModel",
          "state": {
            "_view_name": "ProgressView",
            "style": "IPY_MODEL_3527f282f21443c79e562a3cf4076a78",
            "_dom_classes": [],
            "description": "Epoch 4: 100%",
            "_model_name": "FloatProgressModel",
            "bar_style": "",
            "max": 551,
            "_view_module": "@jupyter-widgets/controls",
            "_model_module_version": "1.5.0",
            "value": 551,
            "_view_count": null,
            "_view_module_version": "1.5.0",
            "orientation": "horizontal",
            "min": 0,
            "description_tooltip": null,
            "_model_module": "@jupyter-widgets/controls",
            "layout": "IPY_MODEL_bfdcd2427a50478f94ab9a077e4d5c8d"
          }
        },
        "7647bb6b987f40ea8dc98152778777e4": {
          "model_module": "@jupyter-widgets/controls",
          "model_name": "HTMLModel",
          "state": {
            "_view_name": "HTMLView",
            "style": "IPY_MODEL_f86ef8916bb74f479f686e1f439c3759",
            "_dom_classes": [],
            "description": "",
            "_model_name": "HTMLModel",
            "placeholder": "​",
            "_view_module": "@jupyter-widgets/controls",
            "_model_module_version": "1.5.0",
            "value": " 551/551 [11:55&lt;00:00,  1.02it/s]",
            "_view_count": null,
            "_view_module_version": "1.5.0",
            "description_tooltip": null,
            "_model_module": "@jupyter-widgets/controls",
            "layout": "IPY_MODEL_15956068a4a146a9ba19113ebcfd4983"
          }
        },
        "3527f282f21443c79e562a3cf4076a78": {
          "model_module": "@jupyter-widgets/controls",
          "model_name": "ProgressStyleModel",
          "state": {
            "_view_name": "StyleView",
            "_model_name": "ProgressStyleModel",
            "description_width": "initial",
            "_view_module": "@jupyter-widgets/base",
            "_model_module_version": "1.5.0",
            "_view_count": null,
            "_view_module_version": "1.2.0",
            "bar_color": null,
            "_model_module": "@jupyter-widgets/controls"
          }
        },
        "bfdcd2427a50478f94ab9a077e4d5c8d": {
          "model_module": "@jupyter-widgets/base",
          "model_name": "LayoutModel",
          "state": {
            "_view_name": "LayoutView",
            "grid_template_rows": null,
            "right": null,
            "justify_content": null,
            "_view_module": "@jupyter-widgets/base",
            "overflow": null,
            "_model_module_version": "1.2.0",
            "_view_count": null,
            "flex_flow": null,
            "width": null,
            "min_width": null,
            "border": null,
            "align_items": null,
            "bottom": null,
            "_model_module": "@jupyter-widgets/base",
            "top": null,
            "grid_column": null,
            "overflow_y": null,
            "overflow_x": null,
            "grid_auto_flow": null,
            "grid_area": null,
            "grid_template_columns": null,
            "flex": null,
            "_model_name": "LayoutModel",
            "justify_items": null,
            "grid_row": null,
            "max_height": null,
            "align_content": null,
            "visibility": null,
            "align_self": null,
            "height": null,
            "min_height": null,
            "padding": null,
            "grid_auto_rows": null,
            "grid_gap": null,
            "max_width": null,
            "order": null,
            "_view_module_version": "1.2.0",
            "grid_template_areas": null,
            "object_position": null,
            "object_fit": null,
            "grid_auto_columns": null,
            "margin": null,
            "display": null,
            "left": null
          }
        },
        "f86ef8916bb74f479f686e1f439c3759": {
          "model_module": "@jupyter-widgets/controls",
          "model_name": "DescriptionStyleModel",
          "state": {
            "_view_name": "StyleView",
            "_model_name": "DescriptionStyleModel",
            "description_width": "",
            "_view_module": "@jupyter-widgets/base",
            "_model_module_version": "1.5.0",
            "_view_count": null,
            "_view_module_version": "1.2.0",
            "_model_module": "@jupyter-widgets/controls"
          }
        },
        "15956068a4a146a9ba19113ebcfd4983": {
          "model_module": "@jupyter-widgets/base",
          "model_name": "LayoutModel",
          "state": {
            "_view_name": "LayoutView",
            "grid_template_rows": null,
            "right": null,
            "justify_content": null,
            "_view_module": "@jupyter-widgets/base",
            "overflow": null,
            "_model_module_version": "1.2.0",
            "_view_count": null,
            "flex_flow": null,
            "width": null,
            "min_width": null,
            "border": null,
            "align_items": null,
            "bottom": null,
            "_model_module": "@jupyter-widgets/base",
            "top": null,
            "grid_column": null,
            "overflow_y": null,
            "overflow_x": null,
            "grid_auto_flow": null,
            "grid_area": null,
            "grid_template_columns": null,
            "flex": null,
            "_model_name": "LayoutModel",
            "justify_items": null,
            "grid_row": null,
            "max_height": null,
            "align_content": null,
            "visibility": null,
            "align_self": null,
            "height": null,
            "min_height": null,
            "padding": null,
            "grid_auto_rows": null,
            "grid_gap": null,
            "max_width": null,
            "order": null,
            "_view_module_version": "1.2.0",
            "grid_template_areas": null,
            "object_position": null,
            "object_fit": null,
            "grid_auto_columns": null,
            "margin": null,
            "display": null,
            "left": null
          }
        },
        "d44c2b0440284b259782340e99115183": {
          "model_module": "@jupyter-widgets/controls",
          "model_name": "HBoxModel",
          "state": {
            "_view_name": "HBoxView",
            "_dom_classes": [],
            "_model_name": "HBoxModel",
            "_view_module": "@jupyter-widgets/controls",
            "_model_module_version": "1.5.0",
            "_view_count": null,
            "_view_module_version": "1.5.0",
            "box_style": "",
            "layout": "IPY_MODEL_8828c7e85e6b47029f9d6b106fb640f4",
            "_model_module": "@jupyter-widgets/controls",
            "children": [
              "IPY_MODEL_4d6cd71585744c5fa47c6424478b9d66",
              "IPY_MODEL_48875604fb674c0984b200038bbe07cb"
            ]
          }
        },
        "8828c7e85e6b47029f9d6b106fb640f4": {
          "model_module": "@jupyter-widgets/base",
          "model_name": "LayoutModel",
          "state": {
            "_view_name": "LayoutView",
            "grid_template_rows": null,
            "right": null,
            "justify_content": null,
            "_view_module": "@jupyter-widgets/base",
            "overflow": null,
            "_model_module_version": "1.2.0",
            "_view_count": null,
            "flex_flow": null,
            "width": null,
            "min_width": null,
            "border": null,
            "align_items": null,
            "bottom": null,
            "_model_module": "@jupyter-widgets/base",
            "top": null,
            "grid_column": null,
            "overflow_y": null,
            "overflow_x": null,
            "grid_auto_flow": null,
            "grid_area": null,
            "grid_template_columns": null,
            "flex": null,
            "_model_name": "LayoutModel",
            "justify_items": null,
            "grid_row": null,
            "max_height": null,
            "align_content": null,
            "visibility": null,
            "align_self": null,
            "height": null,
            "min_height": null,
            "padding": null,
            "grid_auto_rows": null,
            "grid_gap": null,
            "max_width": null,
            "order": null,
            "_view_module_version": "1.2.0",
            "grid_template_areas": null,
            "object_position": null,
            "object_fit": null,
            "grid_auto_columns": null,
            "margin": null,
            "display": null,
            "left": null
          }
        },
        "4d6cd71585744c5fa47c6424478b9d66": {
          "model_module": "@jupyter-widgets/controls",
          "model_name": "FloatProgressModel",
          "state": {
            "_view_name": "ProgressView",
            "style": "IPY_MODEL_d0220748d87443ebb7846a81193504eb",
            "_dom_classes": [],
            "description": "Epoch 4: 100%",
            "_model_name": "FloatProgressModel",
            "bar_style": "",
            "max": 10,
            "_view_module": "@jupyter-widgets/controls",
            "_model_module_version": "1.5.0",
            "value": 10,
            "_view_count": null,
            "_view_module_version": "1.5.0",
            "orientation": "horizontal",
            "min": 0,
            "description_tooltip": null,
            "_model_module": "@jupyter-widgets/controls",
            "layout": "IPY_MODEL_89b21399a20349d39bb594247a76e6b5"
          }
        },
        "48875604fb674c0984b200038bbe07cb": {
          "model_module": "@jupyter-widgets/controls",
          "model_name": "HTMLModel",
          "state": {
            "_view_name": "HTMLView",
            "style": "IPY_MODEL_2148a912715242489738f7a8fda908a9",
            "_dom_classes": [],
            "description": "",
            "_model_name": "HTMLModel",
            "placeholder": "​",
            "_view_module": "@jupyter-widgets/controls",
            "_model_module_version": "1.5.0",
            "value": " 10/10 [00:13&lt;00:00,  1.35s/it]",
            "_view_count": null,
            "_view_module_version": "1.5.0",
            "description_tooltip": null,
            "_model_module": "@jupyter-widgets/controls",
            "layout": "IPY_MODEL_8fe26afcc64e456298eeb502f2bcd53d"
          }
        },
        "d0220748d87443ebb7846a81193504eb": {
          "model_module": "@jupyter-widgets/controls",
          "model_name": "ProgressStyleModel",
          "state": {
            "_view_name": "StyleView",
            "_model_name": "ProgressStyleModel",
            "description_width": "initial",
            "_view_module": "@jupyter-widgets/base",
            "_model_module_version": "1.5.0",
            "_view_count": null,
            "_view_module_version": "1.2.0",
            "bar_color": null,
            "_model_module": "@jupyter-widgets/controls"
          }
        },
        "89b21399a20349d39bb594247a76e6b5": {
          "model_module": "@jupyter-widgets/base",
          "model_name": "LayoutModel",
          "state": {
            "_view_name": "LayoutView",
            "grid_template_rows": null,
            "right": null,
            "justify_content": null,
            "_view_module": "@jupyter-widgets/base",
            "overflow": null,
            "_model_module_version": "1.2.0",
            "_view_count": null,
            "flex_flow": null,
            "width": null,
            "min_width": null,
            "border": null,
            "align_items": null,
            "bottom": null,
            "_model_module": "@jupyter-widgets/base",
            "top": null,
            "grid_column": null,
            "overflow_y": null,
            "overflow_x": null,
            "grid_auto_flow": null,
            "grid_area": null,
            "grid_template_columns": null,
            "flex": null,
            "_model_name": "LayoutModel",
            "justify_items": null,
            "grid_row": null,
            "max_height": null,
            "align_content": null,
            "visibility": null,
            "align_self": null,
            "height": null,
            "min_height": null,
            "padding": null,
            "grid_auto_rows": null,
            "grid_gap": null,
            "max_width": null,
            "order": null,
            "_view_module_version": "1.2.0",
            "grid_template_areas": null,
            "object_position": null,
            "object_fit": null,
            "grid_auto_columns": null,
            "margin": null,
            "display": null,
            "left": null
          }
        },
        "2148a912715242489738f7a8fda908a9": {
          "model_module": "@jupyter-widgets/controls",
          "model_name": "DescriptionStyleModel",
          "state": {
            "_view_name": "StyleView",
            "_model_name": "DescriptionStyleModel",
            "description_width": "",
            "_view_module": "@jupyter-widgets/base",
            "_model_module_version": "1.5.0",
            "_view_count": null,
            "_view_module_version": "1.2.0",
            "_model_module": "@jupyter-widgets/controls"
          }
        },
        "8fe26afcc64e456298eeb502f2bcd53d": {
          "model_module": "@jupyter-widgets/base",
          "model_name": "LayoutModel",
          "state": {
            "_view_name": "LayoutView",
            "grid_template_rows": null,
            "right": null,
            "justify_content": null,
            "_view_module": "@jupyter-widgets/base",
            "overflow": null,
            "_model_module_version": "1.2.0",
            "_view_count": null,
            "flex_flow": null,
            "width": null,
            "min_width": null,
            "border": null,
            "align_items": null,
            "bottom": null,
            "_model_module": "@jupyter-widgets/base",
            "top": null,
            "grid_column": null,
            "overflow_y": null,
            "overflow_x": null,
            "grid_auto_flow": null,
            "grid_area": null,
            "grid_template_columns": null,
            "flex": null,
            "_model_name": "LayoutModel",
            "justify_items": null,
            "grid_row": null,
            "max_height": null,
            "align_content": null,
            "visibility": null,
            "align_self": null,
            "height": null,
            "min_height": null,
            "padding": null,
            "grid_auto_rows": null,
            "grid_gap": null,
            "max_width": null,
            "order": null,
            "_view_module_version": "1.2.0",
            "grid_template_areas": null,
            "object_position": null,
            "object_fit": null,
            "grid_auto_columns": null,
            "margin": null,
            "display": null,
            "left": null
          }
        },
        "4e67bfc32c9c403491e792dd9e767a1f": {
          "model_module": "@jupyter-widgets/controls",
          "model_name": "HBoxModel",
          "state": {
            "_view_name": "HBoxView",
            "_dom_classes": [],
            "_model_name": "HBoxModel",
            "_view_module": "@jupyter-widgets/controls",
            "_model_module_version": "1.5.0",
            "_view_count": null,
            "_view_module_version": "1.5.0",
            "box_style": "",
            "layout": "IPY_MODEL_7c18fc8a51234d158657d92dcc71e826",
            "_model_module": "@jupyter-widgets/controls",
            "children": [
              "IPY_MODEL_b279b4a693de4ccbaf606f92a7d6a3a4",
              "IPY_MODEL_ee1f45b3403f4859bc771927b78ca6e6"
            ]
          }
        },
        "7c18fc8a51234d158657d92dcc71e826": {
          "model_module": "@jupyter-widgets/base",
          "model_name": "LayoutModel",
          "state": {
            "_view_name": "LayoutView",
            "grid_template_rows": null,
            "right": null,
            "justify_content": null,
            "_view_module": "@jupyter-widgets/base",
            "overflow": null,
            "_model_module_version": "1.2.0",
            "_view_count": null,
            "flex_flow": null,
            "width": null,
            "min_width": null,
            "border": null,
            "align_items": null,
            "bottom": null,
            "_model_module": "@jupyter-widgets/base",
            "top": null,
            "grid_column": null,
            "overflow_y": null,
            "overflow_x": null,
            "grid_auto_flow": null,
            "grid_area": null,
            "grid_template_columns": null,
            "flex": null,
            "_model_name": "LayoutModel",
            "justify_items": null,
            "grid_row": null,
            "max_height": null,
            "align_content": null,
            "visibility": null,
            "align_self": null,
            "height": null,
            "min_height": null,
            "padding": null,
            "grid_auto_rows": null,
            "grid_gap": null,
            "max_width": null,
            "order": null,
            "_view_module_version": "1.2.0",
            "grid_template_areas": null,
            "object_position": null,
            "object_fit": null,
            "grid_auto_columns": null,
            "margin": null,
            "display": null,
            "left": null
          }
        },
        "b279b4a693de4ccbaf606f92a7d6a3a4": {
          "model_module": "@jupyter-widgets/controls",
          "model_name": "FloatProgressModel",
          "state": {
            "_view_name": "ProgressView",
            "style": "IPY_MODEL_0248bec54104492783aca2119b16201e",
            "_dom_classes": [],
            "description": "Epoch 5: 100%",
            "_model_name": "FloatProgressModel",
            "bar_style": "",
            "max": 551,
            "_view_module": "@jupyter-widgets/controls",
            "_model_module_version": "1.5.0",
            "value": 551,
            "_view_count": null,
            "_view_module_version": "1.5.0",
            "orientation": "horizontal",
            "min": 0,
            "description_tooltip": null,
            "_model_module": "@jupyter-widgets/controls",
            "layout": "IPY_MODEL_9e3f916651a04a33b1857f64370b5f5d"
          }
        },
        "ee1f45b3403f4859bc771927b78ca6e6": {
          "model_module": "@jupyter-widgets/controls",
          "model_name": "HTMLModel",
          "state": {
            "_view_name": "HTMLView",
            "style": "IPY_MODEL_ffab6cba70f44c42bcffe18c1be43c36",
            "_dom_classes": [],
            "description": "",
            "_model_name": "HTMLModel",
            "placeholder": "​",
            "_view_module": "@jupyter-widgets/controls",
            "_model_module_version": "1.5.0",
            "value": " 551/551 [11:54&lt;00:00,  1.02it/s]",
            "_view_count": null,
            "_view_module_version": "1.5.0",
            "description_tooltip": null,
            "_model_module": "@jupyter-widgets/controls",
            "layout": "IPY_MODEL_2d7c6800d7b84ca3ac34713d7a101513"
          }
        },
        "0248bec54104492783aca2119b16201e": {
          "model_module": "@jupyter-widgets/controls",
          "model_name": "ProgressStyleModel",
          "state": {
            "_view_name": "StyleView",
            "_model_name": "ProgressStyleModel",
            "description_width": "initial",
            "_view_module": "@jupyter-widgets/base",
            "_model_module_version": "1.5.0",
            "_view_count": null,
            "_view_module_version": "1.2.0",
            "bar_color": null,
            "_model_module": "@jupyter-widgets/controls"
          }
        },
        "9e3f916651a04a33b1857f64370b5f5d": {
          "model_module": "@jupyter-widgets/base",
          "model_name": "LayoutModel",
          "state": {
            "_view_name": "LayoutView",
            "grid_template_rows": null,
            "right": null,
            "justify_content": null,
            "_view_module": "@jupyter-widgets/base",
            "overflow": null,
            "_model_module_version": "1.2.0",
            "_view_count": null,
            "flex_flow": null,
            "width": null,
            "min_width": null,
            "border": null,
            "align_items": null,
            "bottom": null,
            "_model_module": "@jupyter-widgets/base",
            "top": null,
            "grid_column": null,
            "overflow_y": null,
            "overflow_x": null,
            "grid_auto_flow": null,
            "grid_area": null,
            "grid_template_columns": null,
            "flex": null,
            "_model_name": "LayoutModel",
            "justify_items": null,
            "grid_row": null,
            "max_height": null,
            "align_content": null,
            "visibility": null,
            "align_self": null,
            "height": null,
            "min_height": null,
            "padding": null,
            "grid_auto_rows": null,
            "grid_gap": null,
            "max_width": null,
            "order": null,
            "_view_module_version": "1.2.0",
            "grid_template_areas": null,
            "object_position": null,
            "object_fit": null,
            "grid_auto_columns": null,
            "margin": null,
            "display": null,
            "left": null
          }
        },
        "ffab6cba70f44c42bcffe18c1be43c36": {
          "model_module": "@jupyter-widgets/controls",
          "model_name": "DescriptionStyleModel",
          "state": {
            "_view_name": "StyleView",
            "_model_name": "DescriptionStyleModel",
            "description_width": "",
            "_view_module": "@jupyter-widgets/base",
            "_model_module_version": "1.5.0",
            "_view_count": null,
            "_view_module_version": "1.2.0",
            "_model_module": "@jupyter-widgets/controls"
          }
        },
        "2d7c6800d7b84ca3ac34713d7a101513": {
          "model_module": "@jupyter-widgets/base",
          "model_name": "LayoutModel",
          "state": {
            "_view_name": "LayoutView",
            "grid_template_rows": null,
            "right": null,
            "justify_content": null,
            "_view_module": "@jupyter-widgets/base",
            "overflow": null,
            "_model_module_version": "1.2.0",
            "_view_count": null,
            "flex_flow": null,
            "width": null,
            "min_width": null,
            "border": null,
            "align_items": null,
            "bottom": null,
            "_model_module": "@jupyter-widgets/base",
            "top": null,
            "grid_column": null,
            "overflow_y": null,
            "overflow_x": null,
            "grid_auto_flow": null,
            "grid_area": null,
            "grid_template_columns": null,
            "flex": null,
            "_model_name": "LayoutModel",
            "justify_items": null,
            "grid_row": null,
            "max_height": null,
            "align_content": null,
            "visibility": null,
            "align_self": null,
            "height": null,
            "min_height": null,
            "padding": null,
            "grid_auto_rows": null,
            "grid_gap": null,
            "max_width": null,
            "order": null,
            "_view_module_version": "1.2.0",
            "grid_template_areas": null,
            "object_position": null,
            "object_fit": null,
            "grid_auto_columns": null,
            "margin": null,
            "display": null,
            "left": null
          }
        },
        "3a2a3d5a3afb4554b2108810448b5b6d": {
          "model_module": "@jupyter-widgets/controls",
          "model_name": "HBoxModel",
          "state": {
            "_view_name": "HBoxView",
            "_dom_classes": [],
            "_model_name": "HBoxModel",
            "_view_module": "@jupyter-widgets/controls",
            "_model_module_version": "1.5.0",
            "_view_count": null,
            "_view_module_version": "1.5.0",
            "box_style": "",
            "layout": "IPY_MODEL_efd4c3046f564ac489d237fb12fea18f",
            "_model_module": "@jupyter-widgets/controls",
            "children": [
              "IPY_MODEL_9db44743b0e54f9b8d0590149a81b4d5",
              "IPY_MODEL_a5af3a9895274563b738e8d293e341c5"
            ]
          }
        },
        "efd4c3046f564ac489d237fb12fea18f": {
          "model_module": "@jupyter-widgets/base",
          "model_name": "LayoutModel",
          "state": {
            "_view_name": "LayoutView",
            "grid_template_rows": null,
            "right": null,
            "justify_content": null,
            "_view_module": "@jupyter-widgets/base",
            "overflow": null,
            "_model_module_version": "1.2.0",
            "_view_count": null,
            "flex_flow": null,
            "width": null,
            "min_width": null,
            "border": null,
            "align_items": null,
            "bottom": null,
            "_model_module": "@jupyter-widgets/base",
            "top": null,
            "grid_column": null,
            "overflow_y": null,
            "overflow_x": null,
            "grid_auto_flow": null,
            "grid_area": null,
            "grid_template_columns": null,
            "flex": null,
            "_model_name": "LayoutModel",
            "justify_items": null,
            "grid_row": null,
            "max_height": null,
            "align_content": null,
            "visibility": null,
            "align_self": null,
            "height": null,
            "min_height": null,
            "padding": null,
            "grid_auto_rows": null,
            "grid_gap": null,
            "max_width": null,
            "order": null,
            "_view_module_version": "1.2.0",
            "grid_template_areas": null,
            "object_position": null,
            "object_fit": null,
            "grid_auto_columns": null,
            "margin": null,
            "display": null,
            "left": null
          }
        },
        "9db44743b0e54f9b8d0590149a81b4d5": {
          "model_module": "@jupyter-widgets/controls",
          "model_name": "FloatProgressModel",
          "state": {
            "_view_name": "ProgressView",
            "style": "IPY_MODEL_e675f6c4eebc4b718fe698644bcc3c4b",
            "_dom_classes": [],
            "description": "Epoch 5: 100%",
            "_model_name": "FloatProgressModel",
            "bar_style": "",
            "max": 10,
            "_view_module": "@jupyter-widgets/controls",
            "_model_module_version": "1.5.0",
            "value": 10,
            "_view_count": null,
            "_view_module_version": "1.5.0",
            "orientation": "horizontal",
            "min": 0,
            "description_tooltip": null,
            "_model_module": "@jupyter-widgets/controls",
            "layout": "IPY_MODEL_15cb5e65b83b470897ece663b511e3e2"
          }
        },
        "a5af3a9895274563b738e8d293e341c5": {
          "model_module": "@jupyter-widgets/controls",
          "model_name": "HTMLModel",
          "state": {
            "_view_name": "HTMLView",
            "style": "IPY_MODEL_90eafebea12f4bd5bd715fd8bc0e5410",
            "_dom_classes": [],
            "description": "",
            "_model_name": "HTMLModel",
            "placeholder": "​",
            "_view_module": "@jupyter-widgets/controls",
            "_model_module_version": "1.5.0",
            "value": " 10/10 [00:13&lt;00:00,  1.36s/it]",
            "_view_count": null,
            "_view_module_version": "1.5.0",
            "description_tooltip": null,
            "_model_module": "@jupyter-widgets/controls",
            "layout": "IPY_MODEL_2781b5b1e71e4af387d23d42740044c0"
          }
        },
        "e675f6c4eebc4b718fe698644bcc3c4b": {
          "model_module": "@jupyter-widgets/controls",
          "model_name": "ProgressStyleModel",
          "state": {
            "_view_name": "StyleView",
            "_model_name": "ProgressStyleModel",
            "description_width": "initial",
            "_view_module": "@jupyter-widgets/base",
            "_model_module_version": "1.5.0",
            "_view_count": null,
            "_view_module_version": "1.2.0",
            "bar_color": null,
            "_model_module": "@jupyter-widgets/controls"
          }
        },
        "15cb5e65b83b470897ece663b511e3e2": {
          "model_module": "@jupyter-widgets/base",
          "model_name": "LayoutModel",
          "state": {
            "_view_name": "LayoutView",
            "grid_template_rows": null,
            "right": null,
            "justify_content": null,
            "_view_module": "@jupyter-widgets/base",
            "overflow": null,
            "_model_module_version": "1.2.0",
            "_view_count": null,
            "flex_flow": null,
            "width": null,
            "min_width": null,
            "border": null,
            "align_items": null,
            "bottom": null,
            "_model_module": "@jupyter-widgets/base",
            "top": null,
            "grid_column": null,
            "overflow_y": null,
            "overflow_x": null,
            "grid_auto_flow": null,
            "grid_area": null,
            "grid_template_columns": null,
            "flex": null,
            "_model_name": "LayoutModel",
            "justify_items": null,
            "grid_row": null,
            "max_height": null,
            "align_content": null,
            "visibility": null,
            "align_self": null,
            "height": null,
            "min_height": null,
            "padding": null,
            "grid_auto_rows": null,
            "grid_gap": null,
            "max_width": null,
            "order": null,
            "_view_module_version": "1.2.0",
            "grid_template_areas": null,
            "object_position": null,
            "object_fit": null,
            "grid_auto_columns": null,
            "margin": null,
            "display": null,
            "left": null
          }
        },
        "90eafebea12f4bd5bd715fd8bc0e5410": {
          "model_module": "@jupyter-widgets/controls",
          "model_name": "DescriptionStyleModel",
          "state": {
            "_view_name": "StyleView",
            "_model_name": "DescriptionStyleModel",
            "description_width": "",
            "_view_module": "@jupyter-widgets/base",
            "_model_module_version": "1.5.0",
            "_view_count": null,
            "_view_module_version": "1.2.0",
            "_model_module": "@jupyter-widgets/controls"
          }
        },
        "2781b5b1e71e4af387d23d42740044c0": {
          "model_module": "@jupyter-widgets/base",
          "model_name": "LayoutModel",
          "state": {
            "_view_name": "LayoutView",
            "grid_template_rows": null,
            "right": null,
            "justify_content": null,
            "_view_module": "@jupyter-widgets/base",
            "overflow": null,
            "_model_module_version": "1.2.0",
            "_view_count": null,
            "flex_flow": null,
            "width": null,
            "min_width": null,
            "border": null,
            "align_items": null,
            "bottom": null,
            "_model_module": "@jupyter-widgets/base",
            "top": null,
            "grid_column": null,
            "overflow_y": null,
            "overflow_x": null,
            "grid_auto_flow": null,
            "grid_area": null,
            "grid_template_columns": null,
            "flex": null,
            "_model_name": "LayoutModel",
            "justify_items": null,
            "grid_row": null,
            "max_height": null,
            "align_content": null,
            "visibility": null,
            "align_self": null,
            "height": null,
            "min_height": null,
            "padding": null,
            "grid_auto_rows": null,
            "grid_gap": null,
            "max_width": null,
            "order": null,
            "_view_module_version": "1.2.0",
            "grid_template_areas": null,
            "object_position": null,
            "object_fit": null,
            "grid_auto_columns": null,
            "margin": null,
            "display": null,
            "left": null
          }
        },
        "79cecd4b94b24ae28c462c582dbe4910": {
          "model_module": "@jupyter-widgets/controls",
          "model_name": "HBoxModel",
          "state": {
            "_view_name": "HBoxView",
            "_dom_classes": [],
            "_model_name": "HBoxModel",
            "_view_module": "@jupyter-widgets/controls",
            "_model_module_version": "1.5.0",
            "_view_count": null,
            "_view_module_version": "1.5.0",
            "box_style": "",
            "layout": "IPY_MODEL_20b0dbcd1f654e9e83511119079c96c3",
            "_model_module": "@jupyter-widgets/controls",
            "children": [
              "IPY_MODEL_2bf83a95a2b74fe3b5600f105f63f301",
              "IPY_MODEL_7a0b1c3196034ed08d5811ee261f25e6"
            ]
          }
        },
        "20b0dbcd1f654e9e83511119079c96c3": {
          "model_module": "@jupyter-widgets/base",
          "model_name": "LayoutModel",
          "state": {
            "_view_name": "LayoutView",
            "grid_template_rows": null,
            "right": null,
            "justify_content": null,
            "_view_module": "@jupyter-widgets/base",
            "overflow": null,
            "_model_module_version": "1.2.0",
            "_view_count": null,
            "flex_flow": null,
            "width": null,
            "min_width": null,
            "border": null,
            "align_items": null,
            "bottom": null,
            "_model_module": "@jupyter-widgets/base",
            "top": null,
            "grid_column": null,
            "overflow_y": null,
            "overflow_x": null,
            "grid_auto_flow": null,
            "grid_area": null,
            "grid_template_columns": null,
            "flex": null,
            "_model_name": "LayoutModel",
            "justify_items": null,
            "grid_row": null,
            "max_height": null,
            "align_content": null,
            "visibility": null,
            "align_self": null,
            "height": null,
            "min_height": null,
            "padding": null,
            "grid_auto_rows": null,
            "grid_gap": null,
            "max_width": null,
            "order": null,
            "_view_module_version": "1.2.0",
            "grid_template_areas": null,
            "object_position": null,
            "object_fit": null,
            "grid_auto_columns": null,
            "margin": null,
            "display": null,
            "left": null
          }
        },
        "2bf83a95a2b74fe3b5600f105f63f301": {
          "model_module": "@jupyter-widgets/controls",
          "model_name": "FloatProgressModel",
          "state": {
            "_view_name": "ProgressView",
            "style": "IPY_MODEL_34ee398a8e5f414f82deb2eebcd53edc",
            "_dom_classes": [],
            "description": "Epoch 6: 100%",
            "_model_name": "FloatProgressModel",
            "bar_style": "",
            "max": 551,
            "_view_module": "@jupyter-widgets/controls",
            "_model_module_version": "1.5.0",
            "value": 551,
            "_view_count": null,
            "_view_module_version": "1.5.0",
            "orientation": "horizontal",
            "min": 0,
            "description_tooltip": null,
            "_model_module": "@jupyter-widgets/controls",
            "layout": "IPY_MODEL_f187f154ef1642d692678a6bc6110021"
          }
        },
        "7a0b1c3196034ed08d5811ee261f25e6": {
          "model_module": "@jupyter-widgets/controls",
          "model_name": "HTMLModel",
          "state": {
            "_view_name": "HTMLView",
            "style": "IPY_MODEL_607828da459f42c4bb006c595d57565a",
            "_dom_classes": [],
            "description": "",
            "_model_name": "HTMLModel",
            "placeholder": "​",
            "_view_module": "@jupyter-widgets/controls",
            "_model_module_version": "1.5.0",
            "value": " 551/551 [11:57&lt;00:00,  1.03it/s]",
            "_view_count": null,
            "_view_module_version": "1.5.0",
            "description_tooltip": null,
            "_model_module": "@jupyter-widgets/controls",
            "layout": "IPY_MODEL_e5176c87eb3a4c2abe18b3921af52d52"
          }
        },
        "34ee398a8e5f414f82deb2eebcd53edc": {
          "model_module": "@jupyter-widgets/controls",
          "model_name": "ProgressStyleModel",
          "state": {
            "_view_name": "StyleView",
            "_model_name": "ProgressStyleModel",
            "description_width": "initial",
            "_view_module": "@jupyter-widgets/base",
            "_model_module_version": "1.5.0",
            "_view_count": null,
            "_view_module_version": "1.2.0",
            "bar_color": null,
            "_model_module": "@jupyter-widgets/controls"
          }
        },
        "f187f154ef1642d692678a6bc6110021": {
          "model_module": "@jupyter-widgets/base",
          "model_name": "LayoutModel",
          "state": {
            "_view_name": "LayoutView",
            "grid_template_rows": null,
            "right": null,
            "justify_content": null,
            "_view_module": "@jupyter-widgets/base",
            "overflow": null,
            "_model_module_version": "1.2.0",
            "_view_count": null,
            "flex_flow": null,
            "width": null,
            "min_width": null,
            "border": null,
            "align_items": null,
            "bottom": null,
            "_model_module": "@jupyter-widgets/base",
            "top": null,
            "grid_column": null,
            "overflow_y": null,
            "overflow_x": null,
            "grid_auto_flow": null,
            "grid_area": null,
            "grid_template_columns": null,
            "flex": null,
            "_model_name": "LayoutModel",
            "justify_items": null,
            "grid_row": null,
            "max_height": null,
            "align_content": null,
            "visibility": null,
            "align_self": null,
            "height": null,
            "min_height": null,
            "padding": null,
            "grid_auto_rows": null,
            "grid_gap": null,
            "max_width": null,
            "order": null,
            "_view_module_version": "1.2.0",
            "grid_template_areas": null,
            "object_position": null,
            "object_fit": null,
            "grid_auto_columns": null,
            "margin": null,
            "display": null,
            "left": null
          }
        },
        "607828da459f42c4bb006c595d57565a": {
          "model_module": "@jupyter-widgets/controls",
          "model_name": "DescriptionStyleModel",
          "state": {
            "_view_name": "StyleView",
            "_model_name": "DescriptionStyleModel",
            "description_width": "",
            "_view_module": "@jupyter-widgets/base",
            "_model_module_version": "1.5.0",
            "_view_count": null,
            "_view_module_version": "1.2.0",
            "_model_module": "@jupyter-widgets/controls"
          }
        },
        "e5176c87eb3a4c2abe18b3921af52d52": {
          "model_module": "@jupyter-widgets/base",
          "model_name": "LayoutModel",
          "state": {
            "_view_name": "LayoutView",
            "grid_template_rows": null,
            "right": null,
            "justify_content": null,
            "_view_module": "@jupyter-widgets/base",
            "overflow": null,
            "_model_module_version": "1.2.0",
            "_view_count": null,
            "flex_flow": null,
            "width": null,
            "min_width": null,
            "border": null,
            "align_items": null,
            "bottom": null,
            "_model_module": "@jupyter-widgets/base",
            "top": null,
            "grid_column": null,
            "overflow_y": null,
            "overflow_x": null,
            "grid_auto_flow": null,
            "grid_area": null,
            "grid_template_columns": null,
            "flex": null,
            "_model_name": "LayoutModel",
            "justify_items": null,
            "grid_row": null,
            "max_height": null,
            "align_content": null,
            "visibility": null,
            "align_self": null,
            "height": null,
            "min_height": null,
            "padding": null,
            "grid_auto_rows": null,
            "grid_gap": null,
            "max_width": null,
            "order": null,
            "_view_module_version": "1.2.0",
            "grid_template_areas": null,
            "object_position": null,
            "object_fit": null,
            "grid_auto_columns": null,
            "margin": null,
            "display": null,
            "left": null
          }
        },
        "8a2c18895ad4474480770f4de08fae46": {
          "model_module": "@jupyter-widgets/controls",
          "model_name": "HBoxModel",
          "state": {
            "_view_name": "HBoxView",
            "_dom_classes": [],
            "_model_name": "HBoxModel",
            "_view_module": "@jupyter-widgets/controls",
            "_model_module_version": "1.5.0",
            "_view_count": null,
            "_view_module_version": "1.5.0",
            "box_style": "",
            "layout": "IPY_MODEL_331ec94003054850b88e40713acb2627",
            "_model_module": "@jupyter-widgets/controls",
            "children": [
              "IPY_MODEL_e37e9760ce1f4047ac015f1b95f7f75f",
              "IPY_MODEL_3dbec500c50f41ac9bafc9594011dcf8"
            ]
          }
        },
        "331ec94003054850b88e40713acb2627": {
          "model_module": "@jupyter-widgets/base",
          "model_name": "LayoutModel",
          "state": {
            "_view_name": "LayoutView",
            "grid_template_rows": null,
            "right": null,
            "justify_content": null,
            "_view_module": "@jupyter-widgets/base",
            "overflow": null,
            "_model_module_version": "1.2.0",
            "_view_count": null,
            "flex_flow": null,
            "width": null,
            "min_width": null,
            "border": null,
            "align_items": null,
            "bottom": null,
            "_model_module": "@jupyter-widgets/base",
            "top": null,
            "grid_column": null,
            "overflow_y": null,
            "overflow_x": null,
            "grid_auto_flow": null,
            "grid_area": null,
            "grid_template_columns": null,
            "flex": null,
            "_model_name": "LayoutModel",
            "justify_items": null,
            "grid_row": null,
            "max_height": null,
            "align_content": null,
            "visibility": null,
            "align_self": null,
            "height": null,
            "min_height": null,
            "padding": null,
            "grid_auto_rows": null,
            "grid_gap": null,
            "max_width": null,
            "order": null,
            "_view_module_version": "1.2.0",
            "grid_template_areas": null,
            "object_position": null,
            "object_fit": null,
            "grid_auto_columns": null,
            "margin": null,
            "display": null,
            "left": null
          }
        },
        "e37e9760ce1f4047ac015f1b95f7f75f": {
          "model_module": "@jupyter-widgets/controls",
          "model_name": "FloatProgressModel",
          "state": {
            "_view_name": "ProgressView",
            "style": "IPY_MODEL_6a4cae0f66c745b384e9266b69f3da8f",
            "_dom_classes": [],
            "description": "Epoch 6: 100%",
            "_model_name": "FloatProgressModel",
            "bar_style": "",
            "max": 10,
            "_view_module": "@jupyter-widgets/controls",
            "_model_module_version": "1.5.0",
            "value": 10,
            "_view_count": null,
            "_view_module_version": "1.5.0",
            "orientation": "horizontal",
            "min": 0,
            "description_tooltip": null,
            "_model_module": "@jupyter-widgets/controls",
            "layout": "IPY_MODEL_7e65fde290204a63b54c1ce3678c248f"
          }
        },
        "3dbec500c50f41ac9bafc9594011dcf8": {
          "model_module": "@jupyter-widgets/controls",
          "model_name": "HTMLModel",
          "state": {
            "_view_name": "HTMLView",
            "style": "IPY_MODEL_b3357d7a6a4a40059dd85829bb24b88e",
            "_dom_classes": [],
            "description": "",
            "_model_name": "HTMLModel",
            "placeholder": "​",
            "_view_module": "@jupyter-widgets/controls",
            "_model_module_version": "1.5.0",
            "value": " 10/10 [00:13&lt;00:00,  1.35s/it]",
            "_view_count": null,
            "_view_module_version": "1.5.0",
            "description_tooltip": null,
            "_model_module": "@jupyter-widgets/controls",
            "layout": "IPY_MODEL_695e14e6e3f74702ad9bc3a2e143d16c"
          }
        },
        "6a4cae0f66c745b384e9266b69f3da8f": {
          "model_module": "@jupyter-widgets/controls",
          "model_name": "ProgressStyleModel",
          "state": {
            "_view_name": "StyleView",
            "_model_name": "ProgressStyleModel",
            "description_width": "initial",
            "_view_module": "@jupyter-widgets/base",
            "_model_module_version": "1.5.0",
            "_view_count": null,
            "_view_module_version": "1.2.0",
            "bar_color": null,
            "_model_module": "@jupyter-widgets/controls"
          }
        },
        "7e65fde290204a63b54c1ce3678c248f": {
          "model_module": "@jupyter-widgets/base",
          "model_name": "LayoutModel",
          "state": {
            "_view_name": "LayoutView",
            "grid_template_rows": null,
            "right": null,
            "justify_content": null,
            "_view_module": "@jupyter-widgets/base",
            "overflow": null,
            "_model_module_version": "1.2.0",
            "_view_count": null,
            "flex_flow": null,
            "width": null,
            "min_width": null,
            "border": null,
            "align_items": null,
            "bottom": null,
            "_model_module": "@jupyter-widgets/base",
            "top": null,
            "grid_column": null,
            "overflow_y": null,
            "overflow_x": null,
            "grid_auto_flow": null,
            "grid_area": null,
            "grid_template_columns": null,
            "flex": null,
            "_model_name": "LayoutModel",
            "justify_items": null,
            "grid_row": null,
            "max_height": null,
            "align_content": null,
            "visibility": null,
            "align_self": null,
            "height": null,
            "min_height": null,
            "padding": null,
            "grid_auto_rows": null,
            "grid_gap": null,
            "max_width": null,
            "order": null,
            "_view_module_version": "1.2.0",
            "grid_template_areas": null,
            "object_position": null,
            "object_fit": null,
            "grid_auto_columns": null,
            "margin": null,
            "display": null,
            "left": null
          }
        },
        "b3357d7a6a4a40059dd85829bb24b88e": {
          "model_module": "@jupyter-widgets/controls",
          "model_name": "DescriptionStyleModel",
          "state": {
            "_view_name": "StyleView",
            "_model_name": "DescriptionStyleModel",
            "description_width": "",
            "_view_module": "@jupyter-widgets/base",
            "_model_module_version": "1.5.0",
            "_view_count": null,
            "_view_module_version": "1.2.0",
            "_model_module": "@jupyter-widgets/controls"
          }
        },
        "695e14e6e3f74702ad9bc3a2e143d16c": {
          "model_module": "@jupyter-widgets/base",
          "model_name": "LayoutModel",
          "state": {
            "_view_name": "LayoutView",
            "grid_template_rows": null,
            "right": null,
            "justify_content": null,
            "_view_module": "@jupyter-widgets/base",
            "overflow": null,
            "_model_module_version": "1.2.0",
            "_view_count": null,
            "flex_flow": null,
            "width": null,
            "min_width": null,
            "border": null,
            "align_items": null,
            "bottom": null,
            "_model_module": "@jupyter-widgets/base",
            "top": null,
            "grid_column": null,
            "overflow_y": null,
            "overflow_x": null,
            "grid_auto_flow": null,
            "grid_area": null,
            "grid_template_columns": null,
            "flex": null,
            "_model_name": "LayoutModel",
            "justify_items": null,
            "grid_row": null,
            "max_height": null,
            "align_content": null,
            "visibility": null,
            "align_self": null,
            "height": null,
            "min_height": null,
            "padding": null,
            "grid_auto_rows": null,
            "grid_gap": null,
            "max_width": null,
            "order": null,
            "_view_module_version": "1.2.0",
            "grid_template_areas": null,
            "object_position": null,
            "object_fit": null,
            "grid_auto_columns": null,
            "margin": null,
            "display": null,
            "left": null
          }
        },
        "8cc81e14c05b48d5aa4da03bc1aab48b": {
          "model_module": "@jupyter-widgets/controls",
          "model_name": "HBoxModel",
          "state": {
            "_view_name": "HBoxView",
            "_dom_classes": [],
            "_model_name": "HBoxModel",
            "_view_module": "@jupyter-widgets/controls",
            "_model_module_version": "1.5.0",
            "_view_count": null,
            "_view_module_version": "1.5.0",
            "box_style": "",
            "layout": "IPY_MODEL_bc68b03502b74182b0150df81d5b4e25",
            "_model_module": "@jupyter-widgets/controls",
            "children": [
              "IPY_MODEL_1acd59dc0933488bb35dd802a3bffcb5",
              "IPY_MODEL_6cdee5e7618c42a7b3fb4f9e40b1d70f"
            ]
          }
        },
        "bc68b03502b74182b0150df81d5b4e25": {
          "model_module": "@jupyter-widgets/base",
          "model_name": "LayoutModel",
          "state": {
            "_view_name": "LayoutView",
            "grid_template_rows": null,
            "right": null,
            "justify_content": null,
            "_view_module": "@jupyter-widgets/base",
            "overflow": null,
            "_model_module_version": "1.2.0",
            "_view_count": null,
            "flex_flow": null,
            "width": null,
            "min_width": null,
            "border": null,
            "align_items": null,
            "bottom": null,
            "_model_module": "@jupyter-widgets/base",
            "top": null,
            "grid_column": null,
            "overflow_y": null,
            "overflow_x": null,
            "grid_auto_flow": null,
            "grid_area": null,
            "grid_template_columns": null,
            "flex": null,
            "_model_name": "LayoutModel",
            "justify_items": null,
            "grid_row": null,
            "max_height": null,
            "align_content": null,
            "visibility": null,
            "align_self": null,
            "height": null,
            "min_height": null,
            "padding": null,
            "grid_auto_rows": null,
            "grid_gap": null,
            "max_width": null,
            "order": null,
            "_view_module_version": "1.2.0",
            "grid_template_areas": null,
            "object_position": null,
            "object_fit": null,
            "grid_auto_columns": null,
            "margin": null,
            "display": null,
            "left": null
          }
        },
        "1acd59dc0933488bb35dd802a3bffcb5": {
          "model_module": "@jupyter-widgets/controls",
          "model_name": "FloatProgressModel",
          "state": {
            "_view_name": "ProgressView",
            "style": "IPY_MODEL_2dae131e22134af6ae4cca6007fb0cb0",
            "_dom_classes": [],
            "description": "100%",
            "_model_name": "FloatProgressModel",
            "bar_style": "",
            "max": 551,
            "_view_module": "@jupyter-widgets/controls",
            "_model_module_version": "1.5.0",
            "value": 551,
            "_view_count": null,
            "_view_module_version": "1.5.0",
            "orientation": "horizontal",
            "min": 0,
            "description_tooltip": null,
            "_model_module": "@jupyter-widgets/controls",
            "layout": "IPY_MODEL_b91ac9c3ba8b4023bb9bffe6fb7fa568"
          }
        },
        "6cdee5e7618c42a7b3fb4f9e40b1d70f": {
          "model_module": "@jupyter-widgets/controls",
          "model_name": "HTMLModel",
          "state": {
            "_view_name": "HTMLView",
            "style": "IPY_MODEL_a5c1e48ca48f4893af2044ec720b335b",
            "_dom_classes": [],
            "description": "",
            "_model_name": "HTMLModel",
            "placeholder": "​",
            "_view_module": "@jupyter-widgets/controls",
            "_model_module_version": "1.5.0",
            "value": " 551/551 [11:51&lt;00:00,  1.02it/s]",
            "_view_count": null,
            "_view_module_version": "1.5.0",
            "description_tooltip": null,
            "_model_module": "@jupyter-widgets/controls",
            "layout": "IPY_MODEL_395115b1ab3d4d30889e48b3e7937197"
          }
        },
        "2dae131e22134af6ae4cca6007fb0cb0": {
          "model_module": "@jupyter-widgets/controls",
          "model_name": "ProgressStyleModel",
          "state": {
            "_view_name": "StyleView",
            "_model_name": "ProgressStyleModel",
            "description_width": "initial",
            "_view_module": "@jupyter-widgets/base",
            "_model_module_version": "1.5.0",
            "_view_count": null,
            "_view_module_version": "1.2.0",
            "bar_color": null,
            "_model_module": "@jupyter-widgets/controls"
          }
        },
        "b91ac9c3ba8b4023bb9bffe6fb7fa568": {
          "model_module": "@jupyter-widgets/base",
          "model_name": "LayoutModel",
          "state": {
            "_view_name": "LayoutView",
            "grid_template_rows": null,
            "right": null,
            "justify_content": null,
            "_view_module": "@jupyter-widgets/base",
            "overflow": null,
            "_model_module_version": "1.2.0",
            "_view_count": null,
            "flex_flow": null,
            "width": null,
            "min_width": null,
            "border": null,
            "align_items": null,
            "bottom": null,
            "_model_module": "@jupyter-widgets/base",
            "top": null,
            "grid_column": null,
            "overflow_y": null,
            "overflow_x": null,
            "grid_auto_flow": null,
            "grid_area": null,
            "grid_template_columns": null,
            "flex": null,
            "_model_name": "LayoutModel",
            "justify_items": null,
            "grid_row": null,
            "max_height": null,
            "align_content": null,
            "visibility": null,
            "align_self": null,
            "height": null,
            "min_height": null,
            "padding": null,
            "grid_auto_rows": null,
            "grid_gap": null,
            "max_width": null,
            "order": null,
            "_view_module_version": "1.2.0",
            "grid_template_areas": null,
            "object_position": null,
            "object_fit": null,
            "grid_auto_columns": null,
            "margin": null,
            "display": null,
            "left": null
          }
        },
        "a5c1e48ca48f4893af2044ec720b335b": {
          "model_module": "@jupyter-widgets/controls",
          "model_name": "DescriptionStyleModel",
          "state": {
            "_view_name": "StyleView",
            "_model_name": "DescriptionStyleModel",
            "description_width": "",
            "_view_module": "@jupyter-widgets/base",
            "_model_module_version": "1.5.0",
            "_view_count": null,
            "_view_module_version": "1.2.0",
            "_model_module": "@jupyter-widgets/controls"
          }
        },
        "395115b1ab3d4d30889e48b3e7937197": {
          "model_module": "@jupyter-widgets/base",
          "model_name": "LayoutModel",
          "state": {
            "_view_name": "LayoutView",
            "grid_template_rows": null,
            "right": null,
            "justify_content": null,
            "_view_module": "@jupyter-widgets/base",
            "overflow": null,
            "_model_module_version": "1.2.0",
            "_view_count": null,
            "flex_flow": null,
            "width": null,
            "min_width": null,
            "border": null,
            "align_items": null,
            "bottom": null,
            "_model_module": "@jupyter-widgets/base",
            "top": null,
            "grid_column": null,
            "overflow_y": null,
            "overflow_x": null,
            "grid_auto_flow": null,
            "grid_area": null,
            "grid_template_columns": null,
            "flex": null,
            "_model_name": "LayoutModel",
            "justify_items": null,
            "grid_row": null,
            "max_height": null,
            "align_content": null,
            "visibility": null,
            "align_self": null,
            "height": null,
            "min_height": null,
            "padding": null,
            "grid_auto_rows": null,
            "grid_gap": null,
            "max_width": null,
            "order": null,
            "_view_module_version": "1.2.0",
            "grid_template_areas": null,
            "object_position": null,
            "object_fit": null,
            "grid_auto_columns": null,
            "margin": null,
            "display": null,
            "left": null
          }
        },
        "e02f4fe91c204084b60362b6506327b4": {
          "model_module": "@jupyter-widgets/controls",
          "model_name": "HBoxModel",
          "state": {
            "_view_name": "HBoxView",
            "_dom_classes": [],
            "_model_name": "HBoxModel",
            "_view_module": "@jupyter-widgets/controls",
            "_model_module_version": "1.5.0",
            "_view_count": null,
            "_view_module_version": "1.5.0",
            "box_style": "",
            "layout": "IPY_MODEL_f8e485c078194f47921c6e58ecc861c3",
            "_model_module": "@jupyter-widgets/controls",
            "children": [
              "IPY_MODEL_fe352d540abe4553a8d9b7fa12d6e818",
              "IPY_MODEL_ff926e5036c849e790c6a37228ad2379"
            ]
          }
        },
        "f8e485c078194f47921c6e58ecc861c3": {
          "model_module": "@jupyter-widgets/base",
          "model_name": "LayoutModel",
          "state": {
            "_view_name": "LayoutView",
            "grid_template_rows": null,
            "right": null,
            "justify_content": null,
            "_view_module": "@jupyter-widgets/base",
            "overflow": null,
            "_model_module_version": "1.2.0",
            "_view_count": null,
            "flex_flow": null,
            "width": null,
            "min_width": null,
            "border": null,
            "align_items": null,
            "bottom": null,
            "_model_module": "@jupyter-widgets/base",
            "top": null,
            "grid_column": null,
            "overflow_y": null,
            "overflow_x": null,
            "grid_auto_flow": null,
            "grid_area": null,
            "grid_template_columns": null,
            "flex": null,
            "_model_name": "LayoutModel",
            "justify_items": null,
            "grid_row": null,
            "max_height": null,
            "align_content": null,
            "visibility": null,
            "align_self": null,
            "height": null,
            "min_height": null,
            "padding": null,
            "grid_auto_rows": null,
            "grid_gap": null,
            "max_width": null,
            "order": null,
            "_view_module_version": "1.2.0",
            "grid_template_areas": null,
            "object_position": null,
            "object_fit": null,
            "grid_auto_columns": null,
            "margin": null,
            "display": null,
            "left": null
          }
        },
        "fe352d540abe4553a8d9b7fa12d6e818": {
          "model_module": "@jupyter-widgets/controls",
          "model_name": "FloatProgressModel",
          "state": {
            "_view_name": "ProgressView",
            "style": "IPY_MODEL_a0f1804e10cc48bbb37a4fcaf02e0b4b",
            "_dom_classes": [],
            "description": "100%",
            "_model_name": "FloatProgressModel",
            "bar_style": "",
            "max": 10,
            "_view_module": "@jupyter-widgets/controls",
            "_model_module_version": "1.5.0",
            "value": 10,
            "_view_count": null,
            "_view_module_version": "1.5.0",
            "orientation": "horizontal",
            "min": 0,
            "description_tooltip": null,
            "_model_module": "@jupyter-widgets/controls",
            "layout": "IPY_MODEL_99f456d84bdb4889825d8f95859287ce"
          }
        },
        "ff926e5036c849e790c6a37228ad2379": {
          "model_module": "@jupyter-widgets/controls",
          "model_name": "HTMLModel",
          "state": {
            "_view_name": "HTMLView",
            "style": "IPY_MODEL_62d9171947484f93816c734e0873f367",
            "_dom_classes": [],
            "description": "",
            "_model_name": "HTMLModel",
            "placeholder": "​",
            "_view_module": "@jupyter-widgets/controls",
            "_model_module_version": "1.5.0",
            "value": " 10/10 [00:13&lt;00:00,  1.38s/it]",
            "_view_count": null,
            "_view_module_version": "1.5.0",
            "description_tooltip": null,
            "_model_module": "@jupyter-widgets/controls",
            "layout": "IPY_MODEL_2078136eee734a13b82e0913b5f5a54f"
          }
        },
        "a0f1804e10cc48bbb37a4fcaf02e0b4b": {
          "model_module": "@jupyter-widgets/controls",
          "model_name": "ProgressStyleModel",
          "state": {
            "_view_name": "StyleView",
            "_model_name": "ProgressStyleModel",
            "description_width": "initial",
            "_view_module": "@jupyter-widgets/base",
            "_model_module_version": "1.5.0",
            "_view_count": null,
            "_view_module_version": "1.2.0",
            "bar_color": null,
            "_model_module": "@jupyter-widgets/controls"
          }
        },
        "99f456d84bdb4889825d8f95859287ce": {
          "model_module": "@jupyter-widgets/base",
          "model_name": "LayoutModel",
          "state": {
            "_view_name": "LayoutView",
            "grid_template_rows": null,
            "right": null,
            "justify_content": null,
            "_view_module": "@jupyter-widgets/base",
            "overflow": null,
            "_model_module_version": "1.2.0",
            "_view_count": null,
            "flex_flow": null,
            "width": null,
            "min_width": null,
            "border": null,
            "align_items": null,
            "bottom": null,
            "_model_module": "@jupyter-widgets/base",
            "top": null,
            "grid_column": null,
            "overflow_y": null,
            "overflow_x": null,
            "grid_auto_flow": null,
            "grid_area": null,
            "grid_template_columns": null,
            "flex": null,
            "_model_name": "LayoutModel",
            "justify_items": null,
            "grid_row": null,
            "max_height": null,
            "align_content": null,
            "visibility": null,
            "align_self": null,
            "height": null,
            "min_height": null,
            "padding": null,
            "grid_auto_rows": null,
            "grid_gap": null,
            "max_width": null,
            "order": null,
            "_view_module_version": "1.2.0",
            "grid_template_areas": null,
            "object_position": null,
            "object_fit": null,
            "grid_auto_columns": null,
            "margin": null,
            "display": null,
            "left": null
          }
        },
        "62d9171947484f93816c734e0873f367": {
          "model_module": "@jupyter-widgets/controls",
          "model_name": "DescriptionStyleModel",
          "state": {
            "_view_name": "StyleView",
            "_model_name": "DescriptionStyleModel",
            "description_width": "",
            "_view_module": "@jupyter-widgets/base",
            "_model_module_version": "1.5.0",
            "_view_count": null,
            "_view_module_version": "1.2.0",
            "_model_module": "@jupyter-widgets/controls"
          }
        },
        "2078136eee734a13b82e0913b5f5a54f": {
          "model_module": "@jupyter-widgets/base",
          "model_name": "LayoutModel",
          "state": {
            "_view_name": "LayoutView",
            "grid_template_rows": null,
            "right": null,
            "justify_content": null,
            "_view_module": "@jupyter-widgets/base",
            "overflow": null,
            "_model_module_version": "1.2.0",
            "_view_count": null,
            "flex_flow": null,
            "width": null,
            "min_width": null,
            "border": null,
            "align_items": null,
            "bottom": null,
            "_model_module": "@jupyter-widgets/base",
            "top": null,
            "grid_column": null,
            "overflow_y": null,
            "overflow_x": null,
            "grid_auto_flow": null,
            "grid_area": null,
            "grid_template_columns": null,
            "flex": null,
            "_model_name": "LayoutModel",
            "justify_items": null,
            "grid_row": null,
            "max_height": null,
            "align_content": null,
            "visibility": null,
            "align_self": null,
            "height": null,
            "min_height": null,
            "padding": null,
            "grid_auto_rows": null,
            "grid_gap": null,
            "max_width": null,
            "order": null,
            "_view_module_version": "1.2.0",
            "grid_template_areas": null,
            "object_position": null,
            "object_fit": null,
            "grid_auto_columns": null,
            "margin": null,
            "display": null,
            "left": null
          }
        },
        "3b3db678f1844ae3963fda934111e254": {
          "model_module": "@jupyter-widgets/controls",
          "model_name": "HBoxModel",
          "state": {
            "_view_name": "HBoxView",
            "_dom_classes": [],
            "_model_name": "HBoxModel",
            "_view_module": "@jupyter-widgets/controls",
            "_model_module_version": "1.5.0",
            "_view_count": null,
            "_view_module_version": "1.5.0",
            "box_style": "",
            "layout": "IPY_MODEL_68939d4c5876451499cf9f197c19e664",
            "_model_module": "@jupyter-widgets/controls",
            "children": [
              "IPY_MODEL_9301af38bb23423a80b3f6dbbe7f14fa",
              "IPY_MODEL_d2fc54c30fc942c48312ef9d27d7a819"
            ]
          }
        },
        "68939d4c5876451499cf9f197c19e664": {
          "model_module": "@jupyter-widgets/base",
          "model_name": "LayoutModel",
          "state": {
            "_view_name": "LayoutView",
            "grid_template_rows": null,
            "right": null,
            "justify_content": null,
            "_view_module": "@jupyter-widgets/base",
            "overflow": null,
            "_model_module_version": "1.2.0",
            "_view_count": null,
            "flex_flow": null,
            "width": null,
            "min_width": null,
            "border": null,
            "align_items": null,
            "bottom": null,
            "_model_module": "@jupyter-widgets/base",
            "top": null,
            "grid_column": null,
            "overflow_y": null,
            "overflow_x": null,
            "grid_auto_flow": null,
            "grid_area": null,
            "grid_template_columns": null,
            "flex": null,
            "_model_name": "LayoutModel",
            "justify_items": null,
            "grid_row": null,
            "max_height": null,
            "align_content": null,
            "visibility": null,
            "align_self": null,
            "height": null,
            "min_height": null,
            "padding": null,
            "grid_auto_rows": null,
            "grid_gap": null,
            "max_width": null,
            "order": null,
            "_view_module_version": "1.2.0",
            "grid_template_areas": null,
            "object_position": null,
            "object_fit": null,
            "grid_auto_columns": null,
            "margin": null,
            "display": null,
            "left": null
          }
        },
        "9301af38bb23423a80b3f6dbbe7f14fa": {
          "model_module": "@jupyter-widgets/controls",
          "model_name": "FloatProgressModel",
          "state": {
            "_view_name": "ProgressView",
            "style": "IPY_MODEL_e0d91939a4174b66b058ad4ad245ea30",
            "_dom_classes": [],
            "description": "100%",
            "_model_name": "FloatProgressModel",
            "bar_style": "",
            "max": 10,
            "_view_module": "@jupyter-widgets/controls",
            "_model_module_version": "1.5.0",
            "value": 10,
            "_view_count": null,
            "_view_module_version": "1.5.0",
            "orientation": "horizontal",
            "min": 0,
            "description_tooltip": null,
            "_model_module": "@jupyter-widgets/controls",
            "layout": "IPY_MODEL_4cc7b1c956d94389b49a33d3476fb7f2"
          }
        },
        "d2fc54c30fc942c48312ef9d27d7a819": {
          "model_module": "@jupyter-widgets/controls",
          "model_name": "HTMLModel",
          "state": {
            "_view_name": "HTMLView",
            "style": "IPY_MODEL_62b1d53da1134c99a13b3af59c5ef578",
            "_dom_classes": [],
            "description": "",
            "_model_name": "HTMLModel",
            "placeholder": "​",
            "_view_module": "@jupyter-widgets/controls",
            "_model_module_version": "1.5.0",
            "value": " 10/10 [00:13&lt;00:00,  1.34s/it]",
            "_view_count": null,
            "_view_module_version": "1.5.0",
            "description_tooltip": null,
            "_model_module": "@jupyter-widgets/controls",
            "layout": "IPY_MODEL_0e492b3c707a40bcaf0ba6e0c00a044e"
          }
        },
        "e0d91939a4174b66b058ad4ad245ea30": {
          "model_module": "@jupyter-widgets/controls",
          "model_name": "ProgressStyleModel",
          "state": {
            "_view_name": "StyleView",
            "_model_name": "ProgressStyleModel",
            "description_width": "initial",
            "_view_module": "@jupyter-widgets/base",
            "_model_module_version": "1.5.0",
            "_view_count": null,
            "_view_module_version": "1.2.0",
            "bar_color": null,
            "_model_module": "@jupyter-widgets/controls"
          }
        },
        "4cc7b1c956d94389b49a33d3476fb7f2": {
          "model_module": "@jupyter-widgets/base",
          "model_name": "LayoutModel",
          "state": {
            "_view_name": "LayoutView",
            "grid_template_rows": null,
            "right": null,
            "justify_content": null,
            "_view_module": "@jupyter-widgets/base",
            "overflow": null,
            "_model_module_version": "1.2.0",
            "_view_count": null,
            "flex_flow": null,
            "width": null,
            "min_width": null,
            "border": null,
            "align_items": null,
            "bottom": null,
            "_model_module": "@jupyter-widgets/base",
            "top": null,
            "grid_column": null,
            "overflow_y": null,
            "overflow_x": null,
            "grid_auto_flow": null,
            "grid_area": null,
            "grid_template_columns": null,
            "flex": null,
            "_model_name": "LayoutModel",
            "justify_items": null,
            "grid_row": null,
            "max_height": null,
            "align_content": null,
            "visibility": null,
            "align_self": null,
            "height": null,
            "min_height": null,
            "padding": null,
            "grid_auto_rows": null,
            "grid_gap": null,
            "max_width": null,
            "order": null,
            "_view_module_version": "1.2.0",
            "grid_template_areas": null,
            "object_position": null,
            "object_fit": null,
            "grid_auto_columns": null,
            "margin": null,
            "display": null,
            "left": null
          }
        },
        "62b1d53da1134c99a13b3af59c5ef578": {
          "model_module": "@jupyter-widgets/controls",
          "model_name": "DescriptionStyleModel",
          "state": {
            "_view_name": "StyleView",
            "_model_name": "DescriptionStyleModel",
            "description_width": "",
            "_view_module": "@jupyter-widgets/base",
            "_model_module_version": "1.5.0",
            "_view_count": null,
            "_view_module_version": "1.2.0",
            "_model_module": "@jupyter-widgets/controls"
          }
        },
        "0e492b3c707a40bcaf0ba6e0c00a044e": {
          "model_module": "@jupyter-widgets/base",
          "model_name": "LayoutModel",
          "state": {
            "_view_name": "LayoutView",
            "grid_template_rows": null,
            "right": null,
            "justify_content": null,
            "_view_module": "@jupyter-widgets/base",
            "overflow": null,
            "_model_module_version": "1.2.0",
            "_view_count": null,
            "flex_flow": null,
            "width": null,
            "min_width": null,
            "border": null,
            "align_items": null,
            "bottom": null,
            "_model_module": "@jupyter-widgets/base",
            "top": null,
            "grid_column": null,
            "overflow_y": null,
            "overflow_x": null,
            "grid_auto_flow": null,
            "grid_area": null,
            "grid_template_columns": null,
            "flex": null,
            "_model_name": "LayoutModel",
            "justify_items": null,
            "grid_row": null,
            "max_height": null,
            "align_content": null,
            "visibility": null,
            "align_self": null,
            "height": null,
            "min_height": null,
            "padding": null,
            "grid_auto_rows": null,
            "grid_gap": null,
            "max_width": null,
            "order": null,
            "_view_module_version": "1.2.0",
            "grid_template_areas": null,
            "object_position": null,
            "object_fit": null,
            "grid_auto_columns": null,
            "margin": null,
            "display": null,
            "left": null
          }
        },
        "b2ae712f5ba944dcb1445c8403505e6a": {
          "model_module": "@jupyter-widgets/controls",
          "model_name": "HBoxModel",
          "state": {
            "_view_name": "HBoxView",
            "_dom_classes": [],
            "_model_name": "HBoxModel",
            "_view_module": "@jupyter-widgets/controls",
            "_model_module_version": "1.5.0",
            "_view_count": null,
            "_view_module_version": "1.5.0",
            "box_style": "",
            "layout": "IPY_MODEL_b556372cc8a240afb097c94c0d291bbc",
            "_model_module": "@jupyter-widgets/controls",
            "children": [
              "IPY_MODEL_646b720adbfa44838206cb33dcad21a7",
              "IPY_MODEL_36079a11c84a46dca7f07c4f7dccfd7d"
            ]
          }
        },
        "b556372cc8a240afb097c94c0d291bbc": {
          "model_module": "@jupyter-widgets/base",
          "model_name": "LayoutModel",
          "state": {
            "_view_name": "LayoutView",
            "grid_template_rows": null,
            "right": null,
            "justify_content": null,
            "_view_module": "@jupyter-widgets/base",
            "overflow": null,
            "_model_module_version": "1.2.0",
            "_view_count": null,
            "flex_flow": null,
            "width": null,
            "min_width": null,
            "border": null,
            "align_items": null,
            "bottom": null,
            "_model_module": "@jupyter-widgets/base",
            "top": null,
            "grid_column": null,
            "overflow_y": null,
            "overflow_x": null,
            "grid_auto_flow": null,
            "grid_area": null,
            "grid_template_columns": null,
            "flex": null,
            "_model_name": "LayoutModel",
            "justify_items": null,
            "grid_row": null,
            "max_height": null,
            "align_content": null,
            "visibility": null,
            "align_self": null,
            "height": null,
            "min_height": null,
            "padding": null,
            "grid_auto_rows": null,
            "grid_gap": null,
            "max_width": null,
            "order": null,
            "_view_module_version": "1.2.0",
            "grid_template_areas": null,
            "object_position": null,
            "object_fit": null,
            "grid_auto_columns": null,
            "margin": null,
            "display": null,
            "left": null
          }
        },
        "646b720adbfa44838206cb33dcad21a7": {
          "model_module": "@jupyter-widgets/controls",
          "model_name": "FloatProgressModel",
          "state": {
            "_view_name": "ProgressView",
            "style": "IPY_MODEL_2b725c6eb8bb4adfa9692837572b4cfc",
            "_dom_classes": [],
            "description": "100%",
            "_model_name": "FloatProgressModel",
            "bar_style": "",
            "max": 10,
            "_view_module": "@jupyter-widgets/controls",
            "_model_module_version": "1.5.0",
            "value": 10,
            "_view_count": null,
            "_view_module_version": "1.5.0",
            "orientation": "horizontal",
            "min": 0,
            "description_tooltip": null,
            "_model_module": "@jupyter-widgets/controls",
            "layout": "IPY_MODEL_fbd2604258ee40e6a00e2eea250b8550"
          }
        },
        "36079a11c84a46dca7f07c4f7dccfd7d": {
          "model_module": "@jupyter-widgets/controls",
          "model_name": "HTMLModel",
          "state": {
            "_view_name": "HTMLView",
            "style": "IPY_MODEL_7598cc741f0a4d57b9c99561287248ff",
            "_dom_classes": [],
            "description": "",
            "_model_name": "HTMLModel",
            "placeholder": "​",
            "_view_module": "@jupyter-widgets/controls",
            "_model_module_version": "1.5.0",
            "value": " 10/10 [00:19&lt;00:00,  1.88s/it]",
            "_view_count": null,
            "_view_module_version": "1.5.0",
            "description_tooltip": null,
            "_model_module": "@jupyter-widgets/controls",
            "layout": "IPY_MODEL_8794c48feab54efa8bff3699e871e7be"
          }
        },
        "2b725c6eb8bb4adfa9692837572b4cfc": {
          "model_module": "@jupyter-widgets/controls",
          "model_name": "ProgressStyleModel",
          "state": {
            "_view_name": "StyleView",
            "_model_name": "ProgressStyleModel",
            "description_width": "initial",
            "_view_module": "@jupyter-widgets/base",
            "_model_module_version": "1.5.0",
            "_view_count": null,
            "_view_module_version": "1.2.0",
            "bar_color": null,
            "_model_module": "@jupyter-widgets/controls"
          }
        },
        "fbd2604258ee40e6a00e2eea250b8550": {
          "model_module": "@jupyter-widgets/base",
          "model_name": "LayoutModel",
          "state": {
            "_view_name": "LayoutView",
            "grid_template_rows": null,
            "right": null,
            "justify_content": null,
            "_view_module": "@jupyter-widgets/base",
            "overflow": null,
            "_model_module_version": "1.2.0",
            "_view_count": null,
            "flex_flow": null,
            "width": null,
            "min_width": null,
            "border": null,
            "align_items": null,
            "bottom": null,
            "_model_module": "@jupyter-widgets/base",
            "top": null,
            "grid_column": null,
            "overflow_y": null,
            "overflow_x": null,
            "grid_auto_flow": null,
            "grid_area": null,
            "grid_template_columns": null,
            "flex": null,
            "_model_name": "LayoutModel",
            "justify_items": null,
            "grid_row": null,
            "max_height": null,
            "align_content": null,
            "visibility": null,
            "align_self": null,
            "height": null,
            "min_height": null,
            "padding": null,
            "grid_auto_rows": null,
            "grid_gap": null,
            "max_width": null,
            "order": null,
            "_view_module_version": "1.2.0",
            "grid_template_areas": null,
            "object_position": null,
            "object_fit": null,
            "grid_auto_columns": null,
            "margin": null,
            "display": null,
            "left": null
          }
        },
        "7598cc741f0a4d57b9c99561287248ff": {
          "model_module": "@jupyter-widgets/controls",
          "model_name": "DescriptionStyleModel",
          "state": {
            "_view_name": "StyleView",
            "_model_name": "DescriptionStyleModel",
            "description_width": "",
            "_view_module": "@jupyter-widgets/base",
            "_model_module_version": "1.5.0",
            "_view_count": null,
            "_view_module_version": "1.2.0",
            "_model_module": "@jupyter-widgets/controls"
          }
        },
        "8794c48feab54efa8bff3699e871e7be": {
          "model_module": "@jupyter-widgets/base",
          "model_name": "LayoutModel",
          "state": {
            "_view_name": "LayoutView",
            "grid_template_rows": null,
            "right": null,
            "justify_content": null,
            "_view_module": "@jupyter-widgets/base",
            "overflow": null,
            "_model_module_version": "1.2.0",
            "_view_count": null,
            "flex_flow": null,
            "width": null,
            "min_width": null,
            "border": null,
            "align_items": null,
            "bottom": null,
            "_model_module": "@jupyter-widgets/base",
            "top": null,
            "grid_column": null,
            "overflow_y": null,
            "overflow_x": null,
            "grid_auto_flow": null,
            "grid_area": null,
            "grid_template_columns": null,
            "flex": null,
            "_model_name": "LayoutModel",
            "justify_items": null,
            "grid_row": null,
            "max_height": null,
            "align_content": null,
            "visibility": null,
            "align_self": null,
            "height": null,
            "min_height": null,
            "padding": null,
            "grid_auto_rows": null,
            "grid_gap": null,
            "max_width": null,
            "order": null,
            "_view_module_version": "1.2.0",
            "grid_template_areas": null,
            "object_position": null,
            "object_fit": null,
            "grid_auto_columns": null,
            "margin": null,
            "display": null,
            "left": null
          }
        }
      }
    }
  },
  "cells": [
    {
      "cell_type": "markdown",
      "metadata": {
        "id": "B0eOuEaqv6t-"
      },
      "source": [
        "### Download default data"
      ]
    },
    {
      "cell_type": "code",
      "metadata": {
        "id": "okoGmvssG8he"
      },
      "source": [
        "import warnings\n",
        "warnings.filterwarnings(\"ignore\")"
      ],
      "execution_count": null,
      "outputs": []
    },
    {
      "cell_type": "code",
      "metadata": {
        "id": "ICGtVcYAMN2p",
        "colab": {
          "base_uri": "https://localhost:8080/"
        },
        "outputId": "011a01b4-8de0-4c21-bbcf-2aecb483b04c"
      },
      "source": [
        "!wget https://nlp.stanford.edu/projects/snli/snli_1.0.zip"
      ],
      "execution_count": null,
      "outputs": [
        {
          "output_type": "stream",
          "text": [
            "--2021-03-15 20:58:13--  https://nlp.stanford.edu/projects/snli/snli_1.0.zip\n",
            "Resolving nlp.stanford.edu (nlp.stanford.edu)... 171.64.67.140\n",
            "Connecting to nlp.stanford.edu (nlp.stanford.edu)|171.64.67.140|:443... connected.\n",
            "HTTP request sent, awaiting response... 200 OK\n",
            "Length: 94550081 (90M) [application/zip]\n",
            "Saving to: ‘snli_1.0.zip’\n",
            "\n",
            "snli_1.0.zip        100%[===================>]  90.17M  32.9MB/s    in 2.7s    \n",
            "\n",
            "2021-03-15 20:58:15 (32.9 MB/s) - ‘snli_1.0.zip’ saved [94550081/94550081]\n",
            "\n"
          ],
          "name": "stdout"
        }
      ]
    },
    {
      "cell_type": "code",
      "metadata": {
        "id": "2yZhNwuEMSH3",
        "colab": {
          "base_uri": "https://localhost:8080/"
        },
        "outputId": "a4beb457-e6b6-40f8-9294-92dcf14e1244"
      },
      "source": [
        "!unzip snli_1.0.zip"
      ],
      "execution_count": null,
      "outputs": [
        {
          "output_type": "stream",
          "text": [
            "Archive:  snli_1.0.zip\n",
            "   creating: snli_1.0/\n",
            "  inflating: snli_1.0/.DS_Store      \n",
            "   creating: __MACOSX/\n",
            "   creating: __MACOSX/snli_1.0/\n",
            "  inflating: __MACOSX/snli_1.0/._.DS_Store  \n",
            " extracting: snli_1.0/Icon           \n",
            "  inflating: __MACOSX/snli_1.0/._Icon  \n",
            "  inflating: snli_1.0/README.txt     \n",
            "  inflating: __MACOSX/snli_1.0/._README.txt  \n",
            "  inflating: snli_1.0/snli_1.0_dev.jsonl  \n",
            "  inflating: snli_1.0/snli_1.0_dev.txt  \n",
            "  inflating: snli_1.0/snli_1.0_test.jsonl  \n",
            "  inflating: snli_1.0/snli_1.0_test.txt  \n",
            "  inflating: snli_1.0/snli_1.0_train.jsonl  \n",
            "  inflating: snli_1.0/snli_1.0_train.txt  \n",
            "  inflating: __MACOSX/._snli_1.0     \n"
          ],
          "name": "stdout"
        }
      ]
    },
    {
      "cell_type": "markdown",
      "metadata": {
        "id": "WLysUG6meK5h"
      },
      "source": [
        "### Download from google disk preprocessed data"
      ]
    },
    {
      "cell_type": "code",
      "metadata": {
        "id": "Upi2G_jzdOq8"
      },
      "source": [
        "from google.colab import drive\n",
        "drive.mount('/content/drive')"
      ],
      "execution_count": null,
      "outputs": []
    },
    {
      "cell_type": "code",
      "metadata": {
        "id": "TTXPgdnkdXaf"
      },
      "source": [
        "import shutil"
      ],
      "execution_count": null,
      "outputs": []
    },
    {
      "cell_type": "code",
      "metadata": {
        "colab": {
          "base_uri": "https://localhost:8080/"
        },
        "id": "BAD5eaKVdaPA",
        "outputId": "91144165-6dc4-466e-8a08-cdd761313bd7"
      },
      "source": [
        "shutil.copy('.//drive//MyDrive//challenge//train.jsonl', './/')\n",
        "shutil.copy('.//drive//MyDrive//challenge//test.jsonl', './/')\n",
        "shutil.copy('.//drive//MyDrive//challenge//val.jsonl', './/')"
      ],
      "execution_count": null,
      "outputs": [
        {
          "output_type": "execute_result",
          "data": {
            "application/vnd.google.colaboratory.intrinsic+json": {
              "type": "string"
            },
            "text/plain": [
              "'.//val.jsonl'"
            ]
          },
          "metadata": {
            "tags": []
          },
          "execution_count": 3
        }
      ]
    },
    {
      "cell_type": "markdown",
      "metadata": {
        "id": "sBrwNDFNwGwo"
      },
      "source": [
        "### Imports and device and download stopwords"
      ]
    },
    {
      "cell_type": "code",
      "metadata": {
        "id": "SbpKU9q-Dt8G"
      },
      "source": [
        "import json\n",
        "\n",
        "import torch\n",
        "import nltk\n",
        "import numpy as np\n",
        "import gensim.downloader as api\n",
        "\n",
        "from nltk.corpus import stopwords\n",
        "from nltk.tokenize import WordPunctTokenizer\n",
        "import spacy\n",
        "\n",
        "from torch import nn\n",
        "from torch import optim\n",
        "from torch.utils.data import Dataset, DataLoader\n",
        "import torch.nn.functional as F\n",
        "from tqdm.autonotebook import tqdm"
      ],
      "execution_count": null,
      "outputs": []
    },
    {
      "cell_type": "code",
      "metadata": {
        "id": "t5uR-gqPv06B",
        "colab": {
          "base_uri": "https://localhost:8080/"
        },
        "outputId": "beb9b8f8-6353-445a-e982-5d19e4bfb753"
      },
      "source": [
        "nltk.download('stopwords')\n",
        "nlp = spacy.load('en')"
      ],
      "execution_count": null,
      "outputs": [
        {
          "output_type": "stream",
          "text": [
            "[nltk_data] Downloading package stopwords to /root/nltk_data...\n",
            "[nltk_data]   Package stopwords is already up-to-date!\n"
          ],
          "name": "stdout"
        }
      ]
    },
    {
      "cell_type": "code",
      "metadata": {
        "id": "iHiErVv309pU"
      },
      "source": [
        "device = torch.device('cuda' if torch.cuda.is_available() else 'cpu')"
      ],
      "execution_count": null,
      "outputs": []
    },
    {
      "cell_type": "markdown",
      "metadata": {
        "id": "VKh1ZPIVwXMg"
      },
      "source": [
        "### Embedding"
      ]
    },
    {
      "cell_type": "code",
      "metadata": {
        "id": "nd2ceDQo8PdQ",
        "colab": {
          "base_uri": "https://localhost:8080/"
        },
        "outputId": "6e7a36cd-5ad0-4d2d-b94f-15f1840a8d79"
      },
      "source": [
        "# word2vec = api.load('word2vec-google-news-300')\n",
        "word2vec = api.load('glove-wiki-gigaword-300')\n",
        "vocab_size = len(word2vec.vocab)"
      ],
      "execution_count": null,
      "outputs": [
        {
          "output_type": "stream",
          "text": [
            "[===========================================-------] 87.9% 330.7/376.1MB downloaded\n"
          ],
          "name": "stdout"
        }
      ]
    },
    {
      "cell_type": "markdown",
      "metadata": {
        "id": "22Ub91fBwLnF"
      },
      "source": [
        "### CNN"
      ]
    },
    {
      "cell_type": "code",
      "metadata": {
        "id": "X9ujnjyyMSUL"
      },
      "source": [
        "class CNN(nn.Module):\n",
        "    def __init__(self, vocab_size, emb_dim, out_channels, kernel_sizes, dropout=0.5):\n",
        "        super().__init__()\n",
        "        \n",
        "        self.embedding = nn.Embedding(vocab_size, emb_dim)\n",
        "        self.conv_0_1 = nn.Conv1d(in_channels=emb_dim,\n",
        "                                  out_channels=out_channels,\n",
        "                                  kernel_size=kernel_sizes[0],\n",
        "                                  padding=1, stride=2)\n",
        "        self.conv_1_1 = nn.Conv1d(in_channels=emb_dim,\n",
        "                                  out_channels=out_channels,\n",
        "                                  kernel_size=kernel_sizes[1],\n",
        "                                  padding=1, stride=2)\n",
        "        self.conv_2_1 = nn.Conv1d(in_channels=emb_dim,\n",
        "                                  out_channels=out_channels,\n",
        "                                  kernel_size=kernel_sizes[2],\n",
        "                                  padding=1, stride=2)\n",
        "        self.conv_0_2 = nn.Conv1d(in_channels=emb_dim,\n",
        "                                  out_channels=out_channels,\n",
        "                                  kernel_size=kernel_sizes[0],\n",
        "                                  padding=1, stride=2)        \n",
        "        self.conv_1_2 = nn.Conv1d(in_channels=emb_dim,\n",
        "                                  out_channels=out_channels,\n",
        "                                  kernel_size=kernel_sizes[1],\n",
        "                                  padding=1, stride=2)        \n",
        "        self.conv_2_2 = nn.Conv1d(in_channels=emb_dim,\n",
        "                                  out_channels=out_channels,\n",
        "                                  kernel_size=kernel_sizes[2],\n",
        "                                  padding=1, stride=2)        \n",
        "        \n",
        "        self.fc = nn.Linear(len(kernel_sizes) * out_channels * 2, 3)\n",
        "\n",
        "        # self.fc = nn.Linear(len(kernel_sizes) * out_channels, 3)\n",
        "        \n",
        "        self.dropout = nn.Dropout(dropout)\n",
        "        \n",
        "        \n",
        "    def forward(self, data):\n",
        "        \n",
        "        embedded1 = self.embedding(data['seq1'])\n",
        "        embedded2 = self.embedding(data['seq1']) - self.embedding(data['seq2'])\n",
        "\n",
        "        # embedded1 = torch.cat((embedded1, embedded1 - embedded2), dim=1)\n",
        "\n",
        "        embedded1 = embedded1.permute(0, 2, 1)\n",
        "        embedded2 = embedded2.permute(0, 2, 1)\n",
        "        \n",
        "        conved_0_1 = F.relu(self.conv_0_1(embedded1))\n",
        "        conved_1_1 = F.relu(self.conv_1_1(embedded1))\n",
        "        conved_2_1 = F.relu(self.conv_2_1(embedded1))\n",
        "\n",
        "        conved_0_2 = F.relu(self.conv_0_2(embedded2))\n",
        "        conved_1_2 = F.relu(self.conv_1_2(embedded2))\n",
        "        conved_2_2 = F.relu(self.conv_2_2(embedded2))        \n",
        "        \n",
        "        pooled_0_1 = F.max_pool1d(conved_0_1, conved_0_1.shape[2]).squeeze(2)\n",
        "        pooled_1_1 = F.max_pool1d(conved_1_1, conved_1_1.shape[2]).squeeze(2)\n",
        "        pooled_2_1 = F.max_pool1d(conved_2_1, conved_2_1.shape[2]).squeeze(2)\n",
        "\n",
        "        pooled_0_2 = F.max_pool1d(conved_0_2, conved_0_2.shape[2]).squeeze(2)\n",
        "        pooled_1_2 = F.max_pool1d(conved_1_2, conved_1_2.shape[2]).squeeze(2)\n",
        "        pooled_2_2 = F.max_pool1d(conved_2_2, conved_2_2.shape[2]).squeeze(2)\n",
        "        \n",
        "        cat1 = self.dropout(torch.cat((pooled_0_1, pooled_1_1, pooled_2_1), dim=1))\n",
        "        cat2 = self.dropout(torch.cat((pooled_0_2, pooled_1_2, pooled_2_2), dim=1))\n",
        "        cat = torch.cat((cat1, cat2), dim=1)\n",
        "            \n",
        "        return self.fc(cat).squeeze(1)"
      ],
      "execution_count": null,
      "outputs": []
    },
    {
      "cell_type": "code",
      "metadata": {
        "id": "EgpW_3izMSXF"
      },
      "source": [
        "kernel_sizes = [2, 3, 4]\n",
        "vocab_size = vocab_size\n",
        "out_channels=64\n",
        "dropout = 0.2\n",
        "dim = 300\n",
        "\n",
        "model = CNN(vocab_size=vocab_size, emb_dim=dim, out_channels=out_channels,\n",
        "            kernel_sizes=kernel_sizes, dropout=dropout)\n",
        "model.embedding.weight = nn.Parameter(torch.from_numpy(word2vec.vectors))"
      ],
      "execution_count": null,
      "outputs": []
    },
    {
      "cell_type": "code",
      "metadata": {
        "id": "IZQobyKfXHcV"
      },
      "source": [
        "def freeze_emb(require=False):\n",
        "    for x in model.embedding.parameters():\n",
        "        x.requires_grad = require"
      ],
      "execution_count": null,
      "outputs": []
    },
    {
      "cell_type": "code",
      "metadata": {
        "id": "wXmioy5vMSZ0"
      },
      "source": [
        "model = model.to(device)"
      ],
      "execution_count": null,
      "outputs": []
    },
    {
      "cell_type": "code",
      "metadata": {
        "id": "uBrbXKQ-ARox"
      },
      "source": [
        "opt = optim.Adam(model.parameters(), lr=0.001)\n",
        "lr_scheduler = optim.lr_scheduler.CosineAnnealingLR(opt, T_max=111, eta_min=0.000001)\n",
        "loss_func = nn.CrossEntropyLoss()"
      ],
      "execution_count": null,
      "outputs": []
    },
    {
      "cell_type": "markdown",
      "metadata": {
        "id": "fm6vccg_yEb1"
      },
      "source": [
        "### RNN"
      ]
    },
    {
      "cell_type": "code",
      "metadata": {
        "id": "mdheu6GxyJUQ"
      },
      "source": [
        "class RNNBaseline(nn.Module):\n",
        "    def __init__(self, vocab_size, embedding_dim, hidden_dim, output_dim, n_layers, \n",
        "                 bidirectional, dropout, pad_idx, dropout_clf):\n",
        "        \n",
        "        super().__init__()\n",
        "\n",
        "        \n",
        "        self.embedding = nn.Embedding(vocab_size,\n",
        "                                      embedding_dim,\n",
        "                                      padding_idx=pad_idx)\n",
        "        \n",
        "        self.rnn_for_seq1 = nn.LSTM(embedding_dim,\n",
        "                           hidden_dim,\n",
        "                           num_layers=n_layers,\n",
        "                           dropout=dropout,\n",
        "                           bidirectional=bidirectional)\n",
        "        self.rnn_for_seq2 = nn.LSTM(embedding_dim,\n",
        "                           hidden_dim,\n",
        "                           num_layers=n_layers,\n",
        "                           dropout=dropout,\n",
        "                           bidirectional=bidirectional)        \n",
        "        self.dropout = nn.Dropout(p=dropout_clf)\n",
        "        self.fc = nn.Linear(hidden_dim * 2 * (2 if bidirectional else 1),\n",
        "                                          output_dim)\n",
        "        \n",
        "    def forward(self, text):\n",
        "        \n",
        "        embedded1 = self.embedding(text['seq1'][0].permute(1, 0))\n",
        "        embedded2 = self.embedding(text['seq2'][0].permute(1, 0))\n",
        "        \n",
        "        packed_embedded1 = nn.utils.rnn.pack_padded_sequence(embedded1, text['seq1'][1], enforce_sorted=False)\n",
        "        packed_embedded2 = nn.utils.rnn.pack_padded_sequence(embedded2, text['seq2'][1], enforce_sorted=False)\n",
        "        \n",
        "        packed_output1, (hidden1, cell1) = self.rnn_for_seq1(packed_embedded1)\n",
        "        packed_output2, (hidden2, cell2) = self.rnn_for_seq2(packed_embedded2)\n",
        "\n",
        "        # output, output_lengths = nn.utils.rnn.pad_packed_sequence(packed_output)\n",
        "\n",
        "        hidden1 = torch.cat((hidden1[-1, :, :], hidden1[-2, :, :]), dim=1)\n",
        "        hidden2 = torch.cat((hidden2[-1, :, :], hidden2[-2, :, :]), dim=1)\n",
        "        \n",
        "        hidden = self.dropout(torch.cat((hidden1, hidden2), dim=1))\n",
        "\n",
        "        return self.fc(hidden).squeeze(1)"
      ],
      "execution_count": null,
      "outputs": []
    },
    {
      "cell_type": "code",
      "metadata": {
        "id": "ggTiORJ-8t0J"
      },
      "source": [
        "emb_dim = 300\n",
        "hidden_dim = 256\n",
        "output_dim = 3\n",
        "n_layers = 2\n",
        "bidirectional = True\n",
        "dropout = 0.2\n",
        "PAD_IDX = 1\n",
        "patience = 4\n",
        "dropout_clf = 0.2"
      ],
      "execution_count": null,
      "outputs": []
    },
    {
      "cell_type": "code",
      "metadata": {
        "id": "mIiM_ZBt9_91"
      },
      "source": [
        "model = RNNBaseline(\n",
        "    vocab_size=vocab_size,\n",
        "    embedding_dim=emb_dim,\n",
        "    hidden_dim=hidden_dim,\n",
        "    output_dim=output_dim,\n",
        "    n_layers=n_layers,\n",
        "    bidirectional=bidirectional,\n",
        "    dropout=dropout,\n",
        "    pad_idx=PAD_IDX,\n",
        "    dropout_clf=dropout_clf\n",
        ")"
      ],
      "execution_count": null,
      "outputs": []
    },
    {
      "cell_type": "code",
      "metadata": {
        "id": "mFeG88M--NbD"
      },
      "source": [
        "model = model.to(device)"
      ],
      "execution_count": null,
      "outputs": []
    },
    {
      "cell_type": "code",
      "metadata": {
        "id": "olAS-mVI-VfT"
      },
      "source": [
        "opt = torch.optim.Adam(model.parameters())\n",
        "lr_scheduler = optim.lr_scheduler.CosineAnnealingLR(opt, T_max=111, eta_min=0.000001)\n",
        "loss_func = nn.CrossEntropyLoss()\n",
        "max_epochs = 20"
      ],
      "execution_count": null,
      "outputs": []
    },
    {
      "cell_type": "markdown",
      "metadata": {
        "id": "BJINufnfw93j"
      },
      "source": [
        "### Datasets and DataLoaders on corpus for CNN"
      ]
    },
    {
      "cell_type": "code",
      "metadata": {
        "id": "KqeXHG1iMSME"
      },
      "source": [
        "class TextDatasetCNN(Dataset):\n",
        "    def __init__(self, dir_json, stop_words, word2vec, max_length, tokenizer=None):\n",
        "        data = []\n",
        "        with open(dir_json) as json_file:\n",
        "            for line in json_file:\n",
        "                data.append(json.loads(line))\n",
        "        self.json_data = data\n",
        "        self.label_map = {'neutral':torch.tensor(0, dtype=torch.long),\n",
        "                          'contradiction':torch.tensor(1, dtype=torch.long),\n",
        "                          'entailment':torch.tensor(2, dtype=torch.long)}\n",
        "\n",
        "        self.stop_words = stop_words\n",
        "        self.tokenizer = tokenizer\n",
        "        self.max_length = max_length\n",
        "        self.word2vec = word2vec\n",
        "        self.stange_input = set()\n",
        "    \n",
        "    def __len__(self):\n",
        "        return len(self.json_data)\n",
        "\n",
        "    def __getitem__(self, ind):\n",
        "        data = self.json_data[ind]\n",
        "        try:\n",
        "            return {'seq1':self.preprocessing_sequence(data['sentence1']),\n",
        "                    'seq2':self.preprocessing_sequence(data['sentence2']),\n",
        "                    'label':self.label_map[data['gold_label']]}\n",
        "        except KeyError:\n",
        "            if ind not in self.stange_input:\n",
        "                self.stange_input.add(ind)\n",
        "            return self.__getitem__(ind+1)\n",
        "    \n",
        "    def preprocessing_sequence(self, seq):\n",
        "        if not self.tokenizer is None:\n",
        "            tokens = [t for t in self.tokenizer.tokenize(seq.lower())]\n",
        "        else:\n",
        "            tokens = [str(t.lemma_) for t in nlp(seq.lower())]\n",
        "        embedings = [self.word2vec.index2word.index(t) for t in tokens if t in self.word2vec]\n",
        "        if len(embedings) < self.max_length:\n",
        "            embedings.extend([1 for i in range(self.max_length - len(embedings))])\n",
        "        else:\n",
        "            embedings = embedings[:self.max_length]\n",
        "        return torch.from_numpy(np.array(embedings)).type(torch.long)"
      ],
      "execution_count": null,
      "outputs": []
    },
    {
      "cell_type": "code",
      "metadata": {
        "id": "67-pNYnwMSRR"
      },
      "source": [
        "train_datasetCNN = TextDatasetCNN(#dir_json='.//snli_1.0//snli_1.0_train.jsonl',\n",
        "                                  dir_json='.//train.jsonl',\n",
        "                            stop_words=stopwords.words('english'),\n",
        "                            tokenizer=WordPunctTokenizer(),\n",
        "                            word2vec=word2vec,\n",
        "                            max_length=10)\n",
        "val_datasetCNN = TextDatasetCNN(#'.//snli_1.0//snli_1.0_dev.jsonl',\n",
        "                                dir_json='.//val.jsonl',\n",
        "                          stop_words=stopwords.words('english'),\n",
        "                          tokenizer=WordPunctTokenizer(),\n",
        "                          word2vec=word2vec,\n",
        "                          max_length=10)\n",
        "test_datasetCNN = TextDatasetCNN(#'.//snli_1.0//snli_1.0_test.jsonl',\n",
        "                                 dir_json='.//test.jsonl',\n",
        "                           stop_words=stopwords.words('english'),\n",
        "                           tokenizer=WordPunctTokenizer(),\n",
        "                           word2vec=word2vec,\n",
        "                           max_length=10)"
      ],
      "execution_count": null,
      "outputs": []
    },
    {
      "cell_type": "code",
      "metadata": {
        "id": "--KoxE27k-dA"
      },
      "source": [
        "train_loaderCNN = DataLoader(train_datasetCNN, batch_size=5000, shuffle=True)\n",
        "val_loaderCNN = DataLoader(val_datasetCNN, batch_size=5000)\n",
        "test_loaderCNN = DataLoader(test_datasetCNN, batch_size=5000)"
      ],
      "execution_count": null,
      "outputs": []
    },
    {
      "cell_type": "markdown",
      "metadata": {
        "id": "ZtZsf3Fx5lJw"
      },
      "source": [
        "### Datasets and DataLoaders on corpus for RNN"
      ]
    },
    {
      "cell_type": "code",
      "metadata": {
        "id": "TAUqgDCb5nJS"
      },
      "source": [
        "class TextDatasetRNN(Dataset):\n",
        "    def __init__(self, dir_json, word2vec, max_length, tokenizer=None):\n",
        "        data = []\n",
        "        with open(dir_json) as json_file:\n",
        "            for line in json_file:\n",
        "                data.append(json.loads(line))\n",
        "        self.json_data = data\n",
        "        self.label_map = {'neutral':torch.tensor(0, dtype=torch.long),\n",
        "                          'contradiction':torch.tensor(1, dtype=torch.long),\n",
        "                          'entailment':torch.tensor(2, dtype=torch.long)}\n",
        "\n",
        "        self.tokenizer = tokenizer\n",
        "        self.max_length = max_length\n",
        "        self.word2vec = word2vec\n",
        "        self.stange_input = set()\n",
        "    \n",
        "    def __len__(self):\n",
        "        return len(self.json_data)\n",
        "\n",
        "    def __getitem__(self, ind):\n",
        "        data = self.json_data[ind]\n",
        "        try:\n",
        "            return {'seq1':self.preprocessing_sequence(data['sentence1'], ind),\n",
        "                    'seq2':self.preprocessing_sequence(data['sentence2'], ind),\n",
        "                    'label':self.label_map[data['gold_label']]}\n",
        "        except (ValueError, KeyError):\n",
        "            if ind < len(self):\n",
        "                return self.__getitem__(ind + 1)\n",
        "            else:\n",
        "                return self.__getitem__(ind - 1)\n",
        "\n",
        "    \n",
        "    def preprocessing_sequence(self, seq, ind):\n",
        "        tokens = [t for t in self.tokenizer.tokenize(seq.lower())]\n",
        "        embedings = [self.word2vec.index2word.index(t) for t in tokens if t in self.word2vec]\n",
        "        lenght = len(embedings)\n",
        "        if lenght == 0:\n",
        "            if not ind in self.stange_input:\n",
        "                self.stange_input.add(ind)\n",
        "            raise ValueError\n",
        "        if len(embedings) < self.max_length:\n",
        "            embedings.extend([1 for i in range(self.max_length - len(embedings))])\n",
        "        else:\n",
        "            lenght = self.max_length\n",
        "            embedings = embedings[:self.max_length]\n",
        "        return torch.from_numpy(np.array(embedings)).type(torch.long), torch.tensor(lenght, dtype=torch.long)"
      ],
      "execution_count": null,
      "outputs": []
    },
    {
      "cell_type": "code",
      "metadata": {
        "id": "gKWr55Pc5nJh"
      },
      "source": [
        "train_datasetRNN = TextDatasetRNN(dir_json='.//train.jsonl',\n",
        "                            tokenizer=WordPunctTokenizer(),\n",
        "                            word2vec=word2vec,\n",
        "                            max_length=10)\n",
        "val_datasetRNN = TextDatasetRNN('.//val.jsonl',\n",
        "                          tokenizer=WordPunctTokenizer(),\n",
        "                          word2vec=word2vec,\n",
        "                          max_length=10)\n",
        "test_datasetRNN = TextDatasetRNN('.//test.jsonl',\n",
        "                           tokenizer=WordPunctTokenizer(),\n",
        "                           word2vec=word2vec,\n",
        "                           max_length=10)"
      ],
      "execution_count": null,
      "outputs": []
    },
    {
      "cell_type": "code",
      "metadata": {
        "id": "MQ8Nz9G55nJh"
      },
      "source": [
        "train_loaderRNN = DataLoader(train_datasetRNN, batch_size=1000, shuffle=True)\n",
        "val_loaderRNN = DataLoader(val_datasetRNN, batch_size=1000)\n",
        "test_loaderRNN = DataLoader(test_datasetRNN, batch_size=1000)"
      ],
      "execution_count": null,
      "outputs": []
    },
    {
      "cell_type": "markdown",
      "metadata": {
        "id": "aV27VygexYYi"
      },
      "source": [
        "### Info about GPU"
      ]
    },
    {
      "cell_type": "code",
      "metadata": {
        "id": "8k7FLyPsLCwK"
      },
      "source": [
        "torch.cuda.empty_cache()"
      ],
      "execution_count": null,
      "outputs": []
    },
    {
      "cell_type": "code",
      "metadata": {
        "id": "Zq1txKIrLIZc",
        "colab": {
          "base_uri": "https://localhost:8080/"
        },
        "outputId": "e9a049fe-ac02-4683-a83e-06b705b35600"
      },
      "source": [
        "!nvidia-smi"
      ],
      "execution_count": null,
      "outputs": [
        {
          "output_type": "stream",
          "text": [
            "NVIDIA-SMI has failed because it couldn't communicate with the NVIDIA driver. Make sure that the latest NVIDIA driver is installed and running.\n",
            "\n"
          ],
          "name": "stdout"
        }
      ]
    },
    {
      "cell_type": "markdown",
      "metadata": {
        "id": "KJAuYKPzxN7G"
      },
      "source": [
        "### Training СNN"
      ]
    },
    {
      "cell_type": "code",
      "metadata": {
        "id": "191uW_LY2XUk"
      },
      "source": [
        "max_epochs = 30\n",
        "patience = 3"
      ],
      "execution_count": null,
      "outputs": []
    },
    {
      "cell_type": "code",
      "metadata": {
        "id": "zQZbJ791KXHb"
      },
      "source": [
        "min_loss = np.inf\n",
        "\n",
        "cur_patience = 0\n",
        "\n",
        "for epoch in range(1, max_epochs + 1):\n",
        "    train_loss = 0.0\n",
        "    model.train()\n",
        "    pbar = tqdm(enumerate(train_loaderCNN), total=len(train_loaderCNN), leave=False)\n",
        "    pbar.set_description(f\"Epoch {epoch}\")\n",
        "    if epoch > 5:\n",
        "        freeze_emb(True)\n",
        "    else:\n",
        "        freeze_emb()\n",
        "    for it, batch in pbar: \n",
        "        with torch.set_grad_enabled(True):\n",
        "            opt.zero_grad()\n",
        "\n",
        "            data = {\n",
        "                'seq1':batch['seq1'].to(device),\n",
        "                'seq2':batch['seq2'].to(device)\n",
        "            }\n",
        "            label = batch['label'].to(device)\n",
        "\n",
        "            output = model(data)\n",
        "            loss = loss_func(output, label)\n",
        "            loss.backward()\n",
        "            train_loss += loss.item()\n",
        "            opt.step()\n",
        "            lr_scheduler.step()\n",
        "\n",
        "    train_loss /= len(train_loaderCNN)\n",
        "\n",
        "    val_loss = 0.0\n",
        "    model.eval()\n",
        "    pbar = tqdm(enumerate(val_loaderCNN), total=len(val_loaderCNN), leave=False)\n",
        "    pbar.set_description(f\"Epoch {epoch}\")\n",
        "    for it, batch in pbar:\n",
        "        with torch.no_grad():\n",
        "            data = {\n",
        "                'seq1':batch['seq1'].to(device),\n",
        "                'seq2':batch['seq2'].to(device)\n",
        "            }\n",
        "            label = batch['label'].to(device)\n",
        "            output = model(data)\n",
        "\n",
        "            loss = loss_func(output, label)\n",
        "            val_loss += loss.item()\n",
        "\n",
        "    val_loss /= len(val_loaderCNN)\n",
        "\n",
        "    if val_loss < min_loss:\n",
        "        min_loss = val_loss\n",
        "        best_model = model.state_dict()\n",
        "        cur_patience = 0\n",
        "    else:\n",
        "        cur_patience += 1\n",
        "        if cur_patience == patience:\n",
        "            break\n",
        "    \n",
        "    print(f'Epoch: {epoch}, Training Loss: {train_loss:.6f}, Validation Loss: {val_loss:.6f}')\n",
        "model.load_state_dict(best_model)"
      ],
      "execution_count": null,
      "outputs": []
    },
    {
      "cell_type": "markdown",
      "metadata": {
        "id": "eqiCcfCrxfjH"
      },
      "source": [
        "### Accuracy on test CNN"
      ]
    },
    {
      "cell_type": "code",
      "metadata": {
        "colab": {
          "base_uri": "https://localhost:8080/"
        },
        "id": "wkLGIkJC89yl",
        "outputId": "e6fa4454-c79c-4df3-fca1-2141693f29ae"
      },
      "source": [
        "model.eval()"
      ],
      "execution_count": null,
      "outputs": [
        {
          "output_type": "execute_result",
          "data": {
            "text/plain": [
              "CNN(\n",
              "  (embedding): Embedding(400000, 300)\n",
              "  (conv_0_1): Conv1d(300, 64, kernel_size=(2,), stride=(2,), padding=(1,))\n",
              "  (conv_1_1): Conv1d(300, 64, kernel_size=(3,), stride=(2,), padding=(1,))\n",
              "  (conv_2_1): Conv1d(300, 64, kernel_size=(4,), stride=(2,), padding=(1,))\n",
              "  (conv_0_2): Conv1d(300, 64, kernel_size=(2,), stride=(2,), padding=(1,))\n",
              "  (conv_1_2): Conv1d(300, 64, kernel_size=(3,), stride=(2,), padding=(1,))\n",
              "  (conv_2_2): Conv1d(300, 64, kernel_size=(4,), stride=(2,), padding=(1,))\n",
              "  (fc): Linear(in_features=384, out_features=3, bias=True)\n",
              "  (dropout): Dropout(p=0.2, inplace=False)\n",
              ")"
            ]
          },
          "metadata": {
            "tags": []
          },
          "execution_count": 161
        }
      ]
    },
    {
      "cell_type": "code",
      "metadata": {
        "id": "8R8fNf2q2cRJ",
        "colab": {
          "base_uri": "https://localhost:8080/"
        },
        "outputId": "cd10169c-be0f-499b-d086-e6008c9b9d06"
      },
      "source": [
        "count = 0\n",
        "corr = 0\n",
        "for batch in test_loaderCNN:\n",
        "    with torch.no_grad():\n",
        "            data = {\n",
        "                'seq1':batch['seq1'].to(device),\n",
        "                'seq2':batch['seq2'].to(device)\n",
        "            }\n",
        "            label = batch['label'].to(device)\n",
        "            output = model(data)\n",
        "            pred = torch.argmax(output, dim=1)\n",
        "            count += pred.shape[0]\n",
        "            corr += torch.sum(pred == label).cpu()\n",
        "print(corr / (count))"
      ],
      "execution_count": null,
      "outputs": [
        {
          "output_type": "stream",
          "text": [
            "tensor(0.7072)\n"
          ],
          "name": "stdout"
        }
      ]
    },
    {
      "cell_type": "code",
      "metadata": {
        "colab": {
          "base_uri": "https://localhost:8080/"
        },
        "id": "aoprO5YZZ4Q-",
        "outputId": "515a5385-b8ee-4a38-aeef-4873f25a12cf"
      },
      "source": [
        "count = 0\n",
        "corr = 0\n",
        "for batch in val_loaderCNN:\n",
        "    with torch.no_grad():\n",
        "            data = {\n",
        "                'seq1':batch['seq1'].to(device),\n",
        "                'seq2':batch['seq2'].to(device)\n",
        "            }\n",
        "            label = batch['label'].to(device)\n",
        "            output = model(data)\n",
        "            pred = torch.argmax(output, dim=1)\n",
        "            count += pred.shape[0]\n",
        "            corr += torch.sum(pred == label).cpu()\n",
        "print(corr / (count))"
      ],
      "execution_count": null,
      "outputs": [
        {
          "output_type": "stream",
          "text": [
            "tensor(0.6972)\n"
          ],
          "name": "stdout"
        }
      ]
    },
    {
      "cell_type": "markdown",
      "metadata": {
        "id": "YFSxfuj23887"
      },
      "source": [
        "### Training RNN"
      ]
    },
    {
      "cell_type": "code",
      "metadata": {
        "id": "zEbN6FCy4Ev6"
      },
      "source": [
        "max_epochs = 30\n",
        "patience = 3"
      ],
      "execution_count": null,
      "outputs": []
    },
    {
      "cell_type": "code",
      "metadata": {
        "id": "87dgw6ok9hR0",
        "colab": {
          "base_uri": "https://localhost:8080/",
          "height": 121,
          "referenced_widgets": [
            "f12fc3719a604ed1a9eac84107e6fbb4",
            "652be47209b440ca9bb815ea59aade4b",
            "415bc17dc07041d2ba635ea1bb20a9e2",
            "465960da3e214e259163cfbdef0bcd2f",
            "7e964858fe294abb811b3a61f291d1b1",
            "60e8041bbaa74aabac032a16fe0b1808",
            "3d657fdabf9c4112a8bc7c434687c605",
            "926cf365884d432f89f23db5739e3599",
            "58419696658047e3919efad79e5395a7",
            "e1e220cfaddb460c9d7fd6dcad306232",
            "add0c24baacf413ca68bc47c03d6b201",
            "2356e8589c2f46328aae48c08988c35c",
            "62da17e6ca77412c92962fd0a51c0b84",
            "894d305d18fe42f386fc8c3b197e14cf",
            "d49c637f5dbc475b92751091ee678982",
            "7f57bfa0daa3462ba581f7515fdd2c2e",
            "a2b5631a18f746388ae489f43cca55d7",
            "e6f0710cf9d94bec8674c4425ce666e1",
            "90ef021207694c8d84cfa7b0e86dddb1",
            "e518fa40e7d54bc6ae8124a729601699",
            "4b3a7589a3d8454794b9ff463c67bd2c",
            "ad2ad4260bc84fbd985594c36b1e84f8",
            "983e2b71d1cd46b4af5b1e759754cce3",
            "0fe1963fd58a4ac897905762ac8fa9da",
            "4f5a757810d74763a9dbd47d8c8304d8",
            "a2513c00d7c54154a40837b3923f47c3",
            "bad9a8dfcf514e299c3d66c8e57c3669",
            "b99c20e212674cfdb85916d87f08c7e0",
            "5b84ecee0f2b4a3bbc0f30e2d8ab9a2a",
            "d29930c24ebb41039b2ca431290249a7",
            "5c14c299dc1e493bbd6d694edbcdd317",
            "bf15677f6de749938c70c3d9ae31f81b",
            "898c989b6c474fffaaac1379958a1715",
            "2cb9116d49fd459bbd7290316aa52b4c",
            "9c602116483546b9840113e7800b324e",
            "642865569de34562be0d016e5e77606d",
            "8ab96704de3142c3a4a30a7c98d0e631",
            "279a6e240b32463d9aa18954c07da353",
            "9293db39bbaa40919d1424344d213b03",
            "dca6a81188b241b2ac2338036b095645",
            "b6419a8823a54f5f9665d63e70c287a1",
            "91c10a2aad76417988181515b8078d0e",
            "ec18440e9ff14b869cfee92b1b18a674",
            "7ad78fb922c74203a9f9d0827fa5e218",
            "1e7aad60f2ed4ab0841c552c1fcf2595",
            "ddcc815700f847e9b0b63e57f6089b57",
            "ab58fd0859284efbbe1aca6d78ffb988",
            "4b7fd5b5e5ca444fa1cc1da037b46f62",
            "9cbcaf6150e740d1b716ed2a1400e0d6",
            "e578b0fec60a4d0c8f9c7b3be8d07512",
            "2e81ed9f59a447d6b4ad01ad962f0f3c",
            "7647bb6b987f40ea8dc98152778777e4",
            "3527f282f21443c79e562a3cf4076a78",
            "bfdcd2427a50478f94ab9a077e4d5c8d",
            "f86ef8916bb74f479f686e1f439c3759",
            "15956068a4a146a9ba19113ebcfd4983",
            "d44c2b0440284b259782340e99115183",
            "8828c7e85e6b47029f9d6b106fb640f4",
            "4d6cd71585744c5fa47c6424478b9d66",
            "48875604fb674c0984b200038bbe07cb",
            "d0220748d87443ebb7846a81193504eb",
            "89b21399a20349d39bb594247a76e6b5",
            "2148a912715242489738f7a8fda908a9",
            "8fe26afcc64e456298eeb502f2bcd53d",
            "4e67bfc32c9c403491e792dd9e767a1f",
            "7c18fc8a51234d158657d92dcc71e826",
            "b279b4a693de4ccbaf606f92a7d6a3a4",
            "ee1f45b3403f4859bc771927b78ca6e6",
            "0248bec54104492783aca2119b16201e",
            "9e3f916651a04a33b1857f64370b5f5d",
            "ffab6cba70f44c42bcffe18c1be43c36",
            "2d7c6800d7b84ca3ac34713d7a101513",
            "3a2a3d5a3afb4554b2108810448b5b6d",
            "efd4c3046f564ac489d237fb12fea18f",
            "9db44743b0e54f9b8d0590149a81b4d5",
            "a5af3a9895274563b738e8d293e341c5",
            "e675f6c4eebc4b718fe698644bcc3c4b",
            "15cb5e65b83b470897ece663b511e3e2",
            "90eafebea12f4bd5bd715fd8bc0e5410",
            "2781b5b1e71e4af387d23d42740044c0",
            "79cecd4b94b24ae28c462c582dbe4910",
            "20b0dbcd1f654e9e83511119079c96c3",
            "2bf83a95a2b74fe3b5600f105f63f301",
            "7a0b1c3196034ed08d5811ee261f25e6",
            "34ee398a8e5f414f82deb2eebcd53edc",
            "f187f154ef1642d692678a6bc6110021",
            "607828da459f42c4bb006c595d57565a",
            "e5176c87eb3a4c2abe18b3921af52d52",
            "8a2c18895ad4474480770f4de08fae46",
            "331ec94003054850b88e40713acb2627",
            "e37e9760ce1f4047ac015f1b95f7f75f",
            "3dbec500c50f41ac9bafc9594011dcf8",
            "6a4cae0f66c745b384e9266b69f3da8f",
            "7e65fde290204a63b54c1ce3678c248f",
            "b3357d7a6a4a40059dd85829bb24b88e",
            "695e14e6e3f74702ad9bc3a2e143d16c"
          ]
        },
        "outputId": "65355e5a-d3db-440d-ec7b-41999053d95c"
      },
      "source": [
        "min_loss = np.inf\n",
        "\n",
        "cur_patience = 0\n",
        "\n",
        "for epoch in range(1, max_epochs + 1):\n",
        "    train_loss = 0.0\n",
        "    model.train()\n",
        "    pbar = tqdm(enumerate(train_loaderRNN), total=len(train_loaderRNN), leave=False)\n",
        "    pbar.set_description(f\"Epoch {epoch}\")\n",
        "    for it, batch in pbar:\n",
        "        with torch.set_grad_enabled(True):\n",
        "\n",
        "            opt.zero_grad()\n",
        "            label = batch['label'].to(device)\n",
        "            data = {\n",
        "                'seq1':(\n",
        "                    batch['seq1'][0].to(device),\n",
        "                    batch['seq1'][1].cpu()\n",
        "                ),\n",
        "                'seq2':(\n",
        "                    batch['seq2'][0].to(device),\n",
        "                    batch['seq2'][1].cpu()                    \n",
        "                )\n",
        "            }\n",
        "            output = model(data)\n",
        "\n",
        "            loss = loss_func(output, label)\n",
        "            loss.backward()\n",
        "            train_loss += loss.item()\n",
        "\n",
        "            opt.step()\n",
        "\n",
        "    train_loss /= len(train_loaderRNN)\n",
        "\n",
        "    val_loss = 0.0\n",
        "    model.eval()\n",
        "\n",
        "    pbar = tqdm(enumerate(val_loaderRNN), total=len(val_loaderRNN), leave=False)\n",
        "    pbar.set_description(f\"Epoch {epoch}\")\n",
        "    for it, batch in pbar:\n",
        "        # model(it.to(device))\n",
        "\n",
        "        with torch.no_grad():\n",
        "            label = batch['label'].to(device)\n",
        "            data = {\n",
        "                'seq1':(\n",
        "                    batch['seq1'][0].to(device),\n",
        "                    batch['seq1'][1].cpu()\n",
        "                ),\n",
        "                'seq2':(\n",
        "                    batch['seq2'][0].to(device),\n",
        "                    batch['seq2'][1].cpu()                    \n",
        "                )\n",
        "            }\n",
        "            output = model(data)\n",
        "\n",
        "            loss = loss_func(output, label)\n",
        "            val_loss += loss.item()        \n",
        "\n",
        "    val_loss /= len(val_loaderRNN)\n",
        "    if val_loss < min_loss:\n",
        "        min_loss = val_loss\n",
        "        best_model = model.state_dict()\n",
        "    else:\n",
        "        cur_patience += 1\n",
        "        if cur_patience == patience:\n",
        "            cur_patience = 0\n",
        "            break\n",
        "    \n",
        "    print(f'Epoch: {epoch}, Training Loss: {train_loss:.6f}, Validation Loss: {val_loss:.6f}')\n",
        "model.load_state_dict(best_model)"
      ],
      "execution_count": null,
      "outputs": [
        {
          "output_type": "display_data",
          "data": {
            "application/vnd.jupyter.widget-view+json": {
              "model_id": "f12fc3719a604ed1a9eac84107e6fbb4",
              "version_minor": 0,
              "version_major": 2
            },
            "text/plain": [
              "HBox(children=(FloatProgress(value=0.0, max=551.0), HTML(value='')))"
            ]
          },
          "metadata": {
            "tags": []
          }
        },
        {
          "output_type": "display_data",
          "data": {
            "application/vnd.jupyter.widget-view+json": {
              "model_id": "58419696658047e3919efad79e5395a7",
              "version_minor": 0,
              "version_major": 2
            },
            "text/plain": [
              "HBox(children=(FloatProgress(value=0.0, max=10.0), HTML(value='')))"
            ]
          },
          "metadata": {
            "tags": []
          }
        },
        {
          "output_type": "stream",
          "text": [
            "Epoch: 1, Training Loss: 0.784173, Validation Loss: 0.754188\n"
          ],
          "name": "stdout"
        },
        {
          "output_type": "display_data",
          "data": {
            "application/vnd.jupyter.widget-view+json": {
              "model_id": "a2b5631a18f746388ae489f43cca55d7",
              "version_minor": 0,
              "version_major": 2
            },
            "text/plain": [
              "HBox(children=(FloatProgress(value=0.0, max=551.0), HTML(value='')))"
            ]
          },
          "metadata": {
            "tags": []
          }
        },
        {
          "output_type": "display_data",
          "data": {
            "application/vnd.jupyter.widget-view+json": {
              "model_id": "4f5a757810d74763a9dbd47d8c8304d8",
              "version_minor": 0,
              "version_major": 2
            },
            "text/plain": [
              "HBox(children=(FloatProgress(value=0.0, max=10.0), HTML(value='')))"
            ]
          },
          "metadata": {
            "tags": []
          }
        },
        {
          "output_type": "stream",
          "text": [
            "Epoch: 2, Training Loss: 0.735917, Validation Loss: 0.738447\n"
          ],
          "name": "stdout"
        },
        {
          "output_type": "display_data",
          "data": {
            "application/vnd.jupyter.widget-view+json": {
              "model_id": "898c989b6c474fffaaac1379958a1715",
              "version_minor": 0,
              "version_major": 2
            },
            "text/plain": [
              "HBox(children=(FloatProgress(value=0.0, max=551.0), HTML(value='')))"
            ]
          },
          "metadata": {
            "tags": []
          }
        },
        {
          "output_type": "display_data",
          "data": {
            "application/vnd.jupyter.widget-view+json": {
              "model_id": "b6419a8823a54f5f9665d63e70c287a1",
              "version_minor": 0,
              "version_major": 2
            },
            "text/plain": [
              "HBox(children=(FloatProgress(value=0.0, max=10.0), HTML(value='')))"
            ]
          },
          "metadata": {
            "tags": []
          }
        },
        {
          "output_type": "stream",
          "text": [
            "Epoch: 3, Training Loss: 0.698039, Validation Loss: 0.736609\n"
          ],
          "name": "stdout"
        },
        {
          "output_type": "display_data",
          "data": {
            "application/vnd.jupyter.widget-view+json": {
              "model_id": "9cbcaf6150e740d1b716ed2a1400e0d6",
              "version_minor": 0,
              "version_major": 2
            },
            "text/plain": [
              "HBox(children=(FloatProgress(value=0.0, max=551.0), HTML(value='')))"
            ]
          },
          "metadata": {
            "tags": []
          }
        },
        {
          "output_type": "display_data",
          "data": {
            "application/vnd.jupyter.widget-view+json": {
              "model_id": "d44c2b0440284b259782340e99115183",
              "version_minor": 0,
              "version_major": 2
            },
            "text/plain": [
              "HBox(children=(FloatProgress(value=0.0, max=10.0), HTML(value='')))"
            ]
          },
          "metadata": {
            "tags": []
          }
        },
        {
          "output_type": "stream",
          "text": [
            "Epoch: 4, Training Loss: 0.658207, Validation Loss: 0.739840\n"
          ],
          "name": "stdout"
        },
        {
          "output_type": "display_data",
          "data": {
            "application/vnd.jupyter.widget-view+json": {
              "model_id": "4e67bfc32c9c403491e792dd9e767a1f",
              "version_minor": 0,
              "version_major": 2
            },
            "text/plain": [
              "HBox(children=(FloatProgress(value=0.0, max=551.0), HTML(value='')))"
            ]
          },
          "metadata": {
            "tags": []
          }
        },
        {
          "output_type": "display_data",
          "data": {
            "application/vnd.jupyter.widget-view+json": {
              "model_id": "3a2a3d5a3afb4554b2108810448b5b6d",
              "version_minor": 0,
              "version_major": 2
            },
            "text/plain": [
              "HBox(children=(FloatProgress(value=0.0, max=10.0), HTML(value='')))"
            ]
          },
          "metadata": {
            "tags": []
          }
        },
        {
          "output_type": "stream",
          "text": [
            "Epoch: 5, Training Loss: 0.611051, Validation Loss: 0.769931\n"
          ],
          "name": "stdout"
        },
        {
          "output_type": "display_data",
          "data": {
            "application/vnd.jupyter.widget-view+json": {
              "model_id": "79cecd4b94b24ae28c462c582dbe4910",
              "version_minor": 0,
              "version_major": 2
            },
            "text/plain": [
              "HBox(children=(FloatProgress(value=0.0, max=551.0), HTML(value='')))"
            ]
          },
          "metadata": {
            "tags": []
          }
        },
        {
          "output_type": "display_data",
          "data": {
            "application/vnd.jupyter.widget-view+json": {
              "model_id": "8a2c18895ad4474480770f4de08fae46",
              "version_minor": 0,
              "version_major": 2
            },
            "text/plain": [
              "HBox(children=(FloatProgress(value=0.0, max=10.0), HTML(value='')))"
            ]
          },
          "metadata": {
            "tags": []
          }
        },
        {
          "output_type": "execute_result",
          "data": {
            "text/plain": [
              "<All keys matched successfully>"
            ]
          },
          "metadata": {
            "tags": []
          },
          "execution_count": 77
        }
      ]
    },
    {
      "cell_type": "markdown",
      "metadata": {
        "id": "NzFQdWffvHng"
      },
      "source": [
        "### Accuracy on RNN"
      ]
    },
    {
      "cell_type": "code",
      "metadata": {
        "colab": {
          "base_uri": "https://localhost:8080/"
        },
        "id": "Cx9vIcmIvQhg",
        "outputId": "ff44ff1d-edb5-44eb-e7dd-9ffc4fb33e47"
      },
      "source": [
        "count = 0\n",
        "corr = 0\n",
        "for batch in test_loaderRNN:\n",
        "    with torch.no_grad():\n",
        "        label = batch['label'].to(device)\n",
        "        data = {\n",
        "            'seq1':(\n",
        "                batch['seq1'][0].to(device),\n",
        "                batch['seq1'][1].cpu()\n",
        "                ),\n",
        "            'seq2':(\n",
        "                batch['seq2'][0].to(device),\n",
        "                batch['seq2'][1].cpu()                    \n",
        "            )\n",
        "            }\n",
        "        output = model(data)\n",
        "        pred = torch.argmax(output, dim=1)\n",
        "        count += pred.shape[0]\n",
        "        corr += torch.sum(pred == label).cpu()\n",
        "print(corr / (count))"
      ],
      "execution_count": null,
      "outputs": [
        {
          "output_type": "stream",
          "text": [
            "tensor(0.6779)\n"
          ],
          "name": "stdout"
        }
      ]
    },
    {
      "cell_type": "code",
      "metadata": {
        "colab": {
          "base_uri": "https://localhost:8080/"
        },
        "id": "Jp4AoEqgvQhj",
        "outputId": "9452b8ca-6693-411e-ab0c-262174dd0853"
      },
      "source": [
        "count = 0\n",
        "corr = 0\n",
        "for batch in val_loaderRNN:\n",
        "    with torch.no_grad():\n",
        "        label = batch['label'].to(device)\n",
        "        data = {\n",
        "            'seq1':(\n",
        "                batch['seq1'][0].to(device),\n",
        "                batch['seq1'][1].cpu()\n",
        "                ),\n",
        "            'seq2':(\n",
        "                batch['seq2'][0].to(device),\n",
        "                batch['seq2'][1].cpu()                    \n",
        "            )\n",
        "            }\n",
        "        output = model(data)\n",
        "        pred = torch.argmax(output, dim=1)\n",
        "        count += pred.shape[0]\n",
        "        corr += torch.sum(pred == label).cpu()\n",
        "print(corr / (count))"
      ],
      "execution_count": null,
      "outputs": [
        {
          "output_type": "stream",
          "text": [
            "tensor(0.6800)\n"
          ],
          "name": "stdout"
        }
      ]
    },
    {
      "cell_type": "markdown",
      "metadata": {
        "id": "7H_pJCZKxk0d"
      },
      "source": [
        "### Save model"
      ]
    },
    {
      "cell_type": "code",
      "metadata": {
        "id": "9MFKX3mwe-Bi"
      },
      "source": [
        "torch.save(model.state_dict(), './/modelRNN.pt')"
      ],
      "execution_count": null,
      "outputs": []
    },
    {
      "cell_type": "code",
      "metadata": {
        "colab": {
          "base_uri": "https://localhost:8080/",
          "height": 34
        },
        "id": "et3hhoiBZaLE",
        "outputId": "ce5dd9ce-220c-479e-91c8-110248290e00"
      },
      "source": [
        "shutil.copy('.//modelRNN.pt', './/drive//MyDrive//challenge//')"
      ],
      "execution_count": null,
      "outputs": [
        {
          "output_type": "execute_result",
          "data": {
            "application/vnd.google.colaboratory.intrinsic+json": {
              "type": "string"
            },
            "text/plain": [
              "'.//drive//MyDrive//challenge//modelRNN.pt'"
            ]
          },
          "metadata": {
            "tags": []
          },
          "execution_count": 84
        }
      ]
    },
    {
      "cell_type": "markdown",
      "metadata": {
        "id": "D4dHP2mLImTl"
      },
      "source": [
        "### Create Meta Alorithm"
      ]
    },
    {
      "cell_type": "code",
      "metadata": {
        "id": "DoG1fnN5Ir2b"
      },
      "source": [
        "model1 = model # CNN"
      ],
      "execution_count": null,
      "outputs": []
    },
    {
      "cell_type": "code",
      "metadata": {
        "id": "Lqnql2MUIxeG"
      },
      "source": [
        "model2 = model # RNN"
      ],
      "execution_count": null,
      "outputs": []
    },
    {
      "cell_type": "code",
      "metadata": {
        "colab": {
          "base_uri": "https://localhost:8080/",
          "height": 34
        },
        "id": "XNmdcdyTI47K",
        "outputId": "e88a1c97-a0ab-448d-da9c-5decff2484c0"
      },
      "source": [
        "shutil.copy('.//drive//MyDrive//challenge//modelCNN.pt', './/')\n",
        "shutil.copy('.//drive//MyDrive//challenge//modelRNN.pt', './/')"
      ],
      "execution_count": null,
      "outputs": [
        {
          "output_type": "execute_result",
          "data": {
            "application/vnd.google.colaboratory.intrinsic+json": {
              "type": "string"
            },
            "text/plain": [
              "'.//modelRNN.pt'"
            ]
          },
          "metadata": {
            "tags": []
          },
          "execution_count": 39
        }
      ]
    },
    {
      "cell_type": "code",
      "metadata": {
        "colab": {
          "base_uri": "https://localhost:8080/"
        },
        "id": "4w2IgIiFJZ3j",
        "outputId": "e5d88790-2c8c-45ed-c895-238cd25de13a"
      },
      "source": [
        "model1.load_state_dict(torch.load('.//modelCNN.pt', map_location=torch.device('cpu')))\n",
        "# model2.load_state_dict(torch.load('.//modelRNN.pt'))"
      ],
      "execution_count": null,
      "outputs": [
        {
          "output_type": "execute_result",
          "data": {
            "text/plain": [
              "<All keys matched successfully>"
            ]
          },
          "metadata": {
            "tags": []
          },
          "execution_count": 42
        }
      ]
    },
    {
      "cell_type": "code",
      "metadata": {
        "id": "fSyhazbL-37h",
        "colab": {
          "base_uri": "https://localhost:8080/"
        },
        "outputId": "43a868cf-9882-450b-9d1e-9a742fd9be27"
      },
      "source": [
        "model1.eval()\n",
        "# model2.eval()"
      ],
      "execution_count": null,
      "outputs": [
        {
          "output_type": "execute_result",
          "data": {
            "text/plain": [
              "CNN(\n",
              "  (embedding): Embedding(400000, 300)\n",
              "  (conv_0_1): Conv1d(300, 64, kernel_size=(2,), stride=(2,), padding=(1,))\n",
              "  (conv_1_1): Conv1d(300, 64, kernel_size=(3,), stride=(2,), padding=(1,))\n",
              "  (conv_2_1): Conv1d(300, 64, kernel_size=(4,), stride=(2,), padding=(1,))\n",
              "  (conv_0_2): Conv1d(300, 64, kernel_size=(2,), stride=(2,), padding=(1,))\n",
              "  (conv_1_2): Conv1d(300, 64, kernel_size=(3,), stride=(2,), padding=(1,))\n",
              "  (conv_2_2): Conv1d(300, 64, kernel_size=(4,), stride=(2,), padding=(1,))\n",
              "  (fc): Linear(in_features=384, out_features=3, bias=True)\n",
              "  (dropout): Dropout(p=0.2, inplace=False)\n",
              ")"
            ]
          },
          "metadata": {
            "tags": []
          },
          "execution_count": 43
        }
      ]
    },
    {
      "cell_type": "code",
      "metadata": {
        "id": "Q9g0GrhiKjKm"
      },
      "source": [
        "meta_train_X_dataRNN = np.array([[1, 2, 3, 4, 5, 6]])\n",
        "meta_train_y_dataRNN = np.array([])"
      ],
      "execution_count": null,
      "outputs": []
    },
    {
      "cell_type": "code",
      "metadata": {
        "colab": {
          "base_uri": "https://localhost:8080/",
          "height": 17,
          "referenced_widgets": [
            "8cc81e14c05b48d5aa4da03bc1aab48b",
            "bc68b03502b74182b0150df81d5b4e25",
            "1acd59dc0933488bb35dd802a3bffcb5",
            "6cdee5e7618c42a7b3fb4f9e40b1d70f",
            "2dae131e22134af6ae4cca6007fb0cb0",
            "b91ac9c3ba8b4023bb9bffe6fb7fa568",
            "a5c1e48ca48f4893af2044ec720b335b",
            "395115b1ab3d4d30889e48b3e7937197"
          ]
        },
        "id": "3NfeVbGZJybp",
        "outputId": "c309b6d4-52ac-4cae-bd1c-c3961286cdd2"
      },
      "source": [
        "with torch.no_grad():\n",
        "    pbar = tqdm(enumerate(train_loaderRNN), total=len(train_loaderRNN), leave=False)\n",
        "    for it, batch in pbar:\n",
        "        label = batch['label'].cpu()\n",
        "        data1 = {\n",
        "            'seq1':(\n",
        "                batch['seq1'][0].to(device)\n",
        "            ),\n",
        "            'seq2':(\n",
        "                batch['seq2'][0].to(device)\n",
        "            )            \n",
        "        }\n",
        "        data2 = {\n",
        "            'seq1':(\n",
        "                batch['seq1'][0].to(device),\n",
        "                batch['seq1'][1].cpu()\n",
        "            ),\n",
        "            'seq2':(\n",
        "                batch['seq2'][0].to(device),\n",
        "                batch['seq2'][1].cpu()\n",
        "            )\n",
        "        }\n",
        "        output1 = model1(data1)\n",
        "        output2 = model2(data2)\n",
        "        meta_train_X_dataRNN = np.vstack([meta_train_X_dataRNN, np.hstack((output1.cpu().numpy(), output2.cpu().numpy()))])\n",
        "        meta_train_y_dataRNN = np.concatenate([meta_train_y_dataRNN, label])"
      ],
      "execution_count": null,
      "outputs": [
        {
          "output_type": "display_data",
          "data": {
            "application/vnd.jupyter.widget-view+json": {
              "model_id": "8cc81e14c05b48d5aa4da03bc1aab48b",
              "version_minor": 0,
              "version_major": 2
            },
            "text/plain": [
              "HBox(children=(FloatProgress(value=0.0, max=551.0), HTML(value='')))"
            ]
          },
          "metadata": {
            "tags": []
          }
        }
      ]
    },
    {
      "cell_type": "code",
      "metadata": {
        "id": "U8-9v4hsPnSY"
      },
      "source": [
        "meta_val_X_data = np.array([[1, 2, 3, 4, 5, 6]])\n",
        "meta_val_y_data = np.array([])"
      ],
      "execution_count": null,
      "outputs": []
    },
    {
      "cell_type": "code",
      "metadata": {
        "colab": {
          "base_uri": "https://localhost:8080/",
          "height": 17,
          "referenced_widgets": [
            "e02f4fe91c204084b60362b6506327b4",
            "f8e485c078194f47921c6e58ecc861c3",
            "fe352d540abe4553a8d9b7fa12d6e818",
            "ff926e5036c849e790c6a37228ad2379",
            "a0f1804e10cc48bbb37a4fcaf02e0b4b",
            "99f456d84bdb4889825d8f95859287ce",
            "62d9171947484f93816c734e0873f367",
            "2078136eee734a13b82e0913b5f5a54f"
          ]
        },
        "id": "yUSkDsRcP6Um",
        "outputId": "a0d56315-3cc6-4bc3-e1d7-0f232f379f66"
      },
      "source": [
        "with torch.no_grad():\n",
        "    pbar = tqdm(enumerate(val_loaderRNN), total=len(val_loaderRNN), leave=False)\n",
        "    for it, batch in pbar:\n",
        "        label = batch['label'].cpu()\n",
        "        data1 = {\n",
        "            'seq1':(\n",
        "                batch['seq1'][0].to(device)\n",
        "            ),\n",
        "            'seq2':(\n",
        "                batch['seq2'][0].to(device)\n",
        "            )            \n",
        "        }\n",
        "        data2 = {\n",
        "            'seq1':(\n",
        "                batch['seq1'][0].to(device),\n",
        "                batch['seq1'][1].cpu()\n",
        "            ),\n",
        "            'seq2':(\n",
        "                batch['seq2'][0].to(device),\n",
        "                batch['seq2'][1].cpu()\n",
        "            )\n",
        "        }\n",
        "        output1 = model1(data1)\n",
        "        output2 = model2(data2)\n",
        "        meta_val_X_data = np.vstack([meta_val_X_data, np.hstack((output1.cpu().numpy(), output2.cpu().numpy()))])\n",
        "        meta_val_y_data = np.concatenate([meta_val_y_data, label])"
      ],
      "execution_count": null,
      "outputs": [
        {
          "output_type": "display_data",
          "data": {
            "application/vnd.jupyter.widget-view+json": {
              "model_id": "e02f4fe91c204084b60362b6506327b4",
              "version_minor": 0,
              "version_major": 2
            },
            "text/plain": [
              "HBox(children=(FloatProgress(value=0.0, max=10.0), HTML(value='')))"
            ]
          },
          "metadata": {
            "tags": []
          }
        }
      ]
    },
    {
      "cell_type": "code",
      "metadata": {
        "id": "OhF90TvDQLNx"
      },
      "source": [
        "meta_test_X_data = np.array([[1, 2, 3, 4, 5, 6]])\n",
        "meta_test_y_data = np.array([])"
      ],
      "execution_count": null,
      "outputs": []
    },
    {
      "cell_type": "code",
      "metadata": {
        "colab": {
          "base_uri": "https://localhost:8080/",
          "height": 17,
          "referenced_widgets": [
            "3b3db678f1844ae3963fda934111e254",
            "68939d4c5876451499cf9f197c19e664",
            "9301af38bb23423a80b3f6dbbe7f14fa",
            "d2fc54c30fc942c48312ef9d27d7a819",
            "e0d91939a4174b66b058ad4ad245ea30",
            "4cc7b1c956d94389b49a33d3476fb7f2",
            "62b1d53da1134c99a13b3af59c5ef578",
            "0e492b3c707a40bcaf0ba6e0c00a044e"
          ]
        },
        "id": "WJHJA5WuQPaE",
        "outputId": "977bda15-50aa-4b0a-c4ea-d285f30695df"
      },
      "source": [
        "with torch.no_grad():\n",
        "    pbar = tqdm(enumerate(test_loaderRNN), total=len(test_loaderRNN), leave=False)\n",
        "    for it, batch in pbar:\n",
        "        label = batch['label'].cpu()\n",
        "        data1 = {\n",
        "            'seq1':(\n",
        "                batch['seq1'][0].to(device)\n",
        "            ),\n",
        "            'seq2':(\n",
        "                batch['seq2'][0].to(device)\n",
        "            )            \n",
        "        }\n",
        "        data2 = {\n",
        "            'seq1':(\n",
        "                batch['seq1'][0].to(device),\n",
        "                batch['seq1'][1].cpu()\n",
        "            ),\n",
        "            'seq2':(\n",
        "                batch['seq2'][0].to(device),\n",
        "                batch['seq2'][1].cpu()\n",
        "            )\n",
        "        }\n",
        "        output1 = model1(data1)\n",
        "        output2 = model2(data2)\n",
        "        meta_test_X_data = np.vstack([meta_test_X_data, np.hstack((output1.cpu().numpy(), output2.cpu().numpy()))])\n",
        "        meta_test_y_data = np.concatenate([meta_test_y_data, label])"
      ],
      "execution_count": null,
      "outputs": [
        {
          "output_type": "display_data",
          "data": {
            "application/vnd.jupyter.widget-view+json": {
              "model_id": "3b3db678f1844ae3963fda934111e254",
              "version_minor": 0,
              "version_major": 2
            },
            "text/plain": [
              "HBox(children=(FloatProgress(value=0.0, max=10.0), HTML(value='')))"
            ]
          },
          "metadata": {
            "tags": []
          }
        }
      ]
    },
    {
      "cell_type": "code",
      "metadata": {
        "id": "4f2nAlDnQeTH"
      },
      "source": [
        "import pandas as pd\n",
        "from xgboost import XGBClassifier\n",
        "from sklearn.metrics import f1_score, classification_report"
      ],
      "execution_count": null,
      "outputs": []
    },
    {
      "cell_type": "code",
      "metadata": {
        "id": "FkMQc70wZstF"
      },
      "source": [
        "train_df = pd.DataFrame(np.hstack((meta_train_X_dataRNN[1:, :], meta_train_y_dataRNN[:, np.newaxis])))"
      ],
      "execution_count": null,
      "outputs": []
    },
    {
      "cell_type": "code",
      "metadata": {
        "id": "kXiwmmE6aRBS"
      },
      "source": [
        "val_df = pd.DataFrame(np.hstack((meta_val_X_data[1:, :], meta_val_y_data[:, np.newaxis])))"
      ],
      "execution_count": null,
      "outputs": []
    },
    {
      "cell_type": "code",
      "metadata": {
        "id": "Ys3s0IzKaZ9V"
      },
      "source": [
        "test_df = pd.DataFrame(np.hstack((meta_test_X_data[1:, :], meta_test_y_data[:, np.newaxis])))"
      ],
      "execution_count": null,
      "outputs": []
    },
    {
      "cell_type": "code",
      "metadata": {
        "id": "mo8aYuVLajxt"
      },
      "source": [
        "train_df.to_csv('train_meta.csv')\n",
        "val_df.to_csv('val_meta.csv')\n",
        "test_df.to_csv('test_meta.csv')"
      ],
      "execution_count": null,
      "outputs": []
    },
    {
      "cell_type": "code",
      "metadata": {
        "colab": {
          "base_uri": "https://localhost:8080/",
          "height": 35
        },
        "id": "tmvtiY11bH-u",
        "outputId": "ef5b0582-f40e-4c91-ad9a-c7de6149b1cf"
      },
      "source": [
        "shutil.copy('.//train_meta.csv', './/drive//MyDrive//challenge//')\n",
        "shutil.copy('.//val_meta.csv', './/drive//MyDrive//challenge//')\n",
        "shutil.copy('.//test_meta.csv', './/drive//MyDrive//challenge//')"
      ],
      "execution_count": null,
      "outputs": [
        {
          "output_type": "execute_result",
          "data": {
            "application/vnd.google.colaboratory.intrinsic+json": {
              "type": "string"
            },
            "text/plain": [
              "'.//drive//MyDrive//challenge//test_meta.csv'"
            ]
          },
          "metadata": {
            "tags": []
          },
          "execution_count": 76
        }
      ]
    },
    {
      "cell_type": "code",
      "metadata": {
        "id": "fDe3eMcWQn0J"
      },
      "source": [
        "xgbclf = XGBClassifier(n_estimators=1000)"
      ],
      "execution_count": null,
      "outputs": []
    },
    {
      "cell_type": "code",
      "metadata": {
        "colab": {
          "base_uri": "https://localhost:8080/"
        },
        "id": "DGhuLKD8QrVX",
        "outputId": "c02fff36-8403-4817-c149-bc7dac40d8fc"
      },
      "source": [
        "xgbclf.fit(meta_train_X_dataRNN[1:, :], meta_train_y_dataRNN)"
      ],
      "execution_count": null,
      "outputs": [
        {
          "output_type": "execute_result",
          "data": {
            "text/plain": [
              "XGBClassifier(base_score=0.5, booster='gbtree', colsample_bylevel=1,\n",
              "              colsample_bynode=1, colsample_bytree=1, gamma=0,\n",
              "              learning_rate=0.1, max_delta_step=0, max_depth=3,\n",
              "              min_child_weight=1, missing=None, n_estimators=1000, n_jobs=1,\n",
              "              nthread=None, objective='multi:softprob', random_state=0,\n",
              "              reg_alpha=0, reg_lambda=1, scale_pos_weight=1, seed=None,\n",
              "              silent=None, subsample=1, verbosity=1)"
            ]
          },
          "metadata": {
            "tags": []
          },
          "execution_count": 79
        }
      ]
    },
    {
      "cell_type": "code",
      "metadata": {
        "colab": {
          "base_uri": "https://localhost:8080/"
        },
        "id": "o-h0r9NJRUVK",
        "outputId": "a3c95cef-53e4-4f32-f3e0-5f00c17ae034"
      },
      "source": [
        "xgbclf.score(meta_val_X_data[1:, :], meta_val_y_data)"
      ],
      "execution_count": null,
      "outputs": [
        {
          "output_type": "execute_result",
          "data": {
            "text/plain": [
              "0.7064"
            ]
          },
          "metadata": {
            "tags": []
          },
          "execution_count": 80
        }
      ]
    },
    {
      "cell_type": "code",
      "metadata": {
        "colab": {
          "base_uri": "https://localhost:8080/"
        },
        "id": "zmDZKg9uRgU0",
        "outputId": "469b3df9-553c-4d3e-fcff-80b913f55e67"
      },
      "source": [
        "xgbclf.score(meta_test_X_data[1:, :], meta_test_y_data)"
      ],
      "execution_count": null,
      "outputs": [
        {
          "output_type": "execute_result",
          "data": {
            "text/plain": [
              "0.7026"
            ]
          },
          "metadata": {
            "tags": []
          },
          "execution_count": 81
        }
      ]
    },
    {
      "cell_type": "code",
      "metadata": {
        "colab": {
          "base_uri": "https://localhost:8080/"
        },
        "id": "egS1dtQyfSN6",
        "outputId": "39df23af-6aa8-4db3-88fe-aeb114fd6d63"
      },
      "source": [
        "f1_score(meta_test_y_data, xgbclf.predict(meta_test_X_data[1:, :]), average='weighted')"
      ],
      "execution_count": null,
      "outputs": [
        {
          "output_type": "execute_result",
          "data": {
            "text/plain": [
              "0.7024548642879651"
            ]
          },
          "metadata": {
            "tags": []
          },
          "execution_count": 84
        }
      ]
    },
    {
      "cell_type": "code",
      "metadata": {
        "colab": {
          "base_uri": "https://localhost:8080/"
        },
        "id": "GECisizHf_JG",
        "outputId": "c16effa6-3535-4676-d73b-b8468f03330b"
      },
      "source": [
        "print(classification_report(meta_test_y_data, xgbclf.predict(meta_test_X_data[1:, :])))"
      ],
      "execution_count": null,
      "outputs": [
        {
          "output_type": "stream",
          "text": [
            "              precision    recall  f1-score   support\n",
            "\n",
            "         0.0       0.68      0.67      0.68      3265\n",
            "         1.0       0.70      0.71      0.71      3307\n",
            "         2.0       0.72      0.73      0.72      3428\n",
            "\n",
            "    accuracy                           0.70     10000\n",
            "   macro avg       0.70      0.70      0.70     10000\n",
            "weighted avg       0.70      0.70      0.70     10000\n",
            "\n"
          ],
          "name": "stdout"
        }
      ]
    },
    {
      "cell_type": "code",
      "metadata": {
        "colab": {
          "base_uri": "https://localhost:8080/"
        },
        "id": "0G3Zyy2AgJ4F",
        "outputId": "4804904f-62e3-4bc9-9194-1f1cb903970c"
      },
      "source": [
        "print(classification_report(meta_val_y_data, xgbclf.predict(meta_val_X_data[1:, :])))"
      ],
      "execution_count": null,
      "outputs": [
        {
          "output_type": "stream",
          "text": [
            "              precision    recall  f1-score   support\n",
            "\n",
            "         0.0       0.69      0.67      0.68      3274\n",
            "         1.0       0.71      0.72      0.71      3343\n",
            "         2.0       0.72      0.73      0.73      3383\n",
            "\n",
            "    accuracy                           0.71     10000\n",
            "   macro avg       0.71      0.71      0.71     10000\n",
            "weighted avg       0.71      0.71      0.71     10000\n",
            "\n"
          ],
          "name": "stdout"
        }
      ]
    },
    {
      "cell_type": "code",
      "metadata": {
        "id": "hcAkXwXOxQOc"
      },
      "source": [
        "with open('train.jsonl') as preprocessed, open('.//snli_1.0//snli_1.0_train.jsonl') as file_json:\n",
        "    data_before = []\n",
        "    for i, line in enumerate(file_json):\n",
        "        data_before = json.loads(line)\n",
        "        if i > 0: \n",
        "            break\n",
        "    data_after = []\n",
        "    for i, line in enumerate(preprocessed):\n",
        "        data_after = json.loads(line)\n",
        "        if i > 0: \n",
        "            break            "
      ],
      "execution_count": null,
      "outputs": []
    },
    {
      "cell_type": "code",
      "metadata": {
        "id": "o4e-91m5yJGA"
      },
      "source": [
        "from pprint import pprint"
      ],
      "execution_count": null,
      "outputs": []
    },
    {
      "cell_type": "code",
      "metadata": {
        "colab": {
          "base_uri": "https://localhost:8080/"
        },
        "id": "YELPXeFnyNFu",
        "outputId": "10a6f54d-1374-4635-fd49-88c63aa7d79c"
      },
      "source": [
        "print('Data before:')\n",
        "pprint(data_before)"
      ],
      "execution_count": null,
      "outputs": [
        {
          "output_type": "stream",
          "text": [
            "Data before:\n",
            "{'annotator_labels': ['contradiction'],\n",
            " 'captionID': '3416050480.jpg#4',\n",
            " 'gold_label': 'contradiction',\n",
            " 'pairID': '3416050480.jpg#4r1c',\n",
            " 'sentence1': 'A person on a horse jumps over a broken down airplane.',\n",
            " 'sentence1_binary_parse': '( ( ( A person ) ( on ( a horse ) ) ) ( ( jumps ( '\n",
            "                           'over ( a ( broken ( down airplane ) ) ) ) ) . ) )',\n",
            " 'sentence1_parse': '(ROOT (S (NP (NP (DT A) (NN person)) (PP (IN on) (NP (DT '\n",
            "                    'a) (NN horse)))) (VP (VBZ jumps) (PP (IN over) (NP (DT a) '\n",
            "                    '(JJ broken) (JJ down) (NN airplane)))) (. .)))',\n",
            " 'sentence2': 'A person is at a diner, ordering an omelette.',\n",
            " 'sentence2_binary_parse': '( ( A person ) ( ( ( ( is ( at ( a diner ) ) ) , ) '\n",
            "                           '( ordering ( an omelette ) ) ) . ) )',\n",
            " 'sentence2_parse': '(ROOT (S (NP (DT A) (NN person)) (VP (VBZ is) (PP (IN at) '\n",
            "                    '(NP (DT a) (NN diner))) (, ,) (S (VP (VBG ordering) (NP '\n",
            "                    '(DT an) (NN omelette))))) (. .)))'}\n",
            "Data after:\n",
            "{'gold_label': 'contradiction',\n",
            " 'sentence1': 'a person on a horse jump over a broken down airplane .',\n",
            " 'sentence2': 'a person be at a diner , order an omelette .'}\n"
          ],
          "name": "stdout"
        }
      ]
    },
    {
      "cell_type": "code",
      "metadata": {
        "colab": {
          "base_uri": "https://localhost:8080/"
        },
        "id": "vImSRKv3zHzx",
        "outputId": "18e07e44-373d-4fe0-fd94-cc7f352a7190"
      },
      "source": [
        "print('Data after:')\n",
        "pprint(data_after)"
      ],
      "execution_count": null,
      "outputs": [
        {
          "output_type": "stream",
          "text": [
            "Data after:\n",
            "{'gold_label': 'contradiction',\n",
            " 'sentence1': 'a person on a horse jump over a broken down airplane .',\n",
            " 'sentence2': 'a person be at a diner , order an omelette .'}\n"
          ],
          "name": "stdout"
        }
      ]
    },
    {
      "cell_type": "code",
      "metadata": {
        "id": "R4s9RX3z3Ub-"
      },
      "source": [
        "preds = np.array([])\n",
        "true = np.array([])"
      ],
      "execution_count": null,
      "outputs": []
    },
    {
      "cell_type": "code",
      "metadata": {
        "colab": {
          "base_uri": "https://localhost:8080/",
          "height": 17,
          "referenced_widgets": [
            "b2ae712f5ba944dcb1445c8403505e6a",
            "b556372cc8a240afb097c94c0d291bbc",
            "646b720adbfa44838206cb33dcad21a7",
            "36079a11c84a46dca7f07c4f7dccfd7d",
            "2b725c6eb8bb4adfa9692837572b4cfc",
            "fbd2604258ee40e6a00e2eea250b8550",
            "7598cc741f0a4d57b9c99561287248ff",
            "8794c48feab54efa8bff3699e871e7be"
          ]
        },
        "id": "FNgdnq5T3O1A",
        "outputId": "eecab27b-bbf6-43b9-a097-eb089a6ec3a6"
      },
      "source": [
        "with torch.no_grad():\n",
        "    pbar = tqdm(enumerate(test_loaderRNN), total=len(test_loaderRNN), leave=False)\n",
        "    for it, batch in pbar:\n",
        "        label = batch['label'].cpu()\n",
        "        data2 = {\n",
        "            'seq1':(\n",
        "                batch['seq1'][0].to(device),\n",
        "                batch['seq1'][1].cpu()\n",
        "            ),\n",
        "            'seq2':(\n",
        "                batch['seq2'][0].to(device),\n",
        "                batch['seq2'][1].cpu()\n",
        "            )\n",
        "        }\n",
        "        data1 = {\n",
        "            'seq1':(\n",
        "                batch['seq1'][0].to(device)\n",
        "            ),\n",
        "            'seq2':(\n",
        "                batch['seq2'][0].to(device)\n",
        "            )            \n",
        "        }        \n",
        "        output1 = model1(data1)\n",
        "        preds = np.concatenate((preds, torch.argmax(output1, dim=1).cpu().numpy()))\n",
        "        true = np.concatenate((true, label.numpy()))"
      ],
      "execution_count": null,
      "outputs": [
        {
          "output_type": "display_data",
          "data": {
            "application/vnd.jupyter.widget-view+json": {
              "model_id": "b2ae712f5ba944dcb1445c8403505e6a",
              "version_minor": 0,
              "version_major": 2
            },
            "text/plain": [
              "HBox(children=(FloatProgress(value=0.0, max=10.0), HTML(value='')))"
            ]
          },
          "metadata": {
            "tags": []
          }
        },
        {
          "output_type": "stream",
          "text": [
            "\r"
          ],
          "name": "stdout"
        }
      ]
    },
    {
      "cell_type": "code",
      "metadata": {
        "id": "2FkJ7khF4dM6"
      },
      "source": [
        "import pandas as pd"
      ],
      "execution_count": null,
      "outputs": []
    },
    {
      "cell_type": "code",
      "metadata": {
        "colab": {
          "base_uri": "https://localhost:8080/"
        },
        "id": "TGuYCdW-N3Jx",
        "outputId": "bdb6e409-02d9-4fb3-9cc2-25242a285873"
      },
      "source": [
        "preds.shape"
      ],
      "execution_count": null,
      "outputs": [
        {
          "output_type": "execute_result",
          "data": {
            "text/plain": [
              "(10000,)"
            ]
          },
          "metadata": {
            "tags": []
          },
          "execution_count": 54
        }
      ]
    },
    {
      "cell_type": "code",
      "metadata": {
        "id": "inVF0g4ONwtb"
      },
      "source": [
        "test_df = pd.DataFrame(preds.astype(np.int16), columns=['class'])"
      ],
      "execution_count": null,
      "outputs": []
    },
    {
      "cell_type": "code",
      "metadata": {
        "id": "a0HWU0VLOxVn",
        "colab": {
          "base_uri": "https://localhost:8080/",
          "height": 416
        },
        "outputId": "67fd9714-b509-4d04-df71-c6f23bfd2cff"
      },
      "source": [
        "test_df"
      ],
      "execution_count": null,
      "outputs": [
        {
          "output_type": "execute_result",
          "data": {
            "text/html": [
              "<div>\n",
              "<style scoped>\n",
              "    .dataframe tbody tr th:only-of-type {\n",
              "        vertical-align: middle;\n",
              "    }\n",
              "\n",
              "    .dataframe tbody tr th {\n",
              "        vertical-align: top;\n",
              "    }\n",
              "\n",
              "    .dataframe thead th {\n",
              "        text-align: right;\n",
              "    }\n",
              "</style>\n",
              "<table border=\"1\" class=\"dataframe\">\n",
              "  <thead>\n",
              "    <tr style=\"text-align: right;\">\n",
              "      <th></th>\n",
              "      <th>class</th>\n",
              "    </tr>\n",
              "  </thead>\n",
              "  <tbody>\n",
              "    <tr>\n",
              "      <th>0</th>\n",
              "      <td>2</td>\n",
              "    </tr>\n",
              "    <tr>\n",
              "      <th>1</th>\n",
              "      <td>2</td>\n",
              "    </tr>\n",
              "    <tr>\n",
              "      <th>2</th>\n",
              "      <td>2</td>\n",
              "    </tr>\n",
              "    <tr>\n",
              "      <th>3</th>\n",
              "      <td>2</td>\n",
              "    </tr>\n",
              "    <tr>\n",
              "      <th>4</th>\n",
              "      <td>0</td>\n",
              "    </tr>\n",
              "    <tr>\n",
              "      <th>...</th>\n",
              "      <td>...</td>\n",
              "    </tr>\n",
              "    <tr>\n",
              "      <th>9995</th>\n",
              "      <td>1</td>\n",
              "    </tr>\n",
              "    <tr>\n",
              "      <th>9996</th>\n",
              "      <td>2</td>\n",
              "    </tr>\n",
              "    <tr>\n",
              "      <th>9997</th>\n",
              "      <td>1</td>\n",
              "    </tr>\n",
              "    <tr>\n",
              "      <th>9998</th>\n",
              "      <td>2</td>\n",
              "    </tr>\n",
              "    <tr>\n",
              "      <th>9999</th>\n",
              "      <td>0</td>\n",
              "    </tr>\n",
              "  </tbody>\n",
              "</table>\n",
              "<p>10000 rows × 1 columns</p>\n",
              "</div>"
            ],
            "text/plain": [
              "      class\n",
              "0         2\n",
              "1         2\n",
              "2         2\n",
              "3         2\n",
              "4         0\n",
              "...     ...\n",
              "9995      1\n",
              "9996      2\n",
              "9997      1\n",
              "9998      2\n",
              "9999      0\n",
              "\n",
              "[10000 rows x 1 columns]"
            ]
          },
          "metadata": {
            "tags": []
          },
          "execution_count": 60
        }
      ]
    },
    {
      "cell_type": "code",
      "metadata": {
        "id": "a0ggZzRwOArG"
      },
      "source": [
        "test_df.to_csv('test.csv')"
      ],
      "execution_count": null,
      "outputs": []
    }
  ]
}